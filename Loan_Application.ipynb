{
 "cells": [
  {
   "cell_type": "markdown",
   "metadata": {
    "toc": true
   },
   "source": [
    "<h1>Table of Contents<span class=\"tocSkip\"></span></h1>\n",
    "<div class=\"toc\"><ul class=\"toc-item\"><li><span><a href=\"#Preprocess-Data\" data-toc-modified-id=\"Preprocess-Data-1\"><span class=\"toc-item-num\">1&nbsp;&nbsp;</span>Preprocess Data</a></span><ul class=\"toc-item\"><li><span><a href=\"#Select-18-Features\" data-toc-modified-id=\"Select-18-Features-1.1\"><span class=\"toc-item-num\">1.1&nbsp;&nbsp;</span>Select 18 Features</a></span><ul class=\"toc-item\"><li><span><a href=\"#Create-dataframe-with-selected-features\" data-toc-modified-id=\"Create-dataframe-with-selected-features-1.1.1\"><span class=\"toc-item-num\">1.1.1&nbsp;&nbsp;</span>Create dataframe with selected features</a></span></li><li><span><a href=\"#Notable-Values,-dtypes,-Potential-Issues\" data-toc-modified-id=\"Notable-Values,-dtypes,-Potential-Issues-1.1.2\"><span class=\"toc-item-num\">1.1.2&nbsp;&nbsp;</span>Notable Values, dtypes, Potential Issues</a></span></li></ul></li><li><span><a href=\"#Randomly-Select-40,000-'0'-values-from-'TARGET'\" data-toc-modified-id=\"Randomly-Select-40,000-'0'-values-from-'TARGET'-1.2\"><span class=\"toc-item-num\">1.2&nbsp;&nbsp;</span>Randomly Select 40,000 '0' values from 'TARGET'</a></span></li><li><span><a href=\"#Clean-up-null-and-missing-values\" data-toc-modified-id=\"Clean-up-null-and-missing-values-1.3\"><span class=\"toc-item-num\">1.3&nbsp;&nbsp;</span>Clean up null and missing values</a></span><ul class=\"toc-item\"><li><span><a href=\"#Decisions-for-null-values\" data-toc-modified-id=\"Decisions-for-null-values-1.3.1\"><span class=\"toc-item-num\">1.3.1&nbsp;&nbsp;</span>Decisions for null values</a></span></li><li><span><a href=\"#Replace-missing-values-for-AMT_GOODS_PRICE-&amp;-AMT_ANNUITY-with-mean\" data-toc-modified-id=\"Replace-missing-values-for-AMT_GOODS_PRICE-&amp;-AMT_ANNUITY-with-mean-1.3.2\"><span class=\"toc-item-num\">1.3.2&nbsp;&nbsp;</span>Replace missing values for AMT_GOODS_PRICE &amp; AMT_ANNUITY with mean</a></span></li></ul></li><li><span><a href=\"#Separate-Numericals-&amp;-Categoricals\" data-toc-modified-id=\"Separate-Numericals-&amp;-Categoricals-1.4\"><span class=\"toc-item-num\">1.4&nbsp;&nbsp;</span>Separate Numericals &amp; Categoricals</a></span><ul class=\"toc-item\"><li><span><a href=\"#Numericals-interpretation-and-preprocessing&quot;\" data-toc-modified-id=\"Numericals-interpretation-and-preprocessing&quot;-1.4.1\"><span class=\"toc-item-num\">1.4.1&nbsp;&nbsp;</span>Numericals interpretation and preprocessing\"</a></span><ul class=\"toc-item\"><li><span><a href=\"#Summary-of-numericals\" data-toc-modified-id=\"Summary-of-numericals-1.4.1.1\"><span class=\"toc-item-num\">1.4.1.1&nbsp;&nbsp;</span>Summary of numericals</a></span></li></ul></li><li><span><a href=\"#Categoricals\" data-toc-modified-id=\"Categoricals-1.4.2\"><span class=\"toc-item-num\">1.4.2&nbsp;&nbsp;</span>Categoricals</a></span><ul class=\"toc-item\"><li><span><a href=\"#Organization-Type-not-useful-for-ohe\" data-toc-modified-id=\"Organization-Type-not-useful-for-ohe-1.4.2.1\"><span class=\"toc-item-num\">1.4.2.1&nbsp;&nbsp;</span>Organization Type not useful for ohe</a></span></li><li><span><a href=\"#One-Hot-Encode-Categoricals\" data-toc-modified-id=\"One-Hot-Encode-Categoricals-1.4.2.2\"><span class=\"toc-item-num\">1.4.2.2&nbsp;&nbsp;</span>One Hot Encode Categoricals</a></span></li></ul></li></ul></li><li><span><a href=\"#Remove-Outliers\" data-toc-modified-id=\"Remove-Outliers-1.5\"><span class=\"toc-item-num\">1.5&nbsp;&nbsp;</span>Remove Outliers</a></span><ul class=\"toc-item\"><li><span><a href=\"#Removing-outliers-Summary\" data-toc-modified-id=\"Removing-outliers-Summary-1.5.1\"><span class=\"toc-item-num\">1.5.1&nbsp;&nbsp;</span>Removing outliers Summary</a></span></li></ul></li></ul></li><li><span><a href=\"#Baseline-Model---Logistic-Regression\" data-toc-modified-id=\"Baseline-Model---Logistic-Regression-2\"><span class=\"toc-item-num\">2&nbsp;&nbsp;</span>Baseline Model - Logistic Regression</a></span><ul class=\"toc-item\"><li><span><a href=\"#Rate-of-loan-approval-for-train-and-test-sets.\" data-toc-modified-id=\"Rate-of-loan-approval-for-train-and-test-sets.-2.1\"><span class=\"toc-item-num\">2.1&nbsp;&nbsp;</span>Rate of loan approval for train and test sets.</a></span></li><li><span><a href=\"#Fit-a-model\" data-toc-modified-id=\"Fit-a-model-2.2\"><span class=\"toc-item-num\">2.2&nbsp;&nbsp;</span>Fit a model</a></span></li><li><span><a href=\"#Rate-of-correct-predictions-on-the-training-set.\" data-toc-modified-id=\"Rate-of-correct-predictions-on-the-training-set.-2.3\"><span class=\"toc-item-num\">2.3&nbsp;&nbsp;</span>Rate of correct predictions on the training set.</a></span></li><li><span><a href=\"#Rate-of-correct-predictions-on-the-test-set.\" data-toc-modified-id=\"Rate-of-correct-predictions-on-the-test-set.-2.4\"><span class=\"toc-item-num\">2.4&nbsp;&nbsp;</span>Rate of correct predictions on the test set.</a></span></li><li><span><a href=\"#Analysis-of-Baseline:\" data-toc-modified-id=\"Analysis-of-Baseline:-2.5\"><span class=\"toc-item-num\">2.5&nbsp;&nbsp;</span>Analysis of Baseline:</a></span></li></ul></li><li><span><a href=\"#Second-Model---improved-Logistic-Regression\" data-toc-modified-id=\"Second-Model---improved-Logistic-Regression-3\"><span class=\"toc-item-num\">3&nbsp;&nbsp;</span>Second Model - improved Logistic Regression</a></span><ul class=\"toc-item\"><li><span><a href=\"#Add-an-intercept\" data-toc-modified-id=\"Add-an-intercept-3.1\"><span class=\"toc-item-num\">3.1&nbsp;&nbsp;</span>Add an intercept</a></span></li><li><span><a href=\"#Add-the-regularization-parameter\" data-toc-modified-id=\"Add-the-regularization-parameter-3.2\"><span class=\"toc-item-num\">3.2&nbsp;&nbsp;</span>Add the regularization parameter</a></span></li><li><span><a href=\"#Analysis-of-Second-Model:\" data-toc-modified-id=\"Analysis-of-Second-Model:-3.3\"><span class=\"toc-item-num\">3.3&nbsp;&nbsp;</span>Analysis of Second Model:</a></span></li></ul></li><li><span><a href=\"#Third-Model---final-Logistic-Regression\" data-toc-modified-id=\"Third-Model---final-Logistic-Regression-4\"><span class=\"toc-item-num\">4&nbsp;&nbsp;</span>Third Model - final Logistic Regression</a></span><ul class=\"toc-item\"><li><span><a href=\"#Log-loss-reference\" data-toc-modified-id=\"Log-loss-reference-4.1\"><span class=\"toc-item-num\">4.1&nbsp;&nbsp;</span>Log loss reference</a></span><ul class=\"toc-item\"><li><span><a href=\"#Summary-of-log-loss-reference\" data-toc-modified-id=\"Summary-of-log-loss-reference-4.1.1\"><span class=\"toc-item-num\">4.1.1&nbsp;&nbsp;</span>Summary of log loss reference</a></span></li></ul></li><li><span><a href=\"#StratifiedKFold-implementation\" data-toc-modified-id=\"StratifiedKFold-implementation-4.2\"><span class=\"toc-item-num\">4.2&nbsp;&nbsp;</span>StratifiedKFold implementation</a></span><ul class=\"toc-item\"><li><span><a href=\"#StratifiedKFold-allows-implementation-of-StandardScaler\" data-toc-modified-id=\"StratifiedKFold-allows-implementation-of-StandardScaler-4.2.1\"><span class=\"toc-item-num\">4.2.1&nbsp;&nbsp;</span>StratifiedKFold allows implementation of StandardScaler</a></span></li><li><span><a href=\"#Score-for-log-loss-increases\" data-toc-modified-id=\"Score-for-log-loss-increases-4.2.2\"><span class=\"toc-item-num\">4.2.2&nbsp;&nbsp;</span>Score for log loss increases</a></span></li><li><span><a href=\"#Overfitting?\" data-toc-modified-id=\"Overfitting?-4.2.3\"><span class=\"toc-item-num\">4.2.3&nbsp;&nbsp;</span>Overfitting?</a></span></li><li><span><a href=\"#Parameters\" data-toc-modified-id=\"Parameters-4.2.4\"><span class=\"toc-item-num\">4.2.4&nbsp;&nbsp;</span>Parameters</a></span><ul class=\"toc-item\"><li><span><a href=\"#Reduce-Regularization\" data-toc-modified-id=\"Reduce-Regularization-4.2.4.1\"><span class=\"toc-item-num\">4.2.4.1&nbsp;&nbsp;</span>Reduce Regularization</a></span></li><li><span><a href=\"#Summary-of-increasing-Regularization\" data-toc-modified-id=\"Summary-of-increasing-Regularization-4.2.4.2\"><span class=\"toc-item-num\">4.2.4.2&nbsp;&nbsp;</span>Summary of increasing Regularization</a></span></li></ul></li><li><span><a href=\"#Alternate-Solver-or-Penalty?\" data-toc-modified-id=\"Alternate-Solver-or-Penalty?-4.2.5\"><span class=\"toc-item-num\">4.2.5&nbsp;&nbsp;</span>Alternate Solver or Penalty?</a></span><ul class=\"toc-item\"><li><span><a href=\"#Saga-and-elasticnet-to-balance-L1-&amp;-L2-regularization\" data-toc-modified-id=\"Saga-and-elasticnet-to-balance-L1-&amp;-L2-regularization-4.2.5.1\"><span class=\"toc-item-num\">4.2.5.1&nbsp;&nbsp;</span>Saga and elasticnet to balance L1 &amp; L2 regularization</a></span></li><li><span><a href=\"#Summary:-Alternate-Solver-and-Penalty\" data-toc-modified-id=\"Summary:-Alternate-Solver-and-Penalty-4.2.5.2\"><span class=\"toc-item-num\">4.2.5.2&nbsp;&nbsp;</span>Summary: Alternate Solver and Penalty</a></span></li></ul></li><li><span><a href=\"#Max-Iterations\" data-toc-modified-id=\"Max-Iterations-4.2.6\"><span class=\"toc-item-num\">4.2.6&nbsp;&nbsp;</span>Max Iterations</a></span></li></ul></li><li><span><a href=\"#Choose-and-evaluate-Third-Model\" data-toc-modified-id=\"Choose-and-evaluate-Third-Model-4.3\"><span class=\"toc-item-num\">4.3&nbsp;&nbsp;</span>Choose and evaluate Third Model</a></span><ul class=\"toc-item\"><li><span><a href=\"#Preprocess-train-and-test-sets\" data-toc-modified-id=\"Preprocess-train-and-test-sets-4.3.1\"><span class=\"toc-item-num\">4.3.1&nbsp;&nbsp;</span>Preprocess train and test sets</a></span></li><li><span><a href=\"#Fit-Third-Model-on-full-training-set\" data-toc-modified-id=\"Fit-Third-Model-on-full-training-set-4.3.2\"><span class=\"toc-item-num\">4.3.2&nbsp;&nbsp;</span>Fit Third Model on full training set</a></span></li></ul></li><li><span><a href=\"#Analysis-of-Third-Model:\" data-toc-modified-id=\"Analysis-of-Third-Model:-4.4\"><span class=\"toc-item-num\">4.4&nbsp;&nbsp;</span>Analysis of Third Model:</a></span></li></ul></li><li><span><a href=\"#Fourth-Model---K-Nearest-Neighbors\" data-toc-modified-id=\"Fourth-Model---K-Nearest-Neighbors-5\"><span class=\"toc-item-num\">5&nbsp;&nbsp;</span>Fourth Model - K-Nearest Neighbors</a></span><ul class=\"toc-item\"><li><span><a href=\"#Train,-Test,-Split-df3\" data-toc-modified-id=\"Train,-Test,-Split-df3-5.1\"><span class=\"toc-item-num\">5.1&nbsp;&nbsp;</span>Train, Test, Split df3</a></span></li><li><span><a href=\"#Normalize-Data\" data-toc-modified-id=\"Normalize-Data-5.2\"><span class=\"toc-item-num\">5.2&nbsp;&nbsp;</span>Normalize Data</a></span></li><li><span><a href=\"#Fit-a-KNN-Model\" data-toc-modified-id=\"Fit-a-KNN-Model-5.3\"><span class=\"toc-item-num\">5.3&nbsp;&nbsp;</span>Fit a KNN Model</a></span><ul class=\"toc-item\"><li><span><a href=\"#Initial-results-for-KNN-model\" data-toc-modified-id=\"Initial-results-for-KNN-model-5.3.1\"><span class=\"toc-item-num\">5.3.1&nbsp;&nbsp;</span>Initial results for KNN model</a></span></li></ul></li><li><span><a href=\"#Improve-Model-Performance\" data-toc-modified-id=\"Improve-Model-Performance-5.4\"><span class=\"toc-item-num\">5.4&nbsp;&nbsp;</span>Improve Model Performance</a></span><ul class=\"toc-item\"><li><span><a href=\"#Update-N_Neighbors-to-Best-Value\" data-toc-modified-id=\"Update-N_Neighbors-to-Best-Value-5.4.1\"><span class=\"toc-item-num\">5.4.1&nbsp;&nbsp;</span>Update N_Neighbors to Best Value</a></span></li></ul></li><li><span><a href=\"#Analysis-of-Fourth-Model:\" data-toc-modified-id=\"Analysis-of-Fourth-Model:-5.5\"><span class=\"toc-item-num\">5.5&nbsp;&nbsp;</span>Analysis of Fourth Model:</a></span></li></ul></li><li><span><a href=\"#Fifth-Model---Decision-Trees\" data-toc-modified-id=\"Fifth-Model---Decision-Trees-6\"><span class=\"toc-item-num\">6&nbsp;&nbsp;</span>Fifth Model - Decision Trees</a></span><ul class=\"toc-item\"><li><span><a href=\"#Train,-Test,-Split-df3\" data-toc-modified-id=\"Train,-Test,-Split-df3-6.1\"><span class=\"toc-item-num\">6.1&nbsp;&nbsp;</span>Train, Test, Split df3</a></span></li><li><span><a href=\"#Normalize-Data\" data-toc-modified-id=\"Normalize-Data-6.2\"><span class=\"toc-item-num\">6.2&nbsp;&nbsp;</span>Normalize Data</a></span></li><li><span><a href=\"#Baseline-Decision-Tree-Model\" data-toc-modified-id=\"Baseline-Decision-Tree-Model-6.3\"><span class=\"toc-item-num\">6.3&nbsp;&nbsp;</span>Baseline Decision Tree Model</a></span></li><li><span><a href=\"#Improve-Decision-Tree-Model\" data-toc-modified-id=\"Improve-Decision-Tree-Model-6.4\"><span class=\"toc-item-num\">6.4&nbsp;&nbsp;</span>Improve Decision Tree Model</a></span></li><li><span><a href=\"#Analysis-of-Fifth-Model:\" data-toc-modified-id=\"Analysis-of-Fifth-Model:-6.5\"><span class=\"toc-item-num\">6.5&nbsp;&nbsp;</span>Analysis of Fifth Model:</a></span></li></ul></li><li><span><a href=\"#Sixth-Model---Altered-Decision-Tree\" data-toc-modified-id=\"Sixth-Model---Altered-Decision-Tree-7\"><span class=\"toc-item-num\">7&nbsp;&nbsp;</span>Sixth Model - Altered Decision Tree</a></span><ul class=\"toc-item\"><li><span><a href=\"#Train,-Test,-Split-df3\" data-toc-modified-id=\"Train,-Test,-Split-df3-7.1\"><span class=\"toc-item-num\">7.1&nbsp;&nbsp;</span>Train, Test, Split df3</a></span></li><li><span><a href=\"#Analysis-of-Sixth-Model:\" data-toc-modified-id=\"Analysis-of-Sixth-Model:-7.2\"><span class=\"toc-item-num\">7.2&nbsp;&nbsp;</span>Analysis of Sixth Model:</a></span></li></ul></li><li><span><a href=\"#Seventh-Model---Bagged-Trees\" data-toc-modified-id=\"Seventh-Model---Bagged-Trees-8\"><span class=\"toc-item-num\">8&nbsp;&nbsp;</span>Seventh Model - Bagged Trees</a></span><ul class=\"toc-item\"><li><span><a href=\"#Analysis-of-Seventh-Model:\" data-toc-modified-id=\"Analysis-of-Seventh-Model:-8.1\"><span class=\"toc-item-num\">8.1&nbsp;&nbsp;</span>Analysis of Seventh Model:</a></span></li></ul></li><li><span><a href=\"#8th-Model---Random-Forest\" data-toc-modified-id=\"8th-Model---Random-Forest-9\"><span class=\"toc-item-num\">9&nbsp;&nbsp;</span>8th Model - Random Forest</a></span><ul class=\"toc-item\"><li><span><a href=\"#Analysis-of-Eighth-Model:\" data-toc-modified-id=\"Analysis-of-Eighth-Model:-9.1\"><span class=\"toc-item-num\">9.1&nbsp;&nbsp;</span>Analysis of Eighth Model:</a></span></li></ul></li><li><span><a href=\"#Ninth-Model---XG-Boost\" data-toc-modified-id=\"Ninth-Model---XG-Boost-10\"><span class=\"toc-item-num\">10&nbsp;&nbsp;</span>Ninth Model - XG Boost</a></span><ul class=\"toc-item\"><li><span><a href=\"#Train,-Test,-Split-df3\" data-toc-modified-id=\"Train,-Test,-Split-df3-10.1\"><span class=\"toc-item-num\">10.1&nbsp;&nbsp;</span>Train, Test, Split df3</a></span></li><li><span><a href=\"#Analysis-of-Initial-XG-Boost-Model:\" data-toc-modified-id=\"Analysis-of-Initial-XG-Boost-Model:-10.2\"><span class=\"toc-item-num\">10.2&nbsp;&nbsp;</span>Analysis of Initial XG Boost Model:</a></span></li><li><span><a href=\"#Improve-XG-Boost\" data-toc-modified-id=\"Improve-XG-Boost-10.3\"><span class=\"toc-item-num\">10.3&nbsp;&nbsp;</span>Improve XG Boost</a></span></li><li><span><a href=\"#Analysis-of-Altered-XG-Boost-Model:\" data-toc-modified-id=\"Analysis-of-Altered-XG-Boost-Model:-10.4\"><span class=\"toc-item-num\">10.4&nbsp;&nbsp;</span>Analysis of Altered XG Boost Model:</a></span></li></ul></li><li><span><a href=\"#Tenth-Model---Support-Vector-Machines\" data-toc-modified-id=\"Tenth-Model---Support-Vector-Machines-11\"><span class=\"toc-item-num\">11&nbsp;&nbsp;</span>Tenth Model - Support Vector Machines</a></span><ul class=\"toc-item\"><li><span><a href=\"#Analysis-of-Altered-XG-Boost-Model:\" data-toc-modified-id=\"Analysis-of-Altered-XG-Boost-Model:-11.1\"><span class=\"toc-item-num\">11.1&nbsp;&nbsp;</span>Analysis of Altered XG Boost Model:</a></span></li></ul></li><li><span><a href=\"#Eleventh-Model---Gradient-Boost\" data-toc-modified-id=\"Eleventh-Model---Gradient-Boost-12\"><span class=\"toc-item-num\">12&nbsp;&nbsp;</span>Eleventh Model - Gradient Boost</a></span><ul class=\"toc-item\"><li><span><a href=\"#Tune-Learning-Rate\" data-toc-modified-id=\"Tune-Learning-Rate-12.1\"><span class=\"toc-item-num\">12.1&nbsp;&nbsp;</span>Tune Learning Rate</a></span></li><li><span><a href=\"#Analysis-of-Gradient-Boost-Model:\" data-toc-modified-id=\"Analysis-of-Gradient-Boost-Model:-12.2\"><span class=\"toc-item-num\">12.2&nbsp;&nbsp;</span>Analysis of Gradient Boost Model:</a></span></li></ul></li><li><span><a href=\"#Add-features,-re-model\" data-toc-modified-id=\"Add-features,-re-model-13\"><span class=\"toc-item-num\">13&nbsp;&nbsp;</span>Add features, re-model</a></span><ul class=\"toc-item\"><li><span><a href=\"#Preprocess-Data\" data-toc-modified-id=\"Preprocess-Data-13.1\"><span class=\"toc-item-num\">13.1&nbsp;&nbsp;</span>Preprocess Data</a></span><ul class=\"toc-item\"><li><span><a href=\"#Select-Features\" data-toc-modified-id=\"Select-Features-13.1.1\"><span class=\"toc-item-num\">13.1.1&nbsp;&nbsp;</span>Select Features</a></span></li><li><span><a href=\"#Create-dataframe-with-selected-features\" data-toc-modified-id=\"Create-dataframe-with-selected-features-13.1.2\"><span class=\"toc-item-num\">13.1.2&nbsp;&nbsp;</span>Create dataframe with selected features</a></span></li><li><span><a href=\"#Notable-Values,-dtypes,-Potential-Issues\" data-toc-modified-id=\"Notable-Values,-dtypes,-Potential-Issues-13.1.3\"><span class=\"toc-item-num\">13.1.3&nbsp;&nbsp;</span>Notable Values, dtypes, Potential Issues</a></span></li></ul></li><li><span><a href=\"#Randomly-Select-40,000-'0'-values-from-'TARGET'\" data-toc-modified-id=\"Randomly-Select-40,000-'0'-values-from-'TARGET'-13.2\"><span class=\"toc-item-num\">13.2&nbsp;&nbsp;</span>Randomly Select 40,000 '0' values from 'TARGET'</a></span></li><li><span><a href=\"#Clean-up-null-and-missing-values\" data-toc-modified-id=\"Clean-up-null-and-missing-values-13.3\"><span class=\"toc-item-num\">13.3&nbsp;&nbsp;</span>Clean up null and missing values</a></span><ul class=\"toc-item\"><li><span><a href=\"#Decisions-for-null-values\" data-toc-modified-id=\"Decisions-for-null-values-13.3.1\"><span class=\"toc-item-num\">13.3.1&nbsp;&nbsp;</span>Decisions for null values</a></span></li><li><span><a href=\"#Replace-missing-values-for-AMT_GOODS_PRICE-&amp;-AMT_ANNUITY-with-mean\" data-toc-modified-id=\"Replace-missing-values-for-AMT_GOODS_PRICE-&amp;-AMT_ANNUITY-with-mean-13.3.2\"><span class=\"toc-item-num\">13.3.2&nbsp;&nbsp;</span>Replace missing values for AMT_GOODS_PRICE &amp; AMT_ANNUITY with mean</a></span></li></ul></li><li><span><a href=\"#Separate-Numericals-&amp;-Categoricals\" data-toc-modified-id=\"Separate-Numericals-&amp;-Categoricals-13.4\"><span class=\"toc-item-num\">13.4&nbsp;&nbsp;</span>Separate Numericals &amp; Categoricals</a></span><ul class=\"toc-item\"><li><span><a href=\"#Numericals-interpretation-and-preprocessing&quot;\" data-toc-modified-id=\"Numericals-interpretation-and-preprocessing&quot;-13.4.1\"><span class=\"toc-item-num\">13.4.1&nbsp;&nbsp;</span>Numericals interpretation and preprocessing\"</a></span><ul class=\"toc-item\"><li><span><a href=\"#Summary-of-numericals\" data-toc-modified-id=\"Summary-of-numericals-13.4.1.1\"><span class=\"toc-item-num\">13.4.1.1&nbsp;&nbsp;</span>Summary of numericals</a></span></li></ul></li><li><span><a href=\"#Categoricals\" data-toc-modified-id=\"Categoricals-13.4.2\"><span class=\"toc-item-num\">13.4.2&nbsp;&nbsp;</span>Categoricals</a></span></li></ul></li><li><span><a href=\"#Label-Encode-or-One-Hot-Encode-Categoricals\" data-toc-modified-id=\"Label-Encode-or-One-Hot-Encode-Categoricals-13.5\"><span class=\"toc-item-num\">13.5&nbsp;&nbsp;</span>Label Encode or One-Hot Encode Categoricals</a></span><ul class=\"toc-item\"><li><ul class=\"toc-item\"><li><span><a href=\"#Use-label-encoding-to-save-space-with-Organization_Type\" data-toc-modified-id=\"Use-label-encoding-to-save-space-with-Organization_Type-13.5.0.1\"><span class=\"toc-item-num\">13.5.0.1&nbsp;&nbsp;</span>Use label encoding to save space with Organization_Type</a></span></li><li><span><a href=\"#One-Hot-Encode-Categoricals\" data-toc-modified-id=\"One-Hot-Encode-Categoricals-13.5.0.2\"><span class=\"toc-item-num\">13.5.0.2&nbsp;&nbsp;</span>One Hot Encode Categoricals</a></span></li></ul></li></ul></li><li><span><a href=\"#Remove-Outliers\" data-toc-modified-id=\"Remove-Outliers-13.6\"><span class=\"toc-item-num\">13.6&nbsp;&nbsp;</span>Remove Outliers</a></span><ul class=\"toc-item\"><li><span><a href=\"#Removing-outliers-Summary\" data-toc-modified-id=\"Removing-outliers-Summary-13.6.1\"><span class=\"toc-item-num\">13.6.1&nbsp;&nbsp;</span>Removing outliers Summary</a></span></li></ul></li></ul></li><li><span><a href=\"#Twelfth-Model---Added-Features\" data-toc-modified-id=\"Twelfth-Model---Added-Features-14\"><span class=\"toc-item-num\">14&nbsp;&nbsp;</span>Twelfth Model - Added Features</a></span><ul class=\"toc-item\"><li><span><a href=\"#Tune-Learning-Rate\" data-toc-modified-id=\"Tune-Learning-Rate-14.1\"><span class=\"toc-item-num\">14.1&nbsp;&nbsp;</span>Tune Learning Rate</a></span></li><li><span><a href=\"#Analysis-of-df6-Gradient-Boost-Model:\" data-toc-modified-id=\"Analysis-of-df6-Gradient-Boost-Model:-14.2\"><span class=\"toc-item-num\">14.2&nbsp;&nbsp;</span>Analysis of df6 Gradient Boost Model:</a></span></li></ul></li></ul></div>"
   ]
  },
  {
   "cell_type": "code",
   "execution_count": 398,
   "metadata": {
    "ExecuteTime": {
     "end_time": "2022-03-22T21:04:58.677514Z",
     "start_time": "2022-03-22T21:04:58.578283Z"
    }
   },
   "outputs": [],
   "source": [
    "import pandas as pd\n",
    "import matplotlib.pyplot as plt\n",
    "import numpy as np\n",
    "np.random.seed(0)\n",
    "import seaborn as sns\n",
    "from sklearn.model_selection import train_test_split\n",
    "from sklearn.metrics import roc_curve, auc\n",
    "from sklearn.metrics import confusion_matrix\n",
    "from sklearn.linear_model import LogisticRegression\n",
    "from sklearn.metrics import make_scorer\n",
    "from sklearn.model_selection import StratifiedKFold\n",
    "from sklearn.base import clone\n",
    "from sklearn.metrics import log_loss\n",
    "from sklearn.model_selection import cross_val_score\n",
    "from sklearn.preprocessing import StandardScaler\n",
    "from sklearn.neighbors import KNeighborsClassifier\n",
    "from sklearn.metrics import precision_score, recall_score, accuracy_score, f1_score\n",
    "from sklearn.tree import DecisionTreeClassifier\n",
    "from sklearn.metrics import classification_report\n",
    "from sklearn.ensemble import BaggingClassifier, RandomForestClassifier\n",
    "from xgboost import XGBClassifier\n",
    "from sklearn.model_selection import GridSearchCV\n",
    "from sklearn import svm\n",
    "from sklearn.ensemble import AdaBoostClassifier, GradientBoostingClassifier\n",
    "from sklearn.preprocessing import LabelEncoder\n",
    "import warnings\n",
    "warnings.filterwarnings('ignore')\n",
    "%matplotlib inline"
   ]
  },
  {
   "cell_type": "code",
   "execution_count": 81,
   "metadata": {
    "ExecuteTime": {
     "end_time": "2022-03-22T16:20:31.151676Z",
     "start_time": "2022-03-22T16:20:23.894410Z"
    }
   },
   "outputs": [
    {
     "name": "stdout",
     "output_type": "stream",
     "text": [
      "<class 'pandas.core.frame.DataFrame'>\n",
      "RangeIndex: 307511 entries, 0 to 307510\n",
      "Columns: 122 entries, SK_ID_CURR to AMT_REQ_CREDIT_BUREAU_YEAR\n",
      "dtypes: float64(65), int64(41), object(16)\n",
      "memory usage: 286.2+ MB\n"
     ]
    }
   ],
   "source": [
    "df = pd.read_csv('current_app.csv')\n",
    "df.info()"
   ]
  },
  {
   "cell_type": "code",
   "execution_count": 82,
   "metadata": {
    "ExecuteTime": {
     "end_time": "2022-03-22T16:20:31.172311Z",
     "start_time": "2022-03-22T16:20:31.155183Z"
    }
   },
   "outputs": [
    {
     "data": {
      "text/plain": [
       "0    282686\n",
       "1     24825\n",
       "Name: TARGET, dtype: int64"
      ]
     },
     "execution_count": 82,
     "metadata": {},
     "output_type": "execute_result"
    }
   ],
   "source": [
    "df['TARGET'].value_counts()"
   ]
  },
  {
   "cell_type": "markdown",
   "metadata": {},
   "source": [
    "# Preprocess Data\n",
    "* Reduce Class Imbalance Issue:\n",
    "    * Sample 40,000 '0' values from the data set and use 25,000 '1' values, for 65,000 total values. \n",
    "* Trim columns based on manual feature selection select 20 columns with highest relevance according to me."
   ]
  },
  {
   "cell_type": "markdown",
   "metadata": {},
   "source": [
    "## Select 18 Features"
   ]
  },
  {
   "cell_type": "code",
   "execution_count": 4,
   "metadata": {
    "ExecuteTime": {
     "end_time": "2022-03-22T16:05:44.055286Z",
     "start_time": "2022-03-22T16:05:44.031392Z"
    }
   },
   "outputs": [
    {
     "name": "stdout",
     "output_type": "stream",
     "text": [
      "SK_ID_CURR\n",
      "TARGET\n",
      "NAME_CONTRACT_TYPE\n",
      "CODE_GENDER\n",
      "FLAG_OWN_CAR\n",
      "FLAG_OWN_REALTY\n",
      "CNT_CHILDREN\n",
      "AMT_INCOME_TOTAL\n",
      "AMT_CREDIT\n",
      "AMT_ANNUITY\n",
      "AMT_GOODS_PRICE\n",
      "NAME_TYPE_SUITE\n",
      "NAME_INCOME_TYPE\n",
      "NAME_EDUCATION_TYPE\n",
      "NAME_FAMILY_STATUS\n",
      "NAME_HOUSING_TYPE\n",
      "REGION_POPULATION_RELATIVE\n",
      "DAYS_BIRTH\n",
      "DAYS_EMPLOYED\n",
      "DAYS_REGISTRATION\n",
      "DAYS_ID_PUBLISH\n",
      "OWN_CAR_AGE\n",
      "FLAG_MOBIL\n",
      "FLAG_EMP_PHONE\n",
      "FLAG_WORK_PHONE\n",
      "FLAG_CONT_MOBILE\n",
      "FLAG_PHONE\n",
      "FLAG_EMAIL\n",
      "OCCUPATION_TYPE\n",
      "CNT_FAM_MEMBERS\n",
      "REGION_RATING_CLIENT\n",
      "REGION_RATING_CLIENT_W_CITY\n",
      "WEEKDAY_APPR_PROCESS_START\n",
      "HOUR_APPR_PROCESS_START\n",
      "REG_REGION_NOT_LIVE_REGION\n",
      "REG_REGION_NOT_WORK_REGION\n",
      "LIVE_REGION_NOT_WORK_REGION\n",
      "REG_CITY_NOT_LIVE_CITY\n",
      "REG_CITY_NOT_WORK_CITY\n",
      "LIVE_CITY_NOT_WORK_CITY\n",
      "ORGANIZATION_TYPE\n",
      "EXT_SOURCE_1\n",
      "EXT_SOURCE_2\n",
      "EXT_SOURCE_3\n",
      "APARTMENTS_AVG\n",
      "BASEMENTAREA_AVG\n",
      "YEARS_BEGINEXPLUATATION_AVG\n",
      "YEARS_BUILD_AVG\n",
      "COMMONAREA_AVG\n",
      "ELEVATORS_AVG\n",
      "ENTRANCES_AVG\n",
      "FLOORSMAX_AVG\n",
      "FLOORSMIN_AVG\n",
      "LANDAREA_AVG\n",
      "LIVINGAPARTMENTS_AVG\n",
      "LIVINGAREA_AVG\n",
      "NONLIVINGAPARTMENTS_AVG\n",
      "NONLIVINGAREA_AVG\n",
      "APARTMENTS_MODE\n",
      "BASEMENTAREA_MODE\n",
      "YEARS_BEGINEXPLUATATION_MODE\n",
      "YEARS_BUILD_MODE\n",
      "COMMONAREA_MODE\n",
      "ELEVATORS_MODE\n",
      "ENTRANCES_MODE\n",
      "FLOORSMAX_MODE\n",
      "FLOORSMIN_MODE\n",
      "LANDAREA_MODE\n",
      "LIVINGAPARTMENTS_MODE\n",
      "LIVINGAREA_MODE\n",
      "NONLIVINGAPARTMENTS_MODE\n",
      "NONLIVINGAREA_MODE\n",
      "APARTMENTS_MEDI\n",
      "BASEMENTAREA_MEDI\n",
      "YEARS_BEGINEXPLUATATION_MEDI\n",
      "YEARS_BUILD_MEDI\n",
      "COMMONAREA_MEDI\n",
      "ELEVATORS_MEDI\n",
      "ENTRANCES_MEDI\n",
      "FLOORSMAX_MEDI\n",
      "FLOORSMIN_MEDI\n",
      "LANDAREA_MEDI\n",
      "LIVINGAPARTMENTS_MEDI\n",
      "LIVINGAREA_MEDI\n",
      "NONLIVINGAPARTMENTS_MEDI\n",
      "NONLIVINGAREA_MEDI\n",
      "FONDKAPREMONT_MODE\n",
      "HOUSETYPE_MODE\n",
      "TOTALAREA_MODE\n",
      "WALLSMATERIAL_MODE\n",
      "EMERGENCYSTATE_MODE\n",
      "OBS_30_CNT_SOCIAL_CIRCLE\n",
      "DEF_30_CNT_SOCIAL_CIRCLE\n",
      "OBS_60_CNT_SOCIAL_CIRCLE\n",
      "DEF_60_CNT_SOCIAL_CIRCLE\n",
      "DAYS_LAST_PHONE_CHANGE\n",
      "FLAG_DOCUMENT_2\n",
      "FLAG_DOCUMENT_3\n",
      "FLAG_DOCUMENT_4\n",
      "FLAG_DOCUMENT_5\n",
      "FLAG_DOCUMENT_6\n",
      "FLAG_DOCUMENT_7\n",
      "FLAG_DOCUMENT_8\n",
      "FLAG_DOCUMENT_9\n",
      "FLAG_DOCUMENT_10\n",
      "FLAG_DOCUMENT_11\n",
      "FLAG_DOCUMENT_12\n",
      "FLAG_DOCUMENT_13\n",
      "FLAG_DOCUMENT_14\n",
      "FLAG_DOCUMENT_15\n",
      "FLAG_DOCUMENT_16\n",
      "FLAG_DOCUMENT_17\n",
      "FLAG_DOCUMENT_18\n",
      "FLAG_DOCUMENT_19\n",
      "FLAG_DOCUMENT_20\n",
      "FLAG_DOCUMENT_21\n",
      "AMT_REQ_CREDIT_BUREAU_HOUR\n",
      "AMT_REQ_CREDIT_BUREAU_DAY\n",
      "AMT_REQ_CREDIT_BUREAU_WEEK\n",
      "AMT_REQ_CREDIT_BUREAU_MON\n",
      "AMT_REQ_CREDIT_BUREAU_QRT\n",
      "AMT_REQ_CREDIT_BUREAU_YEAR\n",
      "122\n"
     ]
    }
   ],
   "source": [
    "# iterating print for the columns\n",
    "cols = []\n",
    "for col in df.columns:\n",
    "    cols.append(col)\n",
    "    print(col)\n",
    "print(len(cols))"
   ]
  },
  {
   "cell_type": "markdown",
   "metadata": {},
   "source": [
    "### Create dataframe with selected features"
   ]
  },
  {
   "cell_type": "code",
   "execution_count": 5,
   "metadata": {
    "ExecuteTime": {
     "end_time": "2022-03-22T16:05:44.491678Z",
     "start_time": "2022-03-22T16:05:44.058250Z"
    }
   },
   "outputs": [
    {
     "name": "stdout",
     "output_type": "stream",
     "text": [
      "<class 'pandas.core.frame.DataFrame'>\n",
      "RangeIndex: 307511 entries, 0 to 307510\n",
      "Data columns (total 19 columns):\n",
      " #   Column                Non-Null Count   Dtype  \n",
      "---  ------                --------------   -----  \n",
      " 0   TARGET                307511 non-null  int64  \n",
      " 1   CNT_CHILDREN          307511 non-null  int64  \n",
      " 2   AMT_INCOME_TOTAL      307511 non-null  float64\n",
      " 3   AMT_CREDIT            307511 non-null  float64\n",
      " 4   AMT_ANNUITY           307499 non-null  float64\n",
      " 5   NAME_EDUCATION_TYPE   307511 non-null  object \n",
      " 6   DAYS_EMPLOYED         307511 non-null  int64  \n",
      " 7   OWN_CAR_AGE           104582 non-null  float64\n",
      " 8   OCCUPATION_TYPE       211120 non-null  object \n",
      " 9   LANDAREA_AVG          124921 non-null  float64\n",
      " 10  LIVINGAREA_AVG        153161 non-null  float64\n",
      " 11  CNT_FAM_MEMBERS       307509 non-null  float64\n",
      " 12  DAYS_BIRTH            307511 non-null  int64  \n",
      " 13  NAME_INCOME_TYPE      307511 non-null  object \n",
      " 14  AMT_GOODS_PRICE       307233 non-null  float64\n",
      " 15  CODE_GENDER           307511 non-null  object \n",
      " 16  FLAG_OWN_REALTY       307511 non-null  object \n",
      " 17  REGION_RATING_CLIENT  307511 non-null  int64  \n",
      " 18  ORGANIZATION_TYPE     307511 non-null  object \n",
      "dtypes: float64(8), int64(5), object(6)\n",
      "memory usage: 44.6+ MB\n"
     ]
    }
   ],
   "source": [
    "# Create new dataframe with selected features\n",
    "df1 = df.filter(['TARGET', \n",
    "                 'CNT_CHILDREN', \n",
    "                 'AMT_INCOME_TOTAL',\n",
    "                 'AMT_CREDIT', \n",
    "                 'AMT_ANNUITY',\n",
    "                 'NAME_EDUCATION_TYPE',\n",
    "                 'DAYS_EMPLOYED',\n",
    "                 'OWN_CAR_AGE',\n",
    "                 'OCCUPATION_TYPE',\n",
    "                 'LANDAREA_AVG',\n",
    "                 'LIVINGAREA_AVG',\n",
    "                 'CNT_FAM_MEMBERS',\n",
    "                 'DAYS_BIRTH',\n",
    "                 'NAME_INCOME_TYPE',\n",
    "                 'AMT_GOODS_PRICE',\n",
    "                 'CODE_GENDER',\n",
    "                 'FLAG_OWN_REALTY',\n",
    "                 'REGION_RATING_CLIENT',\n",
    "                 'ORGANIZATION_TYPE'], \n",
    "                axis=1)\n",
    "df1.info()"
   ]
  },
  {
   "cell_type": "markdown",
   "metadata": {},
   "source": [
    "### Notable Values, dtypes, Potential Issues\n",
    "* Seven features with missing values:\n",
    "    * AMT_ANNUITY\n",
    "    * OWN_CAR_AGE\n",
    "    * OCCUPATION_TYPE \n",
    "    * LANDAREA_AVG \n",
    "    * LIVINGAREA_AVG \n",
    "    * CNT_FAM_MEMBERS \n",
    "    * AMT_GOODS_PRICE\n",
    "* Six Categorical Variables: \n",
    "    * NAME_EDUCATION_TYPE\n",
    "    * OCCUPATION_TYPE\n",
    "    * NAME_INCOME_TYPE\n",
    "    * CODE_GENDER\n",
    "    * FLAG_OWN_REALTY\n",
    "    * ORGANIZATION_TYPE"
   ]
  },
  {
   "cell_type": "markdown",
   "metadata": {},
   "source": [
    "## Randomly Select 40,000 '0' values from 'TARGET'\n",
    "* Will reduce size of dataframe for faster processing on local machine.\n",
    "* Leaves a lot of data available for testing."
   ]
  },
  {
   "cell_type": "code",
   "execution_count": 369,
   "metadata": {
    "ExecuteTime": {
     "end_time": "2022-03-22T20:12:40.554557Z",
     "start_time": "2022-03-22T20:12:40.440965Z"
    }
   },
   "outputs": [
    {
     "data": {
      "text/plain": [
       "0    282686\n",
       "Name: TARGET, dtype: int64"
      ]
     },
     "execution_count": 369,
     "metadata": {},
     "output_type": "execute_result"
    }
   ],
   "source": [
    "df_0_val = df1[df1.TARGET == 0]\n",
    "df_0_val['TARGET'].value_counts()"
   ]
  },
  {
   "cell_type": "code",
   "execution_count": 7,
   "metadata": {
    "ExecuteTime": {
     "end_time": "2022-03-22T16:05:44.747399Z",
     "start_time": "2022-03-22T16:05:44.658061Z"
    }
   },
   "outputs": [
    {
     "data": {
      "text/plain": [
       "0    40000\n",
       "Name: TARGET, dtype: int64"
      ]
     },
     "execution_count": 7,
     "metadata": {},
     "output_type": "execute_result"
    }
   ],
   "source": [
    "df_0_val = df_0_val.sample(n=40000)\n",
    "df_0_val['TARGET'].value_counts()"
   ]
  },
  {
   "cell_type": "code",
   "execution_count": 8,
   "metadata": {
    "ExecuteTime": {
     "end_time": "2022-03-22T16:05:44.796980Z",
     "start_time": "2022-03-22T16:05:44.760878Z"
    }
   },
   "outputs": [
    {
     "data": {
      "text/plain": [
       "1    24825\n",
       "Name: TARGET, dtype: int64"
      ]
     },
     "execution_count": 8,
     "metadata": {},
     "output_type": "execute_result"
    }
   ],
   "source": [
    "df_1_val = df1[df1.TARGET == 1]\n",
    "df_1_val['TARGET'].value_counts()"
   ]
  },
  {
   "cell_type": "code",
   "execution_count": 9,
   "metadata": {
    "ExecuteTime": {
     "end_time": "2022-03-22T16:05:44.873743Z",
     "start_time": "2022-03-22T16:05:44.806566Z"
    }
   },
   "outputs": [
    {
     "data": {
      "text/plain": [
       "0    40000\n",
       "1    24825\n",
       "Name: TARGET, dtype: int64"
      ]
     },
     "execution_count": 9,
     "metadata": {},
     "output_type": "execute_result"
    }
   ],
   "source": [
    "df2 = df_0_val.append(df_1_val)\n",
    "df2['TARGET'].value_counts()"
   ]
  },
  {
   "cell_type": "markdown",
   "metadata": {},
   "source": [
    "## Clean up null and missing values"
   ]
  },
  {
   "cell_type": "code",
   "execution_count": 10,
   "metadata": {
    "ExecuteTime": {
     "end_time": "2022-03-22T16:05:44.959271Z",
     "start_time": "2022-03-22T16:05:44.883909Z"
    }
   },
   "outputs": [
    {
     "data": {
      "text/plain": [
       "TARGET                      0\n",
       "CNT_CHILDREN                0\n",
       "AMT_INCOME_TOTAL            0\n",
       "AMT_CREDIT                  0\n",
       "AMT_ANNUITY                 1\n",
       "NAME_EDUCATION_TYPE         0\n",
       "DAYS_EMPLOYED               0\n",
       "OWN_CAR_AGE             43526\n",
       "OCCUPATION_TYPE         19075\n",
       "LANDAREA_AVG            39511\n",
       "LIVINGAREA_AVG          33918\n",
       "CNT_FAM_MEMBERS             0\n",
       "DAYS_BIRTH                  0\n",
       "NAME_INCOME_TYPE            0\n",
       "AMT_GOODS_PRICE            59\n",
       "CODE_GENDER                 0\n",
       "FLAG_OWN_REALTY             0\n",
       "REGION_RATING_CLIENT        0\n",
       "ORGANIZATION_TYPE           0\n",
       "dtype: int64"
      ]
     },
     "execution_count": 10,
     "metadata": {},
     "output_type": "execute_result"
    }
   ],
   "source": [
    "df2.isnull().sum()"
   ]
  },
  {
   "cell_type": "markdown",
   "metadata": {},
   "source": [
    "### Decisions for null values\n",
    "* Drop one row from AMT_ANNUITY\n",
    "* OWN_CAR_AGE, OCCUPATION_TYPE, LANDAREA_AVG, LIVINGAREA_AVG are missing so much data that they are not helpful - drop columns\n",
    "* Look at AMT_GOODS_PRICE to better understand column\n",
    "    * Likely, use mean value. Dtype is Float."
   ]
  },
  {
   "cell_type": "code",
   "execution_count": 11,
   "metadata": {
    "ExecuteTime": {
     "end_time": "2022-03-22T16:05:45.086140Z",
     "start_time": "2022-03-22T16:05:44.965924Z"
    }
   },
   "outputs": [
    {
     "name": "stdout",
     "output_type": "stream",
     "text": [
      "<class 'pandas.core.frame.DataFrame'>\n",
      "Int64Index: 64825 entries, 95867 to 307509\n",
      "Data columns (total 15 columns):\n",
      " #   Column                Non-Null Count  Dtype  \n",
      "---  ------                --------------  -----  \n",
      " 0   TARGET                64825 non-null  int64  \n",
      " 1   CNT_CHILDREN          64825 non-null  int64  \n",
      " 2   AMT_INCOME_TOTAL      64825 non-null  float64\n",
      " 3   AMT_CREDIT            64825 non-null  float64\n",
      " 4   AMT_ANNUITY           64824 non-null  float64\n",
      " 5   NAME_EDUCATION_TYPE   64825 non-null  object \n",
      " 6   DAYS_EMPLOYED         64825 non-null  int64  \n",
      " 7   CNT_FAM_MEMBERS       64825 non-null  float64\n",
      " 8   DAYS_BIRTH            64825 non-null  int64  \n",
      " 9   NAME_INCOME_TYPE      64825 non-null  object \n",
      " 10  AMT_GOODS_PRICE       64766 non-null  float64\n",
      " 11  CODE_GENDER           64825 non-null  object \n",
      " 12  FLAG_OWN_REALTY       64825 non-null  object \n",
      " 13  REGION_RATING_CLIENT  64825 non-null  int64  \n",
      " 14  ORGANIZATION_TYPE     64825 non-null  object \n",
      "dtypes: float64(5), int64(5), object(5)\n",
      "memory usage: 7.9+ MB\n"
     ]
    }
   ],
   "source": [
    "df2 = df2.drop(columns=['OWN_CAR_AGE', \n",
    "                         'OCCUPATION_TYPE', \n",
    "                         'LANDAREA_AVG', \n",
    "                         'LIVINGAREA_AVG'])\n",
    "df2.info()"
   ]
  },
  {
   "cell_type": "markdown",
   "metadata": {},
   "source": [
    "### Replace missing values for AMT_GOODS_PRICE & AMT_ANNUITY with mean"
   ]
  },
  {
   "cell_type": "code",
   "execution_count": 12,
   "metadata": {
    "ExecuteTime": {
     "end_time": "2022-03-22T16:05:45.162515Z",
     "start_time": "2022-03-22T16:05:45.100204Z"
    }
   },
   "outputs": [
    {
     "name": "stdout",
     "output_type": "stream",
     "text": [
      "AMT_GOODS_PRICE: count    6.476600e+04\n",
      "mean     5.221250e+05\n",
      "std      3.521378e+05\n",
      "min      4.500000e+04\n",
      "25%      2.385000e+05\n",
      "50%      4.500000e+05\n",
      "75%      6.750000e+05\n",
      "max      3.600000e+06\n",
      "Name: AMT_GOODS_PRICE, dtype: float64\n",
      "\n",
      "AMT_ANNUITY: count     64824.000000\n",
      "mean      26916.566387\n",
      "std       13962.632820\n",
      "min        2187.000000\n",
      "25%       16834.500000\n",
      "50%       24970.500000\n",
      "75%       34074.000000\n",
      "max      225000.000000\n",
      "Name: AMT_ANNUITY, dtype: float64\n"
     ]
    }
   ],
   "source": [
    "print('AMT_GOODS_PRICE:', df2['AMT_GOODS_PRICE'].describe())\n",
    "print()\n",
    "print('AMT_ANNUITY:', df2['AMT_ANNUITY'].describe())"
   ]
  },
  {
   "cell_type": "code",
   "execution_count": 13,
   "metadata": {
    "ExecuteTime": {
     "end_time": "2022-03-22T16:05:45.240960Z",
     "start_time": "2022-03-22T16:05:45.188557Z"
    }
   },
   "outputs": [
    {
     "name": "stdout",
     "output_type": "stream",
     "text": [
      "AMT_GOODS_PRICE: count    6.482500e+04\n",
      "mean     5.221250e+05\n",
      "std      3.519775e+05\n",
      "min      4.500000e+04\n",
      "25%      2.385000e+05\n",
      "50%      4.500000e+05\n",
      "75%      6.750000e+05\n",
      "max      3.600000e+06\n",
      "Name: AMT_GOODS_PRICE, dtype: float64\n",
      "\n",
      "AMT_ANNUITY: count     64825.000000\n",
      "mean      26916.566387\n",
      "std       13962.525123\n",
      "min        2187.000000\n",
      "25%       16834.500000\n",
      "50%       24970.500000\n",
      "75%       34074.000000\n",
      "max      225000.000000\n",
      "Name: AMT_ANNUITY, dtype: float64\n"
     ]
    }
   ],
   "source": [
    "df2['AMT_GOODS_PRICE'].fillna(value=df2['AMT_GOODS_PRICE'].mean(), inplace=True)\n",
    "print('AMT_GOODS_PRICE:', df2['AMT_GOODS_PRICE'].describe())\n",
    "print()\n",
    "df2['AMT_ANNUITY'].fillna(value=df2['AMT_ANNUITY'].mean(), inplace=True)\n",
    "print('AMT_ANNUITY:', df2['AMT_ANNUITY'].describe())"
   ]
  },
  {
   "cell_type": "code",
   "execution_count": 14,
   "metadata": {
    "ExecuteTime": {
     "end_time": "2022-03-22T16:05:45.302330Z",
     "start_time": "2022-03-22T16:05:45.247045Z"
    }
   },
   "outputs": [
    {
     "name": "stdout",
     "output_type": "stream",
     "text": [
      "<class 'pandas.core.frame.DataFrame'>\n",
      "Int64Index: 64825 entries, 95867 to 307509\n",
      "Data columns (total 15 columns):\n",
      " #   Column                Non-Null Count  Dtype  \n",
      "---  ------                --------------  -----  \n",
      " 0   TARGET                64825 non-null  int64  \n",
      " 1   CNT_CHILDREN          64825 non-null  int64  \n",
      " 2   AMT_INCOME_TOTAL      64825 non-null  float64\n",
      " 3   AMT_CREDIT            64825 non-null  float64\n",
      " 4   AMT_ANNUITY           64825 non-null  float64\n",
      " 5   NAME_EDUCATION_TYPE   64825 non-null  object \n",
      " 6   DAYS_EMPLOYED         64825 non-null  int64  \n",
      " 7   CNT_FAM_MEMBERS       64825 non-null  float64\n",
      " 8   DAYS_BIRTH            64825 non-null  int64  \n",
      " 9   NAME_INCOME_TYPE      64825 non-null  object \n",
      " 10  AMT_GOODS_PRICE       64825 non-null  float64\n",
      " 11  CODE_GENDER           64825 non-null  object \n",
      " 12  FLAG_OWN_REALTY       64825 non-null  object \n",
      " 13  REGION_RATING_CLIENT  64825 non-null  int64  \n",
      " 14  ORGANIZATION_TYPE     64825 non-null  object \n",
      "dtypes: float64(5), int64(5), object(5)\n",
      "memory usage: 7.9+ MB\n"
     ]
    }
   ],
   "source": [
    "df2.info()"
   ]
  },
  {
   "cell_type": "markdown",
   "metadata": {},
   "source": [
    "## Separate Numericals & Categoricals\n",
    "* Complete further investigation of features\n",
    "    * What form of normalization will be used for numericals, if any?\n",
    "    * Will all categorical features be appropriate for one hot encoding?"
   ]
  },
  {
   "cell_type": "markdown",
   "metadata": {},
   "source": [
    "### Numericals interpretation and preprocessing\""
   ]
  },
  {
   "cell_type": "code",
   "execution_count": 15,
   "metadata": {
    "ExecuteTime": {
     "end_time": "2022-03-22T16:05:45.378937Z",
     "start_time": "2022-03-22T16:05:45.317921Z"
    }
   },
   "outputs": [
    {
     "data": {
      "text/html": [
       "<div>\n",
       "<style scoped>\n",
       "    .dataframe tbody tr th:only-of-type {\n",
       "        vertical-align: middle;\n",
       "    }\n",
       "\n",
       "    .dataframe tbody tr th {\n",
       "        vertical-align: top;\n",
       "    }\n",
       "\n",
       "    .dataframe thead th {\n",
       "        text-align: right;\n",
       "    }\n",
       "</style>\n",
       "<table border=\"1\" class=\"dataframe\">\n",
       "  <thead>\n",
       "    <tr style=\"text-align: right;\">\n",
       "      <th></th>\n",
       "      <th>TARGET</th>\n",
       "      <th>CNT_CHILDREN</th>\n",
       "      <th>AMT_INCOME_TOTAL</th>\n",
       "      <th>AMT_CREDIT</th>\n",
       "      <th>AMT_ANNUITY</th>\n",
       "      <th>DAYS_EMPLOYED</th>\n",
       "      <th>CNT_FAM_MEMBERS</th>\n",
       "      <th>DAYS_BIRTH</th>\n",
       "      <th>AMT_GOODS_PRICE</th>\n",
       "      <th>REGION_RATING_CLIENT</th>\n",
       "    </tr>\n",
       "  </thead>\n",
       "  <tbody>\n",
       "    <tr>\n",
       "      <th>95867</th>\n",
       "      <td>0</td>\n",
       "      <td>2</td>\n",
       "      <td>135000.0</td>\n",
       "      <td>450000.0</td>\n",
       "      <td>22500.0</td>\n",
       "      <td>-1936</td>\n",
       "      <td>4.0</td>\n",
       "      <td>-13950</td>\n",
       "      <td>450000.0</td>\n",
       "      <td>2</td>\n",
       "    </tr>\n",
       "    <tr>\n",
       "      <th>12595</th>\n",
       "      <td>0</td>\n",
       "      <td>1</td>\n",
       "      <td>180000.0</td>\n",
       "      <td>448056.0</td>\n",
       "      <td>21015.0</td>\n",
       "      <td>-1687</td>\n",
       "      <td>2.0</td>\n",
       "      <td>-13797</td>\n",
       "      <td>315000.0</td>\n",
       "      <td>2</td>\n",
       "    </tr>\n",
       "    <tr>\n",
       "      <th>162063</th>\n",
       "      <td>0</td>\n",
       "      <td>3</td>\n",
       "      <td>90000.0</td>\n",
       "      <td>54504.0</td>\n",
       "      <td>4095.0</td>\n",
       "      <td>-242</td>\n",
       "      <td>5.0</td>\n",
       "      <td>-14981</td>\n",
       "      <td>45000.0</td>\n",
       "      <td>3</td>\n",
       "    </tr>\n",
       "    <tr>\n",
       "      <th>194730</th>\n",
       "      <td>0</td>\n",
       "      <td>0</td>\n",
       "      <td>90000.0</td>\n",
       "      <td>566055.0</td>\n",
       "      <td>20925.0</td>\n",
       "      <td>-3927</td>\n",
       "      <td>2.0</td>\n",
       "      <td>-11084</td>\n",
       "      <td>472500.0</td>\n",
       "      <td>3</td>\n",
       "    </tr>\n",
       "    <tr>\n",
       "      <th>81335</th>\n",
       "      <td>0</td>\n",
       "      <td>0</td>\n",
       "      <td>117000.0</td>\n",
       "      <td>808650.0</td>\n",
       "      <td>26217.0</td>\n",
       "      <td>-2694</td>\n",
       "      <td>2.0</td>\n",
       "      <td>-17074</td>\n",
       "      <td>675000.0</td>\n",
       "      <td>2</td>\n",
       "    </tr>\n",
       "  </tbody>\n",
       "</table>\n",
       "</div>"
      ],
      "text/plain": [
       "        TARGET  CNT_CHILDREN  AMT_INCOME_TOTAL  AMT_CREDIT  AMT_ANNUITY  \\\n",
       "95867        0             2          135000.0    450000.0      22500.0   \n",
       "12595        0             1          180000.0    448056.0      21015.0   \n",
       "162063       0             3           90000.0     54504.0       4095.0   \n",
       "194730       0             0           90000.0    566055.0      20925.0   \n",
       "81335        0             0          117000.0    808650.0      26217.0   \n",
       "\n",
       "        DAYS_EMPLOYED  CNT_FAM_MEMBERS  DAYS_BIRTH  AMT_GOODS_PRICE  \\\n",
       "95867           -1936              4.0      -13950         450000.0   \n",
       "12595           -1687              2.0      -13797         315000.0   \n",
       "162063           -242              5.0      -14981          45000.0   \n",
       "194730          -3927              2.0      -11084         472500.0   \n",
       "81335           -2694              2.0      -17074         675000.0   \n",
       "\n",
       "        REGION_RATING_CLIENT  \n",
       "95867                      2  \n",
       "12595                      2  \n",
       "162063                     3  \n",
       "194730                     3  \n",
       "81335                      2  "
      ]
     },
     "execution_count": 15,
     "metadata": {},
     "output_type": "execute_result"
    }
   ],
   "source": [
    "# new df with numericals only\n",
    "numericals = df2.drop(columns=['NAME_EDUCATION_TYPE', \n",
    "                               'NAME_INCOME_TYPE', \n",
    "                               'CODE_GENDER', \n",
    "                               'FLAG_OWN_REALTY', \n",
    "                               'ORGANIZATION_TYPE'])\n",
    "numericals.head()"
   ]
  },
  {
   "cell_type": "code",
   "execution_count": 16,
   "metadata": {
    "ExecuteTime": {
     "end_time": "2022-03-22T16:05:45.568067Z",
     "start_time": "2022-03-22T16:05:45.384403Z"
    }
   },
   "outputs": [
    {
     "data": {
      "text/html": [
       "<div>\n",
       "<style scoped>\n",
       "    .dataframe tbody tr th:only-of-type {\n",
       "        vertical-align: middle;\n",
       "    }\n",
       "\n",
       "    .dataframe tbody tr th {\n",
       "        vertical-align: top;\n",
       "    }\n",
       "\n",
       "    .dataframe thead th {\n",
       "        text-align: right;\n",
       "    }\n",
       "</style>\n",
       "<table border=\"1\" class=\"dataframe\">\n",
       "  <thead>\n",
       "    <tr style=\"text-align: right;\">\n",
       "      <th></th>\n",
       "      <th>TARGET</th>\n",
       "      <th>CNT_CHILDREN</th>\n",
       "      <th>AMT_INCOME_TOTAL</th>\n",
       "      <th>AMT_CREDIT</th>\n",
       "      <th>AMT_ANNUITY</th>\n",
       "      <th>DAYS_EMPLOYED</th>\n",
       "      <th>CNT_FAM_MEMBERS</th>\n",
       "      <th>DAYS_BIRTH</th>\n",
       "      <th>AMT_GOODS_PRICE</th>\n",
       "      <th>REGION_RATING_CLIENT</th>\n",
       "    </tr>\n",
       "  </thead>\n",
       "  <tbody>\n",
       "    <tr>\n",
       "      <th>count</th>\n",
       "      <td>64825.000000</td>\n",
       "      <td>64825.000000</td>\n",
       "      <td>6.482500e+04</td>\n",
       "      <td>6.482500e+04</td>\n",
       "      <td>64825.000000</td>\n",
       "      <td>64825.000000</td>\n",
       "      <td>64825.000000</td>\n",
       "      <td>64825.000000</td>\n",
       "      <td>6.482500e+04</td>\n",
       "      <td>64825.000000</td>\n",
       "    </tr>\n",
       "    <tr>\n",
       "      <th>mean</th>\n",
       "      <td>0.382954</td>\n",
       "      <td>0.434925</td>\n",
       "      <td>1.677381e+05</td>\n",
       "      <td>5.851663e+05</td>\n",
       "      <td>26916.566387</td>\n",
       "      <td>56993.347937</td>\n",
       "      <td>2.163857</td>\n",
       "      <td>-15663.655735</td>\n",
       "      <td>5.221250e+05</td>\n",
       "      <td>2.087096</td>\n",
       "    </tr>\n",
       "    <tr>\n",
       "      <th>std</th>\n",
       "      <td>0.486111</td>\n",
       "      <td>0.731931</td>\n",
       "      <td>4.684317e+05</td>\n",
       "      <td>3.851481e+05</td>\n",
       "      <td>13962.525123</td>\n",
       "      <td>135095.206418</td>\n",
       "      <td>0.923051</td>\n",
       "      <td>4343.357182</td>\n",
       "      <td>3.519775e+05</td>\n",
       "      <td>0.510779</td>\n",
       "    </tr>\n",
       "    <tr>\n",
       "      <th>min</th>\n",
       "      <td>0.000000</td>\n",
       "      <td>0.000000</td>\n",
       "      <td>2.565000e+04</td>\n",
       "      <td>4.500000e+04</td>\n",
       "      <td>2187.000000</td>\n",
       "      <td>-16495.000000</td>\n",
       "      <td>1.000000</td>\n",
       "      <td>-25201.000000</td>\n",
       "      <td>4.500000e+04</td>\n",
       "      <td>1.000000</td>\n",
       "    </tr>\n",
       "    <tr>\n",
       "      <th>25%</th>\n",
       "      <td>0.000000</td>\n",
       "      <td>0.000000</td>\n",
       "      <td>1.125000e+05</td>\n",
       "      <td>2.745000e+05</td>\n",
       "      <td>16834.500000</td>\n",
       "      <td>-2576.000000</td>\n",
       "      <td>2.000000</td>\n",
       "      <td>-19219.000000</td>\n",
       "      <td>2.385000e+05</td>\n",
       "      <td>2.000000</td>\n",
       "    </tr>\n",
       "    <tr>\n",
       "      <th>50%</th>\n",
       "      <td>0.000000</td>\n",
       "      <td>0.000000</td>\n",
       "      <td>1.440000e+05</td>\n",
       "      <td>5.084955e+05</td>\n",
       "      <td>24970.500000</td>\n",
       "      <td>-1141.000000</td>\n",
       "      <td>2.000000</td>\n",
       "      <td>-15254.000000</td>\n",
       "      <td>4.500000e+05</td>\n",
       "      <td>2.000000</td>\n",
       "    </tr>\n",
       "    <tr>\n",
       "      <th>75%</th>\n",
       "      <td>1.000000</td>\n",
       "      <td>1.000000</td>\n",
       "      <td>2.025000e+05</td>\n",
       "      <td>7.819200e+05</td>\n",
       "      <td>34074.000000</td>\n",
       "      <td>-323.000000</td>\n",
       "      <td>3.000000</td>\n",
       "      <td>-12022.000000</td>\n",
       "      <td>6.750000e+05</td>\n",
       "      <td>2.000000</td>\n",
       "    </tr>\n",
       "    <tr>\n",
       "      <th>max</th>\n",
       "      <td>1.000000</td>\n",
       "      <td>11.000000</td>\n",
       "      <td>1.170000e+08</td>\n",
       "      <td>4.027680e+06</td>\n",
       "      <td>225000.000000</td>\n",
       "      <td>365243.000000</td>\n",
       "      <td>13.000000</td>\n",
       "      <td>-7678.000000</td>\n",
       "      <td>3.600000e+06</td>\n",
       "      <td>3.000000</td>\n",
       "    </tr>\n",
       "  </tbody>\n",
       "</table>\n",
       "</div>"
      ],
      "text/plain": [
       "             TARGET  CNT_CHILDREN  AMT_INCOME_TOTAL    AMT_CREDIT  \\\n",
       "count  64825.000000  64825.000000      6.482500e+04  6.482500e+04   \n",
       "mean       0.382954      0.434925      1.677381e+05  5.851663e+05   \n",
       "std        0.486111      0.731931      4.684317e+05  3.851481e+05   \n",
       "min        0.000000      0.000000      2.565000e+04  4.500000e+04   \n",
       "25%        0.000000      0.000000      1.125000e+05  2.745000e+05   \n",
       "50%        0.000000      0.000000      1.440000e+05  5.084955e+05   \n",
       "75%        1.000000      1.000000      2.025000e+05  7.819200e+05   \n",
       "max        1.000000     11.000000      1.170000e+08  4.027680e+06   \n",
       "\n",
       "         AMT_ANNUITY  DAYS_EMPLOYED  CNT_FAM_MEMBERS    DAYS_BIRTH  \\\n",
       "count   64825.000000   64825.000000     64825.000000  64825.000000   \n",
       "mean    26916.566387   56993.347937         2.163857 -15663.655735   \n",
       "std     13962.525123  135095.206418         0.923051   4343.357182   \n",
       "min      2187.000000  -16495.000000         1.000000 -25201.000000   \n",
       "25%     16834.500000   -2576.000000         2.000000 -19219.000000   \n",
       "50%     24970.500000   -1141.000000         2.000000 -15254.000000   \n",
       "75%     34074.000000    -323.000000         3.000000 -12022.000000   \n",
       "max    225000.000000  365243.000000        13.000000  -7678.000000   \n",
       "\n",
       "       AMT_GOODS_PRICE  REGION_RATING_CLIENT  \n",
       "count     6.482500e+04          64825.000000  \n",
       "mean      5.221250e+05              2.087096  \n",
       "std       3.519775e+05              0.510779  \n",
       "min       4.500000e+04              1.000000  \n",
       "25%       2.385000e+05              2.000000  \n",
       "50%       4.500000e+05              2.000000  \n",
       "75%       6.750000e+05              2.000000  \n",
       "max       3.600000e+06              3.000000  "
      ]
     },
     "metadata": {},
     "output_type": "display_data"
    }
   ],
   "source": [
    "# Interpret values of columns\n",
    "display(numericals.describe())"
   ]
  },
  {
   "cell_type": "code",
   "execution_count": 17,
   "metadata": {
    "ExecuteTime": {
     "end_time": "2022-03-22T16:05:46.708129Z",
     "start_time": "2022-03-22T16:05:45.577159Z"
    }
   },
   "outputs": [
    {
     "data": {
      "image/png": "[encoded data removed]",
      "text/plain": [
       "<Figure size 1440x720 with 1 Axes>"
      ]
     },
     "metadata": {
      "needs_background": "light"
     },
     "output_type": "display_data"
    }
   ],
   "source": [
    "# Create a box plot of each numerical column\n",
    "plt.figure(figsize=(20, 10))\n",
    "plt.boxplot([numericals[col] for col in numericals.columns])\n",
    "plt.title(\"Box plot of all columns in dataset\")\n",
    "plt.xticks(range(len(numericals.columns.values)), numericals.columns.values)\n",
    "plt.show()"
   ]
  },
  {
   "cell_type": "markdown",
   "metadata": {},
   "source": [
    "#### Summary of numericals\n",
    "* AMT_INCOME_TOTAL has one or many outliers that need to be trimmed.\n",
    "* Widely varying magnitudes"
   ]
  },
  {
   "cell_type": "markdown",
   "metadata": {},
   "source": [
    "### Categoricals"
   ]
  },
  {
   "cell_type": "code",
   "execution_count": 18,
   "metadata": {
    "ExecuteTime": {
     "end_time": "2022-03-22T16:05:46.753408Z",
     "start_time": "2022-03-22T16:05:46.713537Z"
    }
   },
   "outputs": [
    {
     "data": {
      "text/html": [
       "<div>\n",
       "<style scoped>\n",
       "    .dataframe tbody tr th:only-of-type {\n",
       "        vertical-align: middle;\n",
       "    }\n",
       "\n",
       "    .dataframe tbody tr th {\n",
       "        vertical-align: top;\n",
       "    }\n",
       "\n",
       "    .dataframe thead th {\n",
       "        text-align: right;\n",
       "    }\n",
       "</style>\n",
       "<table border=\"1\" class=\"dataframe\">\n",
       "  <thead>\n",
       "    <tr style=\"text-align: right;\">\n",
       "      <th></th>\n",
       "      <th>NAME_EDUCATION_TYPE</th>\n",
       "      <th>NAME_INCOME_TYPE</th>\n",
       "      <th>CODE_GENDER</th>\n",
       "      <th>FLAG_OWN_REALTY</th>\n",
       "      <th>ORGANIZATION_TYPE</th>\n",
       "    </tr>\n",
       "  </thead>\n",
       "  <tbody>\n",
       "    <tr>\n",
       "      <th>95867</th>\n",
       "      <td>Secondary / secondary special</td>\n",
       "      <td>Commercial associate</td>\n",
       "      <td>F</td>\n",
       "      <td>Y</td>\n",
       "      <td>Business Entity Type 3</td>\n",
       "    </tr>\n",
       "    <tr>\n",
       "      <th>12595</th>\n",
       "      <td>Higher education</td>\n",
       "      <td>Commercial associate</td>\n",
       "      <td>F</td>\n",
       "      <td>Y</td>\n",
       "      <td>Business Entity Type 3</td>\n",
       "    </tr>\n",
       "    <tr>\n",
       "      <th>162063</th>\n",
       "      <td>Secondary / secondary special</td>\n",
       "      <td>Working</td>\n",
       "      <td>M</td>\n",
       "      <td>Y</td>\n",
       "      <td>Business Entity Type 3</td>\n",
       "    </tr>\n",
       "    <tr>\n",
       "      <th>194730</th>\n",
       "      <td>Secondary / secondary special</td>\n",
       "      <td>Working</td>\n",
       "      <td>F</td>\n",
       "      <td>Y</td>\n",
       "      <td>Industry: type 3</td>\n",
       "    </tr>\n",
       "    <tr>\n",
       "      <th>81335</th>\n",
       "      <td>Secondary / secondary special</td>\n",
       "      <td>Working</td>\n",
       "      <td>F</td>\n",
       "      <td>Y</td>\n",
       "      <td>Industry: type 3</td>\n",
       "    </tr>\n",
       "  </tbody>\n",
       "</table>\n",
       "</div>"
      ],
      "text/plain": [
       "                  NAME_EDUCATION_TYPE      NAME_INCOME_TYPE CODE_GENDER  \\\n",
       "95867   Secondary / secondary special  Commercial associate           F   \n",
       "12595                Higher education  Commercial associate           F   \n",
       "162063  Secondary / secondary special               Working           M   \n",
       "194730  Secondary / secondary special               Working           F   \n",
       "81335   Secondary / secondary special               Working           F   \n",
       "\n",
       "       FLAG_OWN_REALTY       ORGANIZATION_TYPE  \n",
       "95867                Y  Business Entity Type 3  \n",
       "12595                Y  Business Entity Type 3  \n",
       "162063               Y  Business Entity Type 3  \n",
       "194730               Y        Industry: type 3  \n",
       "81335                Y        Industry: type 3  "
      ]
     },
     "execution_count": 18,
     "metadata": {},
     "output_type": "execute_result"
    }
   ],
   "source": [
    "# new df with categoricals only\n",
    "categoricals = df2[['NAME_EDUCATION_TYPE', \n",
    "                    'NAME_INCOME_TYPE', \n",
    "                    'CODE_GENDER', \n",
    "                    'FLAG_OWN_REALTY', \n",
    "                    'ORGANIZATION_TYPE']]\n",
    "categoricals.head()"
   ]
  },
  {
   "cell_type": "code",
   "execution_count": 19,
   "metadata": {
    "ExecuteTime": {
     "end_time": "2022-03-22T16:05:47.092714Z",
     "start_time": "2022-03-22T16:05:46.760648Z"
    }
   },
   "outputs": [
    {
     "data": {
      "text/plain": [
       "NAME_EDUCATION_TYPE            NAME_INCOME_TYPE      CODE_GENDER  FLAG_OWN_REALTY  ORGANIZATION_TYPE     \n",
       "Secondary / secondary special  Pensioner             F            Y                XNA                       5395\n",
       "                               Working               F            Y                Business Entity Type 3    2569\n",
       "                                                     M            Y                Business Entity Type 3    2419\n",
       "                                                     F            Y                Self-employed             2218\n",
       "                               Pensioner             F            N                XNA                       1571\n",
       "                                                                                                             ... \n",
       "Incomplete higher              Working               F            N                Industry: type 4             1\n",
       "                                                                                   Industry: type 7             1\n",
       "                                                                                   Insurance                    1\n",
       "                                                                                   Police                       1\n",
       "Academic degree                Commercial associate  F            N                University                   1\n",
       "Length: 1576, dtype: int64"
      ]
     },
     "execution_count": 19,
     "metadata": {},
     "output_type": "execute_result"
    }
   ],
   "source": [
    "categoricals.value_counts()"
   ]
  },
  {
   "cell_type": "code",
   "execution_count": 20,
   "metadata": {
    "ExecuteTime": {
     "end_time": "2022-03-22T16:05:47.152918Z",
     "start_time": "2022-03-22T16:05:47.102438Z"
    }
   },
   "outputs": [
    {
     "data": {
      "text/plain": [
       "Working                 35596\n",
       "Commercial associate    14558\n",
       "Pensioner               10434\n",
       "State servant            4219\n",
       "Unemployed                 10\n",
       "Student                     5\n",
       "Maternity leave             3\n",
       "Name: NAME_INCOME_TYPE, dtype: int64"
      ]
     },
     "execution_count": 20,
     "metadata": {},
     "output_type": "execute_result"
    }
   ],
   "source": [
    "categoricals['NAME_INCOME_TYPE'].value_counts()"
   ]
  },
  {
   "cell_type": "code",
   "execution_count": 21,
   "metadata": {
    "ExecuteTime": {
     "end_time": "2022-03-22T16:05:47.202864Z",
     "start_time": "2022-03-22T16:05:47.157759Z"
    }
   },
   "outputs": [
    {
     "data": {
      "text/plain": [
       "Business Entity Type 3    14994\n",
       "XNA                       10443\n",
       "Self-employed              8751\n",
       "Other                      3511\n",
       "Business Entity Type 2     2263\n",
       "Government                 2181\n",
       "Medicine                   2175\n",
       "Trade: type 7              1739\n",
       "School                     1680\n",
       "Construction               1606\n",
       "Kindergarten               1361\n",
       "Business Entity Type 1     1233\n",
       "Transport: type 4          1184\n",
       "Trade: type 3               803\n",
       "Industry: type 3            764\n",
       "Security                    745\n",
       "Industry: type 9            692\n",
       "Housing                     621\n",
       "Industry: type 11           600\n",
       "Agriculture                 557\n",
       "Military                    502\n",
       "Postal                      482\n",
       "Transport: type 2           470\n",
       "Restaurant                  455\n",
       "Bank                        454\n",
       "Police                      452\n",
       "Trade: type 2               406\n",
       "Security Ministries         343\n",
       "Services                    318\n",
       "Transport: type 3           316\n",
       "Industry: type 7            287\n",
       "University                  248\n",
       "Industry: type 1            237\n",
       "Industry: type 4            192\n",
       "Electricity                 187\n",
       "Hotel                       170\n",
       "Telecom                     124\n",
       "Industry: type 5            122\n",
       "Insurance                   112\n",
       "Emergency                    99\n",
       "Trade: type 6                99\n",
       "Industry: type 2             91\n",
       "Advertising                  89\n",
       "Realtor                      85\n",
       "Trade: type 1                84\n",
       "Mobile                       77\n",
       "Industry: type 12            73\n",
       "Culture                      68\n",
       "Legal Services               66\n",
       "Cleaning                     65\n",
       "Transport: type 1            39\n",
       "Religion                     23\n",
       "Industry: type 10            21\n",
       "Industry: type 6             19\n",
       "Industry: type 13            18\n",
       "Trade: type 5                13\n",
       "Trade: type 4                11\n",
       "Industry: type 8              5\n",
       "Name: ORGANIZATION_TYPE, dtype: int64"
      ]
     },
     "execution_count": 21,
     "metadata": {},
     "output_type": "execute_result"
    }
   ],
   "source": [
    "categoricals['ORGANIZATION_TYPE'].value_counts()"
   ]
  },
  {
   "cell_type": "markdown",
   "metadata": {},
   "source": [
    "#### Organization Type not useful for ohe \n",
    "* Interpretting Organization Type without a key is impossible, so I will drop this column."
   ]
  },
  {
   "cell_type": "code",
   "execution_count": 22,
   "metadata": {
    "ExecuteTime": {
     "end_time": "2022-03-22T16:05:47.235297Z",
     "start_time": "2022-03-22T16:05:47.207214Z"
    }
   },
   "outputs": [
    {
     "data": {
      "text/html": [
       "<div>\n",
       "<style scoped>\n",
       "    .dataframe tbody tr th:only-of-type {\n",
       "        vertical-align: middle;\n",
       "    }\n",
       "\n",
       "    .dataframe tbody tr th {\n",
       "        vertical-align: top;\n",
       "    }\n",
       "\n",
       "    .dataframe thead th {\n",
       "        text-align: right;\n",
       "    }\n",
       "</style>\n",
       "<table border=\"1\" class=\"dataframe\">\n",
       "  <thead>\n",
       "    <tr style=\"text-align: right;\">\n",
       "      <th></th>\n",
       "      <th>NAME_EDUCATION_TYPE</th>\n",
       "      <th>NAME_INCOME_TYPE</th>\n",
       "      <th>CODE_GENDER</th>\n",
       "      <th>FLAG_OWN_REALTY</th>\n",
       "    </tr>\n",
       "  </thead>\n",
       "  <tbody>\n",
       "    <tr>\n",
       "      <th>95867</th>\n",
       "      <td>Secondary / secondary special</td>\n",
       "      <td>Commercial associate</td>\n",
       "      <td>F</td>\n",
       "      <td>Y</td>\n",
       "    </tr>\n",
       "    <tr>\n",
       "      <th>12595</th>\n",
       "      <td>Higher education</td>\n",
       "      <td>Commercial associate</td>\n",
       "      <td>F</td>\n",
       "      <td>Y</td>\n",
       "    </tr>\n",
       "    <tr>\n",
       "      <th>162063</th>\n",
       "      <td>Secondary / secondary special</td>\n",
       "      <td>Working</td>\n",
       "      <td>M</td>\n",
       "      <td>Y</td>\n",
       "    </tr>\n",
       "    <tr>\n",
       "      <th>194730</th>\n",
       "      <td>Secondary / secondary special</td>\n",
       "      <td>Working</td>\n",
       "      <td>F</td>\n",
       "      <td>Y</td>\n",
       "    </tr>\n",
       "    <tr>\n",
       "      <th>81335</th>\n",
       "      <td>Secondary / secondary special</td>\n",
       "      <td>Working</td>\n",
       "      <td>F</td>\n",
       "      <td>Y</td>\n",
       "    </tr>\n",
       "  </tbody>\n",
       "</table>\n",
       "</div>"
      ],
      "text/plain": [
       "                  NAME_EDUCATION_TYPE      NAME_INCOME_TYPE CODE_GENDER  \\\n",
       "95867   Secondary / secondary special  Commercial associate           F   \n",
       "12595                Higher education  Commercial associate           F   \n",
       "162063  Secondary / secondary special               Working           M   \n",
       "194730  Secondary / secondary special               Working           F   \n",
       "81335   Secondary / secondary special               Working           F   \n",
       "\n",
       "       FLAG_OWN_REALTY  \n",
       "95867                Y  \n",
       "12595                Y  \n",
       "162063               Y  \n",
       "194730               Y  \n",
       "81335                Y  "
      ]
     },
     "execution_count": 22,
     "metadata": {},
     "output_type": "execute_result"
    }
   ],
   "source": [
    "# drop 'ORGANIZATION_TYPE' from categoricals\n",
    "categoricals = categoricals.drop('ORGANIZATION_TYPE', axis=1)\n",
    "categoricals.head()"
   ]
  },
  {
   "cell_type": "markdown",
   "metadata": {},
   "source": [
    "#### One Hot Encode Categoricals"
   ]
  },
  {
   "cell_type": "code",
   "execution_count": 23,
   "metadata": {
    "ExecuteTime": {
     "end_time": "2022-03-22T16:05:47.371522Z",
     "start_time": "2022-03-22T16:05:47.239923Z"
    }
   },
   "outputs": [
    {
     "data": {
      "text/html": [
       "<div>\n",
       "<style scoped>\n",
       "    .dataframe tbody tr th:only-of-type {\n",
       "        vertical-align: middle;\n",
       "    }\n",
       "\n",
       "    .dataframe tbody tr th {\n",
       "        vertical-align: top;\n",
       "    }\n",
       "\n",
       "    .dataframe thead th {\n",
       "        text-align: right;\n",
       "    }\n",
       "</style>\n",
       "<table border=\"1\" class=\"dataframe\">\n",
       "  <thead>\n",
       "    <tr style=\"text-align: right;\">\n",
       "      <th></th>\n",
       "      <th>NAME_EDUCATION_TYPE_Higher education</th>\n",
       "      <th>NAME_EDUCATION_TYPE_Incomplete higher</th>\n",
       "      <th>NAME_EDUCATION_TYPE_Lower secondary</th>\n",
       "      <th>NAME_EDUCATION_TYPE_Secondary / secondary special</th>\n",
       "      <th>NAME_INCOME_TYPE_Maternity leave</th>\n",
       "      <th>NAME_INCOME_TYPE_Pensioner</th>\n",
       "      <th>NAME_INCOME_TYPE_State servant</th>\n",
       "      <th>NAME_INCOME_TYPE_Student</th>\n",
       "      <th>NAME_INCOME_TYPE_Unemployed</th>\n",
       "      <th>NAME_INCOME_TYPE_Working</th>\n",
       "      <th>CODE_GENDER_M</th>\n",
       "      <th>CODE_GENDER_XNA</th>\n",
       "      <th>FLAG_OWN_REALTY_Y</th>\n",
       "    </tr>\n",
       "  </thead>\n",
       "  <tbody>\n",
       "    <tr>\n",
       "      <th>95867</th>\n",
       "      <td>0</td>\n",
       "      <td>0</td>\n",
       "      <td>0</td>\n",
       "      <td>1</td>\n",
       "      <td>0</td>\n",
       "      <td>0</td>\n",
       "      <td>0</td>\n",
       "      <td>0</td>\n",
       "      <td>0</td>\n",
       "      <td>0</td>\n",
       "      <td>0</td>\n",
       "      <td>0</td>\n",
       "      <td>1</td>\n",
       "    </tr>\n",
       "    <tr>\n",
       "      <th>12595</th>\n",
       "      <td>1</td>\n",
       "      <td>0</td>\n",
       "      <td>0</td>\n",
       "      <td>0</td>\n",
       "      <td>0</td>\n",
       "      <td>0</td>\n",
       "      <td>0</td>\n",
       "      <td>0</td>\n",
       "      <td>0</td>\n",
       "      <td>0</td>\n",
       "      <td>0</td>\n",
       "      <td>0</td>\n",
       "      <td>1</td>\n",
       "    </tr>\n",
       "    <tr>\n",
       "      <th>162063</th>\n",
       "      <td>0</td>\n",
       "      <td>0</td>\n",
       "      <td>0</td>\n",
       "      <td>1</td>\n",
       "      <td>0</td>\n",
       "      <td>0</td>\n",
       "      <td>0</td>\n",
       "      <td>0</td>\n",
       "      <td>0</td>\n",
       "      <td>1</td>\n",
       "      <td>1</td>\n",
       "      <td>0</td>\n",
       "      <td>1</td>\n",
       "    </tr>\n",
       "    <tr>\n",
       "      <th>194730</th>\n",
       "      <td>0</td>\n",
       "      <td>0</td>\n",
       "      <td>0</td>\n",
       "      <td>1</td>\n",
       "      <td>0</td>\n",
       "      <td>0</td>\n",
       "      <td>0</td>\n",
       "      <td>0</td>\n",
       "      <td>0</td>\n",
       "      <td>1</td>\n",
       "      <td>0</td>\n",
       "      <td>0</td>\n",
       "      <td>1</td>\n",
       "    </tr>\n",
       "    <tr>\n",
       "      <th>81335</th>\n",
       "      <td>0</td>\n",
       "      <td>0</td>\n",
       "      <td>0</td>\n",
       "      <td>1</td>\n",
       "      <td>0</td>\n",
       "      <td>0</td>\n",
       "      <td>0</td>\n",
       "      <td>0</td>\n",
       "      <td>0</td>\n",
       "      <td>1</td>\n",
       "      <td>0</td>\n",
       "      <td>0</td>\n",
       "      <td>1</td>\n",
       "    </tr>\n",
       "  </tbody>\n",
       "</table>\n",
       "</div>"
      ],
      "text/plain": [
       "        NAME_EDUCATION_TYPE_Higher education  \\\n",
       "95867                                      0   \n",
       "12595                                      1   \n",
       "162063                                     0   \n",
       "194730                                     0   \n",
       "81335                                      0   \n",
       "\n",
       "        NAME_EDUCATION_TYPE_Incomplete higher  \\\n",
       "95867                                       0   \n",
       "12595                                       0   \n",
       "162063                                      0   \n",
       "194730                                      0   \n",
       "81335                                       0   \n",
       "\n",
       "        NAME_EDUCATION_TYPE_Lower secondary  \\\n",
       "95867                                     0   \n",
       "12595                                     0   \n",
       "162063                                    0   \n",
       "194730                                    0   \n",
       "81335                                     0   \n",
       "\n",
       "        NAME_EDUCATION_TYPE_Secondary / secondary special  \\\n",
       "95867                                                   1   \n",
       "12595                                                   0   \n",
       "162063                                                  1   \n",
       "194730                                                  1   \n",
       "81335                                                   1   \n",
       "\n",
       "        NAME_INCOME_TYPE_Maternity leave  NAME_INCOME_TYPE_Pensioner  \\\n",
       "95867                                  0                           0   \n",
       "12595                                  0                           0   \n",
       "162063                                 0                           0   \n",
       "194730                                 0                           0   \n",
       "81335                                  0                           0   \n",
       "\n",
       "        NAME_INCOME_TYPE_State servant  NAME_INCOME_TYPE_Student  \\\n",
       "95867                                0                         0   \n",
       "12595                                0                         0   \n",
       "162063                               0                         0   \n",
       "194730                               0                         0   \n",
       "81335                                0                         0   \n",
       "\n",
       "        NAME_INCOME_TYPE_Unemployed  NAME_INCOME_TYPE_Working  CODE_GENDER_M  \\\n",
       "95867                             0                         0              0   \n",
       "12595                             0                         0              0   \n",
       "162063                            0                         1              1   \n",
       "194730                            0                         1              0   \n",
       "81335                             0                         1              0   \n",
       "\n",
       "        CODE_GENDER_XNA  FLAG_OWN_REALTY_Y  \n",
       "95867                 0                  1  \n",
       "12595                 0                  1  \n",
       "162063                0                  1  \n",
       "194730                0                  1  \n",
       "81335                 0                  1  "
      ]
     },
     "execution_count": 23,
     "metadata": {},
     "output_type": "execute_result"
    }
   ],
   "source": [
    "# copy categoricals\n",
    "cat_dummies = categoricals.copy()\n",
    "\n",
    "# get dummies for categoricals from cat_dummies\n",
    "cat_dummies = pd.get_dummies(cat_dummies, drop_first=True)\n",
    "\n",
    "cat_dummies.head()"
   ]
  },
  {
   "cell_type": "code",
   "execution_count": 24,
   "metadata": {
    "ExecuteTime": {
     "end_time": "2022-03-22T16:05:47.408568Z",
     "start_time": "2022-03-22T16:05:47.394340Z"
    },
    "scrolled": true
   },
   "outputs": [
    {
     "name": "stdout",
     "output_type": "stream",
     "text": [
      "(64825, 13)\n"
     ]
    }
   ],
   "source": [
    "# print shape - column, row attributes\n",
    "print(cat_dummies.shape)"
   ]
  },
  {
   "cell_type": "markdown",
   "metadata": {},
   "source": [
    "## Remove Outliers"
   ]
  },
  {
   "cell_type": "code",
   "execution_count": 25,
   "metadata": {
    "ExecuteTime": {
     "end_time": "2022-03-22T16:05:47.554741Z",
     "start_time": "2022-03-22T16:05:47.465266Z"
    }
   },
   "outputs": [
    {
     "data": {
      "text/html": [
       "<div>\n",
       "<style scoped>\n",
       "    .dataframe tbody tr th:only-of-type {\n",
       "        vertical-align: middle;\n",
       "    }\n",
       "\n",
       "    .dataframe tbody tr th {\n",
       "        vertical-align: top;\n",
       "    }\n",
       "\n",
       "    .dataframe thead th {\n",
       "        text-align: right;\n",
       "    }\n",
       "</style>\n",
       "<table border=\"1\" class=\"dataframe\">\n",
       "  <thead>\n",
       "    <tr style=\"text-align: right;\">\n",
       "      <th></th>\n",
       "      <th>TARGET</th>\n",
       "      <th>CNT_CHILDREN</th>\n",
       "      <th>AMT_INCOME_TOTAL</th>\n",
       "      <th>AMT_CREDIT</th>\n",
       "      <th>AMT_ANNUITY</th>\n",
       "      <th>DAYS_EMPLOYED</th>\n",
       "      <th>CNT_FAM_MEMBERS</th>\n",
       "      <th>DAYS_BIRTH</th>\n",
       "      <th>AMT_GOODS_PRICE</th>\n",
       "      <th>REGION_RATING_CLIENT</th>\n",
       "      <th>...</th>\n",
       "      <th>NAME_EDUCATION_TYPE_Secondary / secondary special</th>\n",
       "      <th>NAME_INCOME_TYPE_Maternity leave</th>\n",
       "      <th>NAME_INCOME_TYPE_Pensioner</th>\n",
       "      <th>NAME_INCOME_TYPE_State servant</th>\n",
       "      <th>NAME_INCOME_TYPE_Student</th>\n",
       "      <th>NAME_INCOME_TYPE_Unemployed</th>\n",
       "      <th>NAME_INCOME_TYPE_Working</th>\n",
       "      <th>CODE_GENDER_M</th>\n",
       "      <th>CODE_GENDER_XNA</th>\n",
       "      <th>FLAG_OWN_REALTY_Y</th>\n",
       "    </tr>\n",
       "  </thead>\n",
       "  <tbody>\n",
       "    <tr>\n",
       "      <th>95867</th>\n",
       "      <td>0</td>\n",
       "      <td>2</td>\n",
       "      <td>135000.0</td>\n",
       "      <td>450000.0</td>\n",
       "      <td>22500.0</td>\n",
       "      <td>-1936</td>\n",
       "      <td>4.0</td>\n",
       "      <td>-13950</td>\n",
       "      <td>450000.0</td>\n",
       "      <td>2</td>\n",
       "      <td>...</td>\n",
       "      <td>1</td>\n",
       "      <td>0</td>\n",
       "      <td>0</td>\n",
       "      <td>0</td>\n",
       "      <td>0</td>\n",
       "      <td>0</td>\n",
       "      <td>0</td>\n",
       "      <td>0</td>\n",
       "      <td>0</td>\n",
       "      <td>1</td>\n",
       "    </tr>\n",
       "    <tr>\n",
       "      <th>12595</th>\n",
       "      <td>0</td>\n",
       "      <td>1</td>\n",
       "      <td>180000.0</td>\n",
       "      <td>448056.0</td>\n",
       "      <td>21015.0</td>\n",
       "      <td>-1687</td>\n",
       "      <td>2.0</td>\n",
       "      <td>-13797</td>\n",
       "      <td>315000.0</td>\n",
       "      <td>2</td>\n",
       "      <td>...</td>\n",
       "      <td>0</td>\n",
       "      <td>0</td>\n",
       "      <td>0</td>\n",
       "      <td>0</td>\n",
       "      <td>0</td>\n",
       "      <td>0</td>\n",
       "      <td>0</td>\n",
       "      <td>0</td>\n",
       "      <td>0</td>\n",
       "      <td>1</td>\n",
       "    </tr>\n",
       "    <tr>\n",
       "      <th>162063</th>\n",
       "      <td>0</td>\n",
       "      <td>3</td>\n",
       "      <td>90000.0</td>\n",
       "      <td>54504.0</td>\n",
       "      <td>4095.0</td>\n",
       "      <td>-242</td>\n",
       "      <td>5.0</td>\n",
       "      <td>-14981</td>\n",
       "      <td>45000.0</td>\n",
       "      <td>3</td>\n",
       "      <td>...</td>\n",
       "      <td>1</td>\n",
       "      <td>0</td>\n",
       "      <td>0</td>\n",
       "      <td>0</td>\n",
       "      <td>0</td>\n",
       "      <td>0</td>\n",
       "      <td>1</td>\n",
       "      <td>1</td>\n",
       "      <td>0</td>\n",
       "      <td>1</td>\n",
       "    </tr>\n",
       "    <tr>\n",
       "      <th>194730</th>\n",
       "      <td>0</td>\n",
       "      <td>0</td>\n",
       "      <td>90000.0</td>\n",
       "      <td>566055.0</td>\n",
       "      <td>20925.0</td>\n",
       "      <td>-3927</td>\n",
       "      <td>2.0</td>\n",
       "      <td>-11084</td>\n",
       "      <td>472500.0</td>\n",
       "      <td>3</td>\n",
       "      <td>...</td>\n",
       "      <td>1</td>\n",
       "      <td>0</td>\n",
       "      <td>0</td>\n",
       "      <td>0</td>\n",
       "      <td>0</td>\n",
       "      <td>0</td>\n",
       "      <td>1</td>\n",
       "      <td>0</td>\n",
       "      <td>0</td>\n",
       "      <td>1</td>\n",
       "    </tr>\n",
       "    <tr>\n",
       "      <th>81335</th>\n",
       "      <td>0</td>\n",
       "      <td>0</td>\n",
       "      <td>117000.0</td>\n",
       "      <td>808650.0</td>\n",
       "      <td>26217.0</td>\n",
       "      <td>-2694</td>\n",
       "      <td>2.0</td>\n",
       "      <td>-17074</td>\n",
       "      <td>675000.0</td>\n",
       "      <td>2</td>\n",
       "      <td>...</td>\n",
       "      <td>1</td>\n",
       "      <td>0</td>\n",
       "      <td>0</td>\n",
       "      <td>0</td>\n",
       "      <td>0</td>\n",
       "      <td>0</td>\n",
       "      <td>1</td>\n",
       "      <td>0</td>\n",
       "      <td>0</td>\n",
       "      <td>1</td>\n",
       "    </tr>\n",
       "  </tbody>\n",
       "</table>\n",
       "<p>5 rows × 23 columns</p>\n",
       "</div>"
      ],
      "text/plain": [
       "        TARGET  CNT_CHILDREN  AMT_INCOME_TOTAL  AMT_CREDIT  AMT_ANNUITY  \\\n",
       "95867        0             2          135000.0    450000.0      22500.0   \n",
       "12595        0             1          180000.0    448056.0      21015.0   \n",
       "162063       0             3           90000.0     54504.0       4095.0   \n",
       "194730       0             0           90000.0    566055.0      20925.0   \n",
       "81335        0             0          117000.0    808650.0      26217.0   \n",
       "\n",
       "        DAYS_EMPLOYED  CNT_FAM_MEMBERS  DAYS_BIRTH  AMT_GOODS_PRICE  \\\n",
       "95867           -1936              4.0      -13950         450000.0   \n",
       "12595           -1687              2.0      -13797         315000.0   \n",
       "162063           -242              5.0      -14981          45000.0   \n",
       "194730          -3927              2.0      -11084         472500.0   \n",
       "81335           -2694              2.0      -17074         675000.0   \n",
       "\n",
       "        REGION_RATING_CLIENT  ...  \\\n",
       "95867                      2  ...   \n",
       "12595                      2  ...   \n",
       "162063                     3  ...   \n",
       "194730                     3  ...   \n",
       "81335                      2  ...   \n",
       "\n",
       "        NAME_EDUCATION_TYPE_Secondary / secondary special  \\\n",
       "95867                                                   1   \n",
       "12595                                                   0   \n",
       "162063                                                  1   \n",
       "194730                                                  1   \n",
       "81335                                                   1   \n",
       "\n",
       "        NAME_INCOME_TYPE_Maternity leave  NAME_INCOME_TYPE_Pensioner  \\\n",
       "95867                                  0                           0   \n",
       "12595                                  0                           0   \n",
       "162063                                 0                           0   \n",
       "194730                                 0                           0   \n",
       "81335                                  0                           0   \n",
       "\n",
       "        NAME_INCOME_TYPE_State servant  NAME_INCOME_TYPE_Student  \\\n",
       "95867                                0                         0   \n",
       "12595                                0                         0   \n",
       "162063                               0                         0   \n",
       "194730                               0                         0   \n",
       "81335                                0                         0   \n",
       "\n",
       "        NAME_INCOME_TYPE_Unemployed  NAME_INCOME_TYPE_Working  CODE_GENDER_M  \\\n",
       "95867                             0                         0              0   \n",
       "12595                             0                         0              0   \n",
       "162063                            0                         1              1   \n",
       "194730                            0                         1              0   \n",
       "81335                             0                         1              0   \n",
       "\n",
       "        CODE_GENDER_XNA  FLAG_OWN_REALTY_Y  \n",
       "95867                 0                  1  \n",
       "12595                 0                  1  \n",
       "162063                0                  1  \n",
       "194730                0                  1  \n",
       "81335                 0                  1  \n",
       "\n",
       "[5 rows x 23 columns]"
      ]
     },
     "execution_count": 25,
     "metadata": {},
     "output_type": "execute_result"
    }
   ],
   "source": [
    "# concatenate cat_dummies and numericals\n",
    "\n",
    "df3 = pd.concat([numericals, \n",
    "                 cat_dummies], axis=1)\n",
    "df3.head()"
   ]
  },
  {
   "cell_type": "code",
   "execution_count": 26,
   "metadata": {
    "ExecuteTime": {
     "end_time": "2022-03-22T16:05:47.582787Z",
     "start_time": "2022-03-22T16:05:47.563113Z"
    }
   },
   "outputs": [
    {
     "data": {
      "text/plain": [
       "0     44595\n",
       "1     13411\n",
       "2      5863\n",
       "3       819\n",
       "4       106\n",
       "5        21\n",
       "6         7\n",
       "9         2\n",
       "11        1\n",
       "Name: CNT_CHILDREN, dtype: int64"
      ]
     },
     "execution_count": 26,
     "metadata": {},
     "output_type": "execute_result"
    }
   ],
   "source": [
    "# out of curiosity - wondering how many children people who are applying\n",
    "# for house loans have. I have 2.\n",
    "df3['CNT_CHILDREN'].value_counts()"
   ]
  },
  {
   "cell_type": "code",
   "execution_count": 27,
   "metadata": {
    "ExecuteTime": {
     "end_time": "2022-03-22T16:05:47.661865Z",
     "start_time": "2022-03-22T16:05:47.595160Z"
    },
    "scrolled": true
   },
   "outputs": [
    {
     "name": "stdout",
     "output_type": "stream",
     "text": [
      "Upper Quantile: TARGET                        1.000\n",
      "CNT_CHILDREN                  4.000\n",
      "AMT_INCOME_TOTAL         765000.000\n",
      "AMT_CREDIT              2291073.048\n",
      "AMT_ANNUITY               97149.888\n",
      "DAYS_EMPLOYED            365243.000\n",
      "CNT_FAM_MEMBERS               6.000\n",
      "DAYS_BIRTH                -7791.472\n",
      "AMT_GOODS_PRICE         2250000.000\n",
      "REGION_RATING_CLIENT          3.000\n",
      "Name: 0.9985, dtype: float64\n",
      "\n",
      "Lower Quantile: TARGET                      0.000\n",
      "CNT_CHILDREN                0.000\n",
      "AMT_INCOME_TOTAL        36000.000\n",
      "AMT_CREDIT              49752.000\n",
      "AMT_ANNUITY              4362.624\n",
      "DAYS_EMPLOYED          -13515.112\n",
      "CNT_FAM_MEMBERS             1.000\n",
      "DAYS_BIRTH             -24908.404\n",
      "AMT_GOODS_PRICE         45000.000\n",
      "REGION_RATING_CLIENT        1.000\n",
      "Name: 0.0015, dtype: float64\n"
     ]
    }
   ],
   "source": [
    "# examine outliers from AMT_INCOME_TOTAL\n",
    "\n",
    "num2 = numericals.copy()\n",
    "print('Upper Quantile:',num2.quantile(q=.9985))\n",
    "print()\n",
    "print('Lower Quantile:',num2.quantile(q=.0015))"
   ]
  },
  {
   "cell_type": "code",
   "execution_count": 28,
   "metadata": {
    "ExecuteTime": {
     "end_time": "2022-03-22T16:05:48.181314Z",
     "start_time": "2022-03-22T16:05:47.668745Z"
    },
    "scrolled": false
   },
   "outputs": [
    {
     "data": {
      "text/plain": [
       "<AxesSubplot:>"
      ]
     },
     "execution_count": 28,
     "metadata": {},
     "output_type": "execute_result"
    },
    {
     "data": {
      "image/png": "[encoded data removed]",
      "text/plain": [
       "<Figure size 432x288 with 1 Axes>"
      ]
     },
     "metadata": {
      "needs_background": "light"
     },
     "output_type": "display_data"
    }
   ],
   "source": [
    "# Visualizing histogram with outliers for 'AMT_INCOME_TOTAL'\n",
    "df3['AMT_INCOME_TOTAL'].hist(bins=25)"
   ]
  },
  {
   "cell_type": "code",
   "execution_count": 29,
   "metadata": {
    "ExecuteTime": {
     "end_time": "2022-03-22T16:05:49.110773Z",
     "start_time": "2022-03-22T16:05:48.195553Z"
    },
    "scrolled": true
   },
   "outputs": [
    {
     "data": {
      "text/plain": [
       "<AxesSubplot:>"
      ]
     },
     "execution_count": 29,
     "metadata": {},
     "output_type": "execute_result"
    },
    {
     "data": {
      "image/png": "[encoded data removed]",
      "text/plain": [
       "<Figure size 432x288 with 1 Axes>"
      ]
     },
     "metadata": {
      "needs_background": "light"
     },
     "output_type": "display_data"
    }
   ],
   "source": [
    "df3 = df3[(\n",
    "    df3['AMT_INCOME_TOTAL'] > 35656.2) & (\n",
    "    df3['AMT_INCOME_TOTAL'] < 810000)]\n",
    "\n",
    "df3['AMT_INCOME_TOTAL'].hist(bins=25)"
   ]
  },
  {
   "cell_type": "markdown",
   "metadata": {},
   "source": [
    "### Removing outliers Summary\n",
    "* Removing outliers for AMT_INCOME_TOTAL seemed to help normalize the distribution, but further normalization will be required to reduce the differences in magnitude between the features."
   ]
  },
  {
   "cell_type": "markdown",
   "metadata": {},
   "source": [
    "# Baseline Model - Logistic Regression"
   ]
  },
  {
   "cell_type": "code",
   "execution_count": 30,
   "metadata": {
    "ExecuteTime": {
     "end_time": "2022-03-22T16:05:49.267172Z",
     "start_time": "2022-03-22T16:05:49.130947Z"
    }
   },
   "outputs": [
    {
     "name": "stdout",
     "output_type": "stream",
     "text": [
      "0    29916\n",
      "1    18571\n",
      "Name: TARGET, dtype: int64 \n",
      "\n",
      " 0    9972\n",
      "1    6191\n",
      "Name: TARGET, dtype: int64\n"
     ]
    }
   ],
   "source": [
    "# Define X and y\n",
    "y = df3['TARGET']\n",
    "X = df3.drop('TARGET', axis=1)\n",
    "\n",
    "# Perform train-test split with random_state=42 and stratify=y\n",
    "X_train, X_test, y_train, y_test = train_test_split(X, y, random_state=42, stratify=y)\n",
    "print(y_train.value_counts(),'\\n\\n', y_test.value_counts())"
   ]
  },
  {
   "cell_type": "markdown",
   "metadata": {},
   "source": [
    "## Rate of loan approval for train and test sets.\n",
    "* Should be very similar rating"
   ]
  },
  {
   "cell_type": "code",
   "execution_count": 83,
   "metadata": {
    "ExecuteTime": {
     "end_time": "2022-03-22T16:21:56.107966Z",
     "start_time": "2022-03-22T16:21:56.091433Z"
    }
   },
   "outputs": [
    {
     "name": "stdout",
     "output_type": "stream",
     "text": [
      "Train percent approval: 0.3830098789366222\n",
      "Test percent approval:  0.38303532760007425\n"
     ]
    }
   ],
   "source": [
    "# percent value counts\n",
    "print(\"Train percent approval:\", y_train.value_counts(normalize=True)[1])\n",
    "print(\"Test percent approval: \", y_test.value_counts(normalize=True)[1])"
   ]
  },
  {
   "cell_type": "markdown",
   "metadata": {},
   "source": [
    "## Fit a model\n",
    "* Instantiate LogisticRegression using:\n",
    "    * 'liblinear' solver\n",
    "    * No intercept\n",
    "    * High value for C"
   ]
  },
  {
   "cell_type": "code",
   "execution_count": 84,
   "metadata": {
    "ExecuteTime": {
     "end_time": "2022-03-22T16:21:59.958731Z",
     "start_time": "2022-03-22T16:21:59.494224Z"
    }
   },
   "outputs": [
    {
     "data": {
      "text/plain": [
       "LogisticRegression(C=1000000000000.0, fit_intercept=False, solver='liblinear')"
      ]
     },
     "execution_count": 84,
     "metadata": {},
     "output_type": "execute_result"
    }
   ],
   "source": [
    "# Instantiate the model\n",
    "logreg = LogisticRegression(fit_intercept=False, C=1e12, solver='liblinear')\n",
    "\n",
    "# Fit the model\n",
    "logreg.fit(X_train, y_train)"
   ]
  },
  {
   "cell_type": "code",
   "execution_count": 85,
   "metadata": {
    "ExecuteTime": {
     "end_time": "2022-03-22T16:21:59.988495Z",
     "start_time": "2022-03-22T16:21:59.963663Z"
    }
   },
   "outputs": [],
   "source": [
    "# Generate predictions\n",
    "y_hat_train = logreg.predict(X_train)\n",
    "y_hat_test = logreg.predict(X_test)"
   ]
  },
  {
   "cell_type": "markdown",
   "metadata": {},
   "source": [
    "## Rate of correct predictions on the training set."
   ]
  },
  {
   "cell_type": "code",
   "execution_count": 34,
   "metadata": {
    "ExecuteTime": {
     "end_time": "2022-03-22T16:05:50.287999Z",
     "start_time": "2022-03-22T16:05:50.256490Z"
    }
   },
   "outputs": [
    {
     "name": "stdout",
     "output_type": "stream",
     "text": [
      "0    30198\n",
      "1    18289\n",
      "Name: TARGET, dtype: int64\n",
      "------------------------------------\n",
      "0    0.622806\n",
      "1    0.377194\n",
      "Name: TARGET, dtype: float64\n"
     ]
    }
   ],
   "source": [
    "# Subtract the two columns. If values are equal, difference will be zero. Then count number of zeros.\n",
    "residuals = np.abs(y_train - y_hat_train)\n",
    "print(pd.Series(residuals).value_counts())\n",
    "print('------------------------------------')\n",
    "print(pd.Series(residuals).value_counts(normalize=True))\n",
    "# 62% accuracy"
   ]
  },
  {
   "cell_type": "markdown",
   "metadata": {},
   "source": [
    "## Rate of correct predictions on the test set."
   ]
  },
  {
   "cell_type": "code",
   "execution_count": 35,
   "metadata": {
    "ExecuteTime": {
     "end_time": "2022-03-22T16:05:50.328582Z",
     "start_time": "2022-03-22T16:05:50.300570Z"
    }
   },
   "outputs": [
    {
     "name": "stdout",
     "output_type": "stream",
     "text": [
      "0    10075\n",
      "1     6088\n",
      "Name: TARGET, dtype: int64\n",
      "------------------------------------\n",
      "0    0.623337\n",
      "1    0.376663\n",
      "Name: TARGET, dtype: float64\n"
     ]
    }
   ],
   "source": [
    "# Subtract the two columns. If values or equal, difference will be zero. Then count number of zeros.\n",
    "residuals = np.abs(y_test - y_hat_test)\n",
    "print(pd.Series(residuals).value_counts())\n",
    "print('------------------------------------')\n",
    "print(pd.Series(residuals).value_counts(normalize=True))\n",
    "# 62% accuracy"
   ]
  },
  {
   "cell_type": "code",
   "execution_count": 36,
   "metadata": {
    "ExecuteTime": {
     "end_time": "2022-03-22T16:05:50.352565Z",
     "start_time": "2022-03-22T16:05:50.333566Z"
    }
   },
   "outputs": [
    {
     "data": {
      "text/plain": [
       "0    39888\n",
       "1    24762\n",
       "Name: TARGET, dtype: int64"
      ]
     },
     "execution_count": 36,
     "metadata": {},
     "output_type": "execute_result"
    }
   ],
   "source": [
    "df3['TARGET'].value_counts()"
   ]
  },
  {
   "cell_type": "code",
   "execution_count": 86,
   "metadata": {
    "ExecuteTime": {
     "end_time": "2022-03-22T16:22:10.000437Z",
     "start_time": "2022-03-22T16:22:09.971452Z"
    }
   },
   "outputs": [
    {
     "name": "stdout",
     "output_type": "stream",
     "text": [
      "[[9645 5761]\n",
      " [ 327  430]]\n"
     ]
    }
   ],
   "source": [
    "test_predictions = (y_hat_test >= 0.5).astype('int')\n",
    "\n",
    "cnf_matrix = confusion_matrix(test_predictions, y_test)\n",
    "\n",
    "print(cnf_matrix)"
   ]
  },
  {
   "cell_type": "markdown",
   "metadata": {},
   "source": [
    "## Analysis of Baseline:\n",
    "* Not a great model if it is able to guess correctly 62% of the time.\n",
    "    * Huge issue with proportion of False Negatives\n",
    "* Will look to improve this model by:\n",
    "    * adding an intercept\n",
    "    * altering the regularization parameters"
   ]
  },
  {
   "cell_type": "markdown",
   "metadata": {},
   "source": [
    "# Second Model - improved Logistic Regression\n",
    "\n"
   ]
  },
  {
   "cell_type": "markdown",
   "metadata": {},
   "source": [
    "## Add an intercept\n",
    "* Regularization parameter (C) kept at a high number"
   ]
  },
  {
   "cell_type": "code",
   "execution_count": 38,
   "metadata": {
    "ExecuteTime": {
     "end_time": "2022-03-22T16:05:50.986084Z",
     "start_time": "2022-03-22T16:05:50.474193Z"
    }
   },
   "outputs": [
    {
     "data": {
      "text/plain": [
       "LogisticRegression(C=1e+16, solver='liblinear')"
      ]
     },
     "execution_count": 38,
     "metadata": {},
     "output_type": "execute_result"
    }
   ],
   "source": [
    "# Create new model\n",
    "logregi = LogisticRegression(fit_intercept=True, C=1e16, solver='liblinear')\n",
    "logregi.fit(X_train, y_train)"
   ]
  },
  {
   "cell_type": "code",
   "execution_count": 39,
   "metadata": {
    "ExecuteTime": {
     "end_time": "2022-03-22T16:05:51.004147Z",
     "start_time": "2022-03-22T16:05:50.989539Z"
    }
   },
   "outputs": [
    {
     "data": {
      "text/plain": [
       "LogisticRegression(C=1e+16, multi_class='warn', solver='liblinear')"
      ]
     },
     "execution_count": 39,
     "metadata": {},
     "output_type": "execute_result"
    }
   ],
   "source": [
    "LogisticRegression(C=1e+16, class_weight=None, dual=False, fit_intercept=True,\n",
    "                   intercept_scaling=1, l1_ratio=None, max_iter=100,\n",
    "                   multi_class='warn', n_jobs=None, penalty='l2',\n",
    "                   random_state=None, solver='liblinear', tol=0.0001, verbose=0,\n",
    "                   warm_start=False)"
   ]
  },
  {
   "cell_type": "code",
   "execution_count": 40,
   "metadata": {
    "ExecuteTime": {
     "end_time": "2022-03-22T16:05:52.707455Z",
     "start_time": "2022-03-22T16:05:51.007183Z"
    }
   },
   "outputs": [
    {
     "name": "stdout",
     "output_type": "stream",
     "text": [
      "Scikit-learn Model 2 with intercept Test AUC: 0.619623558465723\n",
      "Scikit-learn Model 2 with intercept Train AUC: 0.6109399553722512\n"
     ]
    },
    {
     "data": {
      "image/png": "[encoded data removed]",
      "text/plain": [
       "<Figure size 432x288 with 1 Axes>"
      ]
     },
     "metadata": {
      "needs_background": "light"
     },
     "output_type": "display_data"
    }
   ],
   "source": [
    "# Second model plots\n",
    "y_test_score = logregi.decision_function(X_test)\n",
    "y_train_score = logregi.decision_function(X_train)\n",
    "\n",
    "test_fpr, test_tpr, test_thresholds = roc_curve(y_test, y_test_score)\n",
    "train_fpr, train_tpr, train_thresholds = roc_curve(y_train, y_train_score)\n",
    "\n",
    "print('Scikit-learn Model 2 with intercept Test AUC: {}'.format(auc(test_fpr, test_tpr)))\n",
    "print('Scikit-learn Model 2 with intercept Train AUC: {}'.format(auc(train_fpr, train_tpr)))\n",
    "\n",
    "\n",
    "plt.plot(test_fpr, test_tpr, color='purple',\n",
    "          label='Scikit learn Model 2 with intercept Test ROC curve')\n",
    "plt.plot(train_fpr, train_tpr, color='red',\n",
    "         label='Scikit learn Model 2 with intercept Train ROC curve')\n",
    "\n",
    "# Formatting\n",
    "plt.plot([0, 1], [0, 1], color='navy', linestyle='--')\n",
    "plt.xlim([0.0, 1.0])\n",
    "plt.ylim([0.0, 1.05])\n",
    "plt.yticks([i/20.0 for i in range(21)])\n",
    "plt.xticks([i/20.0 for i in range(21)])\n",
    "plt.xlabel('False Positive Rate')\n",
    "plt.ylabel('True Positive Rate')\n",
    "plt.title('Receiver operating characteristic (ROC) Curve')\n",
    "plt.legend(loc=\"lower right\")\n",
    "plt.show()"
   ]
  },
  {
   "cell_type": "markdown",
   "metadata": {},
   "source": [
    "## Add the regularization parameter"
   ]
  },
  {
   "cell_type": "code",
   "execution_count": 41,
   "metadata": {
    "ExecuteTime": {
     "end_time": "2022-03-22T16:05:59.980215Z",
     "start_time": "2022-03-22T16:05:52.719186Z"
    }
   },
   "outputs": [
    {
     "data": {
      "image/png": "[encoded data removed]",
      "text/plain": [
       "<Figure size 1080x1080 with 8 Axes>"
      ]
     },
     "metadata": {
      "needs_background": "light"
     },
     "output_type": "display_data"
    }
   ],
   "source": [
    "fig, axes = plt.subplots(4,2, figsize=(15, 15))\n",
    "for n in range(8):\n",
    "    i = n%4\n",
    "    j = n//4\n",
    "    ax = axes[i, j]\n",
    "    # Fit a model\n",
    "    logreg = LogisticRegression(fit_intercept=True, C=1.5**(n), solver='liblinear')\n",
    "    logreg.fit(X_train, y_train)\n",
    "    \n",
    "    y_test_score = logreg.decision_function(X_test)\n",
    "    y_train_score = logreg.decision_function(X_train)\n",
    "\n",
    "    test_fpr, test_tpr, test_thresholds = roc_curve(y_test, y_test_score)\n",
    "    train_fpr, train_tpr, train_thresholds = roc_curve(y_train, y_train_score)\n",
    "    \n",
    "    test_auc = auc(test_fpr, test_tpr)\n",
    "    train_auc = auc(train_fpr, train_tpr)\n",
    "    auc_diff = round(train_auc - test_auc, 4)\n",
    "\n",
    "#     print('Test AUC with C=1.5^{}: {}'.format(n*2, auc(test_fpr, test_tpr)))\n",
    "#     print('Train AUCwith C=1.5^{}: {}'.format(n*2, auc(train_fpr, train_tpr)))\n",
    "    # Add the plot\n",
    "    ax.plot(test_fpr, test_tpr, color='darkorange',\n",
    "          label='Test ROC curve')\n",
    "    ax.plot(train_fpr, train_tpr, color='blue',\n",
    "              label='Train ROC curve')\n",
    "    \n",
    "    ax.set_title('Regularization Parameter set to: 1.5^{}\\nDifference in Test/Train AUC: {}'.format(n, auc_diff))\n"
   ]
  },
  {
   "cell_type": "markdown",
   "metadata": {},
   "source": [
    "## Analysis of Second Model:\n",
    "* A somewhat worse model than the baseline, which wasn't a good model.\n",
    "    * Still a huge issue with proportion of False Negatives\n",
    "* Will look to improve this model by:\n",
    "    * using cross-validation and strati-k-fold"
   ]
  },
  {
   "cell_type": "markdown",
   "metadata": {},
   "source": [
    "# Third Model - final Logistic Regression"
   ]
  },
  {
   "cell_type": "code",
   "execution_count": 42,
   "metadata": {
    "ExecuteTime": {
     "end_time": "2022-03-22T16:06:02.255178Z",
     "start_time": "2022-03-22T16:05:59.983077Z"
    }
   },
   "outputs": [
    {
     "data": {
      "text/plain": [
       "0.6494684676204998"
      ]
     },
     "execution_count": 42,
     "metadata": {},
     "output_type": "execute_result"
    }
   ],
   "source": [
    "# Instantiate a LogisticRegression with random_state=42\n",
    "baseline_model = LogisticRegression(random_state=42)\n",
    "\n",
    "# Use cross_val_score with scoring=\"neg_log_loss\" to evaluate the model\n",
    "# on X_train and y_train\n",
    "baseline_neg_log_loss_cv = cross_val_score(baseline_model, X_train, y_train, scoring=\"neg_log_loss\")\n",
    "\n",
    "baseline_log_loss = -(baseline_neg_log_loss_cv.mean())\n",
    "baseline_log_loss"
   ]
  },
  {
   "cell_type": "markdown",
   "metadata": {},
   "source": [
    "## Log loss reference \n",
    "* Log loss for a model that guessed 0 every time should have a higher log loss than our predictive model."
   ]
  },
  {
   "cell_type": "code",
   "execution_count": 43,
   "metadata": {
    "ExecuteTime": {
     "end_time": "2022-03-22T16:06:02.395678Z",
     "start_time": "2022-03-22T16:06:02.273980Z"
    }
   },
   "outputs": [
    {
     "data": {
      "text/plain": [
       "13.228692565633803"
      ]
     },
     "execution_count": 43,
     "metadata": {},
     "output_type": "execute_result"
    }
   ],
   "source": [
    "# what would the log loss be for a model that guessed 0 every time?\n",
    "log_loss(y_train, np.zeros(len(y_train)))"
   ]
  },
  {
   "cell_type": "markdown",
   "metadata": {},
   "source": [
    "### Summary of log loss reference\n",
    "* Predictive model is much better than guessing 0 every time."
   ]
  },
  {
   "cell_type": "markdown",
   "metadata": {},
   "source": [
    "## StratifiedKFold implementation"
   ]
  },
  {
   "cell_type": "code",
   "execution_count": 44,
   "metadata": {
    "ExecuteTime": {
     "end_time": "2022-03-22T16:06:04.652589Z",
     "start_time": "2022-03-22T16:06:02.404394Z"
    }
   },
   "outputs": [
    {
     "data": {
      "text/plain": [
       "0.6494684676204998"
      ]
     },
     "execution_count": 44,
     "metadata": {},
     "output_type": "execute_result"
    }
   ],
   "source": [
    "# Negative log loss doesn't exist as something we can import,\n",
    "# but we can create it\n",
    "neg_log_loss = make_scorer(log_loss, greater_is_better=False, needs_proba=True)\n",
    "\n",
    "# Instantiate the model (same as previous example)\n",
    "baseline_model = LogisticRegression(random_state=42)\n",
    "\n",
    "# Create a list to hold the score from each fold\n",
    "kfold_scores = np.ndarray(5)\n",
    "\n",
    "# Instantiate a splitter object and loop over its result\n",
    "kfold = StratifiedKFold()\n",
    "for fold, (train_index, val_index) in enumerate(kfold.split(X_train, y_train)):\n",
    "    # Extract train and validation subsets using the provided indices\n",
    "    X_t, X_val = X_train.iloc[train_index], X_train.iloc[val_index]\n",
    "    y_t, y_val = y_train.iloc[train_index], y_train.iloc[val_index]\n",
    "    \n",
    "    # Clone the provided model and fit it on the train subset\n",
    "    temp_model = clone(baseline_model)\n",
    "    temp_model.fit(X_t, y_t)\n",
    "    \n",
    "    # Evaluate the provided model on the validation subset\n",
    "    neg_log_loss_score = neg_log_loss(temp_model, X_val, y_val)\n",
    "    kfold_scores[fold] = neg_log_loss_score\n",
    "    \n",
    "-(kfold_scores.mean())\n",
    "\n",
    "# same cross-val score as or"
   ]
  },
  {
   "cell_type": "code",
   "execution_count": 45,
   "metadata": {
    "ExecuteTime": {
     "end_time": "2022-03-22T16:06:04.664760Z",
     "start_time": "2022-03-22T16:06:04.657055Z"
    }
   },
   "outputs": [
    {
     "name": "stdout",
     "output_type": "stream",
     "text": [
      "[-0.65061392 -0.65267406 -0.64602757 -0.64863118 -0.64939561]\n",
      "[-0.65061392 -0.65267406 -0.64602757 -0.64863118 -0.64939561]\n"
     ]
    }
   ],
   "source": [
    "# check that scores are identical\n",
    "print(baseline_neg_log_loss_cv)\n",
    "print(kfold_scores)"
   ]
  },
  {
   "cell_type": "markdown",
   "metadata": {},
   "source": [
    "### StratifiedKFold allows implementation of StandardScaler\n",
    "* Won't use SMOTE as class imbalance issue resolved by taking random selection of loan rejections for 66.6/33.3 percent balance, compared to 85/15 prior balance."
   ]
  },
  {
   "cell_type": "code",
   "execution_count": 46,
   "metadata": {
    "ExecuteTime": {
     "end_time": "2022-03-22T16:06:11.420837Z",
     "start_time": "2022-03-22T16:06:04.675031Z"
    }
   },
   "outputs": [
    {
     "data": {
      "text/plain": [
       "0.7896671404396175"
      ]
     },
     "execution_count": 46,
     "metadata": {},
     "output_type": "execute_result"
    }
   ],
   "source": [
    "def custom_cross_val_score(estimator, X, y):\n",
    "    # Create a list to hold the scores from each fold\n",
    "    kfold_train_scores = np.ndarray(5)\n",
    "    kfold_val_scores = np.ndarray(5)\n",
    "\n",
    "    # Instantiate a splitter object and loop over its result\n",
    "    kfold = StratifiedKFold(n_splits=5)\n",
    "    for fold, (train_index, val_index) in enumerate(kfold.split(X, y)):\n",
    "        # Extract train and validation subsets using the provided indices\n",
    "        X_t, X_val = X.iloc[train_index], X.iloc[val_index]\n",
    "        y_t, y_val = y.iloc[train_index], y.iloc[val_index]\n",
    "        \n",
    "        # Instantiate StandardScaler\n",
    "        scaler = StandardScaler()\n",
    "        # Fit and transform X_t\n",
    "        X_t_scaled = scaler.fit_transform(X_t)\n",
    "        # Transform X_val\n",
    "        X_val_scaled = scaler.transform(X_val)\n",
    "        \n",
    "        # Instantiate SMOTE with random_state=42 and sampling_strategy=0.28\n",
    "        # sm = SMOTE(random_state=42, sampling_strategy=0.28)\n",
    "        # Fit and transform X_t_scaled and y_t using sm\n",
    "        # X_t_oversampled, y_t_oversampled = sm.fit_resample(X_t_scaled, y_t)\n",
    "        \n",
    "        # Clone the provided model and fit it on the train subset\n",
    "        temp_model = clone(estimator)\n",
    "        temp_model.fit(X_t_scaled, y_t)\n",
    "        \n",
    "        # Evaluate the provided model on the train and validation subsets\n",
    "        neg_log_loss_score_train = neg_log_loss(temp_model, X_t_scaled, y_t)\n",
    "        neg_log_loss_score_val = neg_log_loss(temp_model, X_val_scaled, y_val)\n",
    "        kfold_train_scores[fold] = neg_log_loss_score_train\n",
    "        kfold_val_scores[fold] = neg_log_loss_score_val\n",
    "        \n",
    "    return kfold_train_scores, kfold_val_scores\n",
    "\n",
    "model_with_preprocessing = LogisticRegression(random_state=42, class_weight={1: 0.28})\n",
    "preprocessed_train_scores, preprocessed_neg_log_loss_cv = custom_cross_val_score(model_with_preprocessing, X_train, y_train)\n",
    "- (preprocessed_neg_log_loss_cv.mean())"
   ]
  },
  {
   "cell_type": "markdown",
   "metadata": {},
   "source": [
    "### Score for log loss increases\n",
    "* Model with manual StandardScaler implementation is worse."
   ]
  },
  {
   "cell_type": "code",
   "execution_count": 47,
   "metadata": {
    "ExecuteTime": {
     "end_time": "2022-03-22T16:06:11.445946Z",
     "start_time": "2022-03-22T16:06:11.435579Z"
    }
   },
   "outputs": [
    {
     "name": "stdout",
     "output_type": "stream",
     "text": [
      "0.6494684676204998\n",
      "0.7896671404396175\n"
     ]
    }
   ],
   "source": [
    "# Score improvement with StandardScaler?\n",
    "print(-baseline_neg_log_loss_cv.mean())\n",
    "print(-preprocessed_neg_log_loss_cv.mean())"
   ]
  },
  {
   "cell_type": "markdown",
   "metadata": {},
   "source": [
    "### Overfitting?\n",
    "* No - Train and Validations scores are very similar."
   ]
  },
  {
   "cell_type": "code",
   "execution_count": 48,
   "metadata": {
    "ExecuteTime": {
     "end_time": "2022-03-22T16:06:11.467877Z",
     "start_time": "2022-03-22T16:06:11.453980Z"
    }
   },
   "outputs": [
    {
     "name": "stdout",
     "output_type": "stream",
     "text": [
      "Train:      [0.78862894 0.7866924  0.789967   0.78914328 0.78860506]\n",
      "Validation: [0.78875951 0.79887454 0.78517344 0.78783394 0.78769427]\n"
     ]
    }
   ],
   "source": [
    "print(\"Train:     \", -preprocessed_train_scores)\n",
    "print(\"Validation:\", -preprocessed_neg_log_loss_cv)"
   ]
  },
  {
   "cell_type": "markdown",
   "metadata": {},
   "source": [
    "### Parameters\n",
    "* Is the Regularization too high leading to under-fitting?"
   ]
  },
  {
   "cell_type": "code",
   "execution_count": 49,
   "metadata": {
    "ExecuteTime": {
     "end_time": "2022-03-22T16:06:11.485509Z",
     "start_time": "2022-03-22T16:06:11.473233Z"
    }
   },
   "outputs": [
    {
     "data": {
      "text/plain": [
       "{'C': 1.0,\n",
       " 'class_weight': {1: 0.28},\n",
       " 'dual': False,\n",
       " 'fit_intercept': True,\n",
       " 'intercept_scaling': 1,\n",
       " 'l1_ratio': None,\n",
       " 'max_iter': 100,\n",
       " 'multi_class': 'auto',\n",
       " 'n_jobs': None,\n",
       " 'penalty': 'l2',\n",
       " 'random_state': 42,\n",
       " 'solver': 'lbfgs',\n",
       " 'tol': 0.0001,\n",
       " 'verbose': 0,\n",
       " 'warm_start': False}"
      ]
     },
     "execution_count": 49,
     "metadata": {},
     "output_type": "execute_result"
    }
   ],
   "source": [
    "# Print parameters\n",
    "model_with_preprocessing.get_params()"
   ]
  },
  {
   "cell_type": "markdown",
   "metadata": {},
   "source": [
    "#### Reduce Regularization\n",
    "* Increase value of C by orders of magnitude"
   ]
  },
  {
   "cell_type": "code",
   "execution_count": 50,
   "metadata": {
    "ExecuteTime": {
     "end_time": "2022-03-22T16:06:11.550067Z",
     "start_time": "2022-03-22T16:06:11.489952Z"
    }
   },
   "outputs": [],
   "source": [
    "# Increase value of C\n",
    "\n",
    "model_less_regularization = LogisticRegression(\n",
    "    random_state=42,\n",
    "    class_weight={1: 0.28},\n",
    "    C=1e5\n",
    ")"
   ]
  },
  {
   "cell_type": "code",
   "execution_count": 51,
   "metadata": {
    "ExecuteTime": {
     "end_time": "2022-03-22T16:06:17.414675Z",
     "start_time": "2022-03-22T16:06:11.579091Z"
    }
   },
   "outputs": [
    {
     "name": "stderr",
     "output_type": "stream",
     "text": [
      "/Users/jimpetoskey/opt/anaconda3/envs/learn-env/lib/python3.8/site-packages/sklearn/linear_model/_logistic.py:762: ConvergenceWarning: lbfgs failed to converge (status=1):\n",
      "STOP: TOTAL NO. of ITERATIONS REACHED LIMIT.\n",
      "\n",
      "Increase the number of iterations (max_iter) or scale the data as shown in:\n",
      "    https://scikit-learn.org/stable/modules/preprocessing.html\n",
      "Please also refer to the documentation for alternative solver options:\n",
      "    https://scikit-learn.org/stable/modules/linear_model.html#logistic-regression\n",
      "  n_iter_i = _check_optimize_result(\n"
     ]
    },
    {
     "name": "stdout",
     "output_type": "stream",
     "text": [
      "Previous Model\n",
      "Train average:      0.7886073368196468\n",
      "Validation average: 0.7896671404396175\n",
      "Current Model\n",
      "Train average:      0.7859250038962765\n",
      "Validation average: 0.7883860532408666\n"
     ]
    }
   ],
   "source": [
    "less_regularization_train_scores, less_regularization_val_scores = custom_cross_val_score(\n",
    "    model_less_regularization, \n",
    "    X_train, \n",
    "    y_train\n",
    ")\n",
    "\n",
    "print(\"Previous Model\")\n",
    "print(\"Train average:     \", -preprocessed_train_scores.mean())\n",
    "print(\"Validation average:\", -preprocessed_neg_log_loss_cv.mean())\n",
    "print(\"Current Model\")\n",
    "print(\"Train average:     \", -less_regularization_train_scores.mean())\n",
    "print(\"Validation average:\", -less_regularization_val_scores.mean())"
   ]
  },
  {
   "cell_type": "markdown",
   "metadata": {},
   "source": [
    "#### Summary of increasing Regularization\n",
    "* Slight improvement in model as seen in lower train and validation scores."
   ]
  },
  {
   "cell_type": "markdown",
   "metadata": {},
   "source": [
    "### Alternate Solver or Penalty?"
   ]
  },
  {
   "cell_type": "code",
   "execution_count": 52,
   "metadata": {
    "ExecuteTime": {
     "end_time": "2022-03-22T16:06:17.445251Z",
     "start_time": "2022-03-22T16:06:17.422447Z"
    }
   },
   "outputs": [
    {
     "name": "stdout",
     "output_type": "stream",
     "text": [
      "solver: lbfgs\n",
      "penalty: l2\n"
     ]
    }
   ],
   "source": [
    "# print default solver and penalty\n",
    "print(\"solver:\", model_less_regularization.get_params()[\"solver\"])\n",
    "print(\"penalty:\", model_less_regularization.get_params()[\"penalty\"])"
   ]
  },
  {
   "cell_type": "markdown",
   "metadata": {},
   "source": [
    "#### Saga and elasticnet to balance L1 & L2 regularization\n",
    "* 11_ratio\n",
    "    * 0 = L1 only, 1 = L2 only, 0-1 is the range for balance"
   ]
  },
  {
   "cell_type": "code",
   "execution_count": 53,
   "metadata": {
    "ExecuteTime": {
     "end_time": "2022-03-22T16:06:45.413235Z",
     "start_time": "2022-03-22T16:06:17.457269Z"
    }
   },
   "outputs": [
    {
     "name": "stderr",
     "output_type": "stream",
     "text": [
      "/Users/jimpetoskey/opt/anaconda3/envs/learn-env/lib/python3.8/site-packages/sklearn/linear_model/_sag.py:329: ConvergenceWarning: The max_iter was reached which means the coef_ did not converge\n",
      "  warnings.warn(\"The max_iter was reached which means \"\n",
      "/Users/jimpetoskey/opt/anaconda3/envs/learn-env/lib/python3.8/site-packages/sklearn/linear_model/_sag.py:329: ConvergenceWarning: The max_iter was reached which means the coef_ did not converge\n",
      "  warnings.warn(\"The max_iter was reached which means \"\n",
      "/Users/jimpetoskey/opt/anaconda3/envs/learn-env/lib/python3.8/site-packages/sklearn/linear_model/_sag.py:329: ConvergenceWarning: The max_iter was reached which means the coef_ did not converge\n",
      "  warnings.warn(\"The max_iter was reached which means \"\n",
      "/Users/jimpetoskey/opt/anaconda3/envs/learn-env/lib/python3.8/site-packages/sklearn/linear_model/_sag.py:329: ConvergenceWarning: The max_iter was reached which means the coef_ did not converge\n",
      "  warnings.warn(\"The max_iter was reached which means \"\n"
     ]
    },
    {
     "name": "stdout",
     "output_type": "stream",
     "text": [
      "Previous Model (Less Regularization)\n",
      "Train average:      0.7859250038962765\n",
      "Validation average: 0.7883860532408666\n",
      "Current Model\n",
      "Train average:      0.7941860747809985\n",
      "Validation average: 0.7948458462683201\n"
     ]
    },
    {
     "name": "stderr",
     "output_type": "stream",
     "text": [
      "/Users/jimpetoskey/opt/anaconda3/envs/learn-env/lib/python3.8/site-packages/sklearn/linear_model/_sag.py:329: ConvergenceWarning: The max_iter was reached which means the coef_ did not converge\n",
      "  warnings.warn(\"The max_iter was reached which means \"\n"
     ]
    }
   ],
   "source": [
    "model_alternative_solver = LogisticRegression(\n",
    "    random_state=42,\n",
    "    class_weight={1: 0.28},\n",
    "    C=1e5,\n",
    "    solver=\"saga\",\n",
    "    penalty=\"elasticnet\",\n",
    "    l1_ratio=0.5\n",
    ")\n",
    "\n",
    "alternative_solver_train_scores, alternative_solver_val_scores = custom_cross_val_score(\n",
    "    model_alternative_solver,\n",
    "    X_train,\n",
    "    y_train\n",
    ")\n",
    "\n",
    "print(\"Previous Model (Less Regularization)\")\n",
    "print(\"Train average:     \", -less_regularization_train_scores.mean())\n",
    "print(\"Validation average:\", -less_regularization_val_scores.mean())\n",
    "print(\"Current Model\")\n",
    "print(\"Train average:     \", -alternative_solver_train_scores.mean())\n",
    "print(\"Validation average:\", -alternative_solver_val_scores.mean())"
   ]
  },
  {
   "cell_type": "markdown",
   "metadata": {},
   "source": [
    "#### Summary: Alternate Solver and Penalty\n",
    "* Model slightly worse with alternate solver and penalty"
   ]
  },
  {
   "cell_type": "markdown",
   "metadata": {},
   "source": [
    "### Max Iterations\n",
    "* tol argument to decrease max_iter warning"
   ]
  },
  {
   "cell_type": "code",
   "execution_count": 54,
   "metadata": {
    "ExecuteTime": {
     "end_time": "2022-03-22T16:06:50.983593Z",
     "start_time": "2022-03-22T16:06:45.429573Z"
    }
   },
   "outputs": [
    {
     "name": "stderr",
     "output_type": "stream",
     "text": [
      "/Users/jimpetoskey/opt/anaconda3/envs/learn-env/lib/python3.8/site-packages/sklearn/linear_model/_logistic.py:762: ConvergenceWarning: lbfgs failed to converge (status=1):\n",
      "STOP: TOTAL NO. of ITERATIONS REACHED LIMIT.\n",
      "\n",
      "Increase the number of iterations (max_iter) or scale the data as shown in:\n",
      "    https://scikit-learn.org/stable/modules/preprocessing.html\n",
      "Please also refer to the documentation for alternative solver options:\n",
      "    https://scikit-learn.org/stable/modules/linear_model.html#logistic-regression\n",
      "  n_iter_i = _check_optimize_result(\n"
     ]
    },
    {
     "name": "stdout",
     "output_type": "stream",
     "text": [
      "Previous Best Model (Less Regularization)\n",
      "Train average:      0.7859250038962765\n",
      "Validation average: 0.7883860532408666\n",
      "Previous Model with This Solver\n",
      "Train average:      0.7941860747809985\n",
      "Validation average: 0.7948458462683201\n",
      "Current Model\n",
      "Train average:      0.7859250038962765\n",
      "Validation average: 0.7883860532408666\n"
     ]
    }
   ],
   "source": [
    "model_more_iterations = LogisticRegression(\n",
    "    random_state=42,\n",
    "    class_weight={1: 0.28},\n",
    "    C=1e5,\n",
    "    max_iter=100\n",
    ")\n",
    "\n",
    "more_iterations_train_scores, more_iterations_val_scores = custom_cross_val_score(\n",
    "    model_more_iterations,\n",
    "    X_train,\n",
    "    y_train\n",
    ")\n",
    "\n",
    "print(\"Previous Best Model (Less Regularization)\")\n",
    "print(\"Train average:     \", -less_regularization_train_scores.mean())\n",
    "print(\"Validation average:\", -less_regularization_val_scores.mean())\n",
    "print(\"Previous Model with This Solver\")\n",
    "print(\"Train average:     \", -alternative_solver_train_scores.mean())\n",
    "print(\"Validation average:\", -alternative_solver_val_scores.mean())\n",
    "print(\"Current Model\")\n",
    "print(\"Train average:     \", -more_iterations_train_scores.mean())\n",
    "print(\"Validation average:\", -more_iterations_val_scores.mean())"
   ]
  },
  {
   "cell_type": "markdown",
   "metadata": {},
   "source": [
    "## Choose and evaluate Third Model\n",
    "* Final Logistic Regression Model"
   ]
  },
  {
   "cell_type": "code",
   "execution_count": 55,
   "metadata": {
    "ExecuteTime": {
     "end_time": "2022-03-22T16:06:51.031738Z",
     "start_time": "2022-03-22T16:06:51.017092Z"
    }
   },
   "outputs": [],
   "source": [
    "# instantiate final logistic regression model\n",
    "log_reg_model = baseline_model"
   ]
  },
  {
   "cell_type": "markdown",
   "metadata": {},
   "source": [
    "### Preprocess train and test sets"
   ]
  },
  {
   "cell_type": "code",
   "execution_count": 56,
   "metadata": {
    "ExecuteTime": {
     "end_time": "2022-03-22T16:06:51.153483Z",
     "start_time": "2022-03-22T16:06:51.034661Z"
    }
   },
   "outputs": [],
   "source": [
    "# Instantiate StandardScaler\n",
    "scaler = StandardScaler()\n",
    "# Fit and transform X_train\n",
    "X_train_scaled = scaler.fit_transform(X_train)\n",
    "# Transform X_test\n",
    "X_test_scaled = scaler.transform(X_test)"
   ]
  },
  {
   "cell_type": "markdown",
   "metadata": {},
   "source": [
    "### Fit Third Model on full training set"
   ]
  },
  {
   "cell_type": "code",
   "execution_count": 57,
   "metadata": {
    "ExecuteTime": {
     "end_time": "2022-03-22T16:06:52.387692Z",
     "start_time": "2022-03-22T16:06:51.158092Z"
    }
   },
   "outputs": [
    {
     "data": {
      "text/plain": [
       "LogisticRegression(random_state=42)"
      ]
     },
     "execution_count": 57,
     "metadata": {},
     "output_type": "execute_result"
    }
   ],
   "source": [
    "# Run this cell without changes\n",
    "baseline_model.fit(X_train_scaled, y_train)"
   ]
  },
  {
   "cell_type": "code",
   "execution_count": 58,
   "metadata": {
    "ExecuteTime": {
     "end_time": "2022-03-22T16:06:52.428390Z",
     "start_time": "2022-03-22T16:06:52.390708Z"
    }
   },
   "outputs": [
    {
     "data": {
      "text/plain": [
       "0.6266444400502958"
      ]
     },
     "execution_count": 58,
     "metadata": {},
     "output_type": "execute_result"
    }
   ],
   "source": [
    "log_loss(y_test, baseline_model.predict_proba(X_test_scaled))"
   ]
  },
  {
   "cell_type": "code",
   "execution_count": 59,
   "metadata": {
    "ExecuteTime": {
     "end_time": "2022-03-22T16:06:52.452589Z",
     "start_time": "2022-03-22T16:06:52.431192Z"
    }
   },
   "outputs": [
    {
     "data": {
      "text/plain": [
       "0.6516735754501021"
      ]
     },
     "execution_count": 59,
     "metadata": {},
     "output_type": "execute_result"
    }
   ],
   "source": [
    "from sklearn.metrics import accuracy_score\n",
    "\n",
    "accuracy_score = accuracy_score(y_test, baseline_model.predict(X_test_scaled))\n",
    "accuracy_score"
   ]
  },
  {
   "cell_type": "code",
   "execution_count": 60,
   "metadata": {
    "ExecuteTime": {
     "end_time": "2022-03-22T16:06:52.513817Z",
     "start_time": "2022-03-22T16:06:52.455219Z"
    }
   },
   "outputs": [
    {
     "data": {
      "text/plain": [
       "0.5919973761889143"
      ]
     },
     "execution_count": 60,
     "metadata": {},
     "output_type": "execute_result"
    }
   ],
   "source": [
    "# Import the relevant function\n",
    "from sklearn.metrics import precision_score\n",
    "\n",
    "# Display the precision score\n",
    "precision_score = precision_score(y_test, baseline_model.predict(X_test_scaled))\n",
    "precision_score"
   ]
  },
  {
   "cell_type": "code",
   "execution_count": 61,
   "metadata": {
    "ExecuteTime": {
     "end_time": "2022-03-22T16:06:52.568412Z",
     "start_time": "2022-03-22T16:06:52.518472Z"
    }
   },
   "outputs": [
    {
     "data": {
      "text/plain": [
       "0.2915522532708771"
      ]
     },
     "execution_count": 61,
     "metadata": {},
     "output_type": "execute_result"
    }
   ],
   "source": [
    "# Import the relevant function\n",
    "from sklearn.metrics import recall_score\n",
    "\n",
    "# Display the recall score\n",
    "recall_score(y_test, baseline_model.predict(X_test_scaled))"
   ]
  },
  {
   "cell_type": "code",
   "execution_count": 62,
   "metadata": {
    "ExecuteTime": {
     "end_time": "2022-03-22T16:06:52.578451Z",
     "start_time": "2022-03-22T16:06:52.571313Z"
    }
   },
   "outputs": [
    {
     "data": {
      "text/plain": [
       "0.38578904679810894"
      ]
     },
     "execution_count": 62,
     "metadata": {},
     "output_type": "execute_result"
    }
   ],
   "source": [
    "# F1 Score\n",
    "f1_score = (precision_score*accuracy_score)\n",
    "f1_score"
   ]
  },
  {
   "cell_type": "markdown",
   "metadata": {},
   "source": [
    "## Analysis of Third Model:\n",
    "* A somewhat better model than the baseline, which wasn't a good model.\n",
    "    * 59% Precision, or only predicting loan approval 59% of the time.\n",
    "    * 65% Accuracy, or correctly predicting approval/refusal 65% of the time.\n",
    "    * F1 Score of .381 \n",
    "        * Will attempt to improve the F1 score in future models.\n",
    "* Will look to improve this model by:\n",
    "    * Implementing K-Nearest Neighbors Model"
   ]
  },
  {
   "cell_type": "markdown",
   "metadata": {},
   "source": [
    "# Fourth Model - K-Nearest Neighbors"
   ]
  },
  {
   "cell_type": "markdown",
   "metadata": {},
   "source": [
    "## Train, Test, Split df3"
   ]
  },
  {
   "cell_type": "code",
   "execution_count": 67,
   "metadata": {
    "ExecuteTime": {
     "end_time": "2022-03-22T16:13:24.268481Z",
     "start_time": "2022-03-22T16:13:24.153187Z"
    }
   },
   "outputs": [],
   "source": [
    "# Define X and y\n",
    "y = df3['TARGET']\n",
    "X = df3.drop('TARGET', axis=1)\n",
    "\n",
    "# Perform train-test split with random_state=42 and stratify=y\n",
    "X_train, X_test, y_train, y_test = train_test_split(X, y, test_size=0.25, random_state=42)"
   ]
  },
  {
   "cell_type": "markdown",
   "metadata": {},
   "source": [
    "## Normalize Data"
   ]
  },
  {
   "cell_type": "code",
   "execution_count": 68,
   "metadata": {
    "ExecuteTime": {
     "end_time": "2022-03-22T16:13:25.319401Z",
     "start_time": "2022-03-22T16:13:25.177502Z"
    }
   },
   "outputs": [
    {
     "data": {
      "text/html": [
       "<div>\n",
       "<style scoped>\n",
       "    .dataframe tbody tr th:only-of-type {\n",
       "        vertical-align: middle;\n",
       "    }\n",
       "\n",
       "    .dataframe tbody tr th {\n",
       "        vertical-align: top;\n",
       "    }\n",
       "\n",
       "    .dataframe thead th {\n",
       "        text-align: right;\n",
       "    }\n",
       "</style>\n",
       "<table border=\"1\" class=\"dataframe\">\n",
       "  <thead>\n",
       "    <tr style=\"text-align: right;\">\n",
       "      <th></th>\n",
       "      <th>CNT_CHILDREN</th>\n",
       "      <th>AMT_INCOME_TOTAL</th>\n",
       "      <th>AMT_CREDIT</th>\n",
       "      <th>AMT_ANNUITY</th>\n",
       "      <th>DAYS_EMPLOYED</th>\n",
       "      <th>CNT_FAM_MEMBERS</th>\n",
       "      <th>DAYS_BIRTH</th>\n",
       "      <th>AMT_GOODS_PRICE</th>\n",
       "      <th>REGION_RATING_CLIENT</th>\n",
       "      <th>NAME_EDUCATION_TYPE_Higher education</th>\n",
       "      <th>...</th>\n",
       "      <th>NAME_EDUCATION_TYPE_Secondary / secondary special</th>\n",
       "      <th>NAME_INCOME_TYPE_Maternity leave</th>\n",
       "      <th>NAME_INCOME_TYPE_Pensioner</th>\n",
       "      <th>NAME_INCOME_TYPE_State servant</th>\n",
       "      <th>NAME_INCOME_TYPE_Student</th>\n",
       "      <th>NAME_INCOME_TYPE_Unemployed</th>\n",
       "      <th>NAME_INCOME_TYPE_Working</th>\n",
       "      <th>CODE_GENDER_M</th>\n",
       "      <th>CODE_GENDER_XNA</th>\n",
       "      <th>FLAG_OWN_REALTY_Y</th>\n",
       "    </tr>\n",
       "  </thead>\n",
       "  <tbody>\n",
       "    <tr>\n",
       "      <th>0</th>\n",
       "      <td>-0.593463</td>\n",
       "      <td>0.715361</td>\n",
       "      <td>-0.351547</td>\n",
       "      <td>-0.424598</td>\n",
       "      <td>-0.428898</td>\n",
       "      <td>-0.174963</td>\n",
       "      <td>1.286704</td>\n",
       "      <td>-0.205879</td>\n",
       "      <td>-0.169234</td>\n",
       "      <td>-0.527281</td>\n",
       "      <td>...</td>\n",
       "      <td>0.601978</td>\n",
       "      <td>-0.004541</td>\n",
       "      <td>-0.439081</td>\n",
       "      <td>-0.264885</td>\n",
       "      <td>-0.009083</td>\n",
       "      <td>-0.012016</td>\n",
       "      <td>0.906867</td>\n",
       "      <td>1.308068</td>\n",
       "      <td>-0.004541</td>\n",
       "      <td>-1.504447</td>\n",
       "    </tr>\n",
       "    <tr>\n",
       "      <th>1</th>\n",
       "      <td>2.134308</td>\n",
       "      <td>-1.262003</td>\n",
       "      <td>-1.275385</td>\n",
       "      <td>-1.573208</td>\n",
       "      <td>-0.448356</td>\n",
       "      <td>1.987520</td>\n",
       "      <td>0.282966</td>\n",
       "      <td>-1.292347</td>\n",
       "      <td>1.790091</td>\n",
       "      <td>-0.527281</td>\n",
       "      <td>...</td>\n",
       "      <td>0.601978</td>\n",
       "      <td>-0.004541</td>\n",
       "      <td>-0.439081</td>\n",
       "      <td>-0.264885</td>\n",
       "      <td>-0.009083</td>\n",
       "      <td>-0.012016</td>\n",
       "      <td>0.906867</td>\n",
       "      <td>-0.764486</td>\n",
       "      <td>-0.004541</td>\n",
       "      <td>0.664696</td>\n",
       "    </tr>\n",
       "    <tr>\n",
       "      <th>2</th>\n",
       "      <td>-0.593463</td>\n",
       "      <td>-1.048234</td>\n",
       "      <td>-1.170100</td>\n",
       "      <td>-1.237426</td>\n",
       "      <td>-0.429260</td>\n",
       "      <td>-0.174963</td>\n",
       "      <td>-0.357430</td>\n",
       "      <td>-1.164527</td>\n",
       "      <td>-0.169234</td>\n",
       "      <td>-0.527281</td>\n",
       "      <td>...</td>\n",
       "      <td>0.601978</td>\n",
       "      <td>-0.004541</td>\n",
       "      <td>-0.439081</td>\n",
       "      <td>-0.264885</td>\n",
       "      <td>-0.009083</td>\n",
       "      <td>-0.012016</td>\n",
       "      <td>0.906867</td>\n",
       "      <td>-0.764486</td>\n",
       "      <td>-0.004541</td>\n",
       "      <td>0.664696</td>\n",
       "    </tr>\n",
       "    <tr>\n",
       "      <th>3</th>\n",
       "      <td>-0.593463</td>\n",
       "      <td>-1.101676</td>\n",
       "      <td>-0.877384</td>\n",
       "      <td>-1.045503</td>\n",
       "      <td>2.276186</td>\n",
       "      <td>-1.256204</td>\n",
       "      <td>-1.661921</td>\n",
       "      <td>-0.781068</td>\n",
       "      <td>-0.169234</td>\n",
       "      <td>-0.527281</td>\n",
       "      <td>...</td>\n",
       "      <td>0.601978</td>\n",
       "      <td>-0.004541</td>\n",
       "      <td>2.277484</td>\n",
       "      <td>-0.264885</td>\n",
       "      <td>-0.009083</td>\n",
       "      <td>-0.012016</td>\n",
       "      <td>-1.102697</td>\n",
       "      <td>-0.764486</td>\n",
       "      <td>-0.004541</td>\n",
       "      <td>0.664696</td>\n",
       "    </tr>\n",
       "    <tr>\n",
       "      <th>4</th>\n",
       "      <td>2.134308</td>\n",
       "      <td>1.249783</td>\n",
       "      <td>-0.089072</td>\n",
       "      <td>0.153117</td>\n",
       "      <td>-0.427132</td>\n",
       "      <td>1.987520</td>\n",
       "      <td>0.988022</td>\n",
       "      <td>-0.295353</td>\n",
       "      <td>-0.169234</td>\n",
       "      <td>-0.527281</td>\n",
       "      <td>...</td>\n",
       "      <td>0.601978</td>\n",
       "      <td>-0.004541</td>\n",
       "      <td>-0.439081</td>\n",
       "      <td>-0.264885</td>\n",
       "      <td>-0.009083</td>\n",
       "      <td>-0.012016</td>\n",
       "      <td>-1.102697</td>\n",
       "      <td>1.308068</td>\n",
       "      <td>-0.004541</td>\n",
       "      <td>0.664696</td>\n",
       "    </tr>\n",
       "  </tbody>\n",
       "</table>\n",
       "<p>5 rows × 22 columns</p>\n",
       "</div>"
      ],
      "text/plain": [
       "   CNT_CHILDREN  AMT_INCOME_TOTAL  AMT_CREDIT  AMT_ANNUITY  DAYS_EMPLOYED  \\\n",
       "0     -0.593463          0.715361   -0.351547    -0.424598      -0.428898   \n",
       "1      2.134308         -1.262003   -1.275385    -1.573208      -0.448356   \n",
       "2     -0.593463         -1.048234   -1.170100    -1.237426      -0.429260   \n",
       "3     -0.593463         -1.101676   -0.877384    -1.045503       2.276186   \n",
       "4      2.134308          1.249783   -0.089072     0.153117      -0.427132   \n",
       "\n",
       "   CNT_FAM_MEMBERS  DAYS_BIRTH  AMT_GOODS_PRICE  REGION_RATING_CLIENT  \\\n",
       "0        -0.174963    1.286704        -0.205879             -0.169234   \n",
       "1         1.987520    0.282966        -1.292347              1.790091   \n",
       "2        -0.174963   -0.357430        -1.164527             -0.169234   \n",
       "3        -1.256204   -1.661921        -0.781068             -0.169234   \n",
       "4         1.987520    0.988022        -0.295353             -0.169234   \n",
       "\n",
       "   NAME_EDUCATION_TYPE_Higher education  ...  \\\n",
       "0                             -0.527281  ...   \n",
       "1                             -0.527281  ...   \n",
       "2                             -0.527281  ...   \n",
       "3                             -0.527281  ...   \n",
       "4                             -0.527281  ...   \n",
       "\n",
       "   NAME_EDUCATION_TYPE_Secondary / secondary special  \\\n",
       "0                                           0.601978   \n",
       "1                                           0.601978   \n",
       "2                                           0.601978   \n",
       "3                                           0.601978   \n",
       "4                                           0.601978   \n",
       "\n",
       "   NAME_INCOME_TYPE_Maternity leave  NAME_INCOME_TYPE_Pensioner  \\\n",
       "0                         -0.004541                   -0.439081   \n",
       "1                         -0.004541                   -0.439081   \n",
       "2                         -0.004541                   -0.439081   \n",
       "3                         -0.004541                    2.277484   \n",
       "4                         -0.004541                   -0.439081   \n",
       "\n",
       "   NAME_INCOME_TYPE_State servant  NAME_INCOME_TYPE_Student  \\\n",
       "0                       -0.264885                 -0.009083   \n",
       "1                       -0.264885                 -0.009083   \n",
       "2                       -0.264885                 -0.009083   \n",
       "3                       -0.264885                 -0.009083   \n",
       "4                       -0.264885                 -0.009083   \n",
       "\n",
       "   NAME_INCOME_TYPE_Unemployed  NAME_INCOME_TYPE_Working  CODE_GENDER_M  \\\n",
       "0                    -0.012016                  0.906867       1.308068   \n",
       "1                    -0.012016                  0.906867      -0.764486   \n",
       "2                    -0.012016                  0.906867      -0.764486   \n",
       "3                    -0.012016                 -1.102697      -0.764486   \n",
       "4                    -0.012016                 -1.102697       1.308068   \n",
       "\n",
       "   CODE_GENDER_XNA  FLAG_OWN_REALTY_Y  \n",
       "0        -0.004541          -1.504447  \n",
       "1        -0.004541           0.664696  \n",
       "2        -0.004541           0.664696  \n",
       "3        -0.004541           0.664696  \n",
       "4        -0.004541           0.664696  \n",
       "\n",
       "[5 rows x 22 columns]"
      ]
     },
     "execution_count": 68,
     "metadata": {},
     "output_type": "execute_result"
    }
   ],
   "source": [
    "# Instantiate StandardScaler\n",
    "scaler = StandardScaler()\n",
    "\n",
    "# Transform the training and test sets\n",
    "scaled_data_train = scaler.fit_transform(X_train)\n",
    "scaled_data_test = scaler.transform(X_test)\n",
    "\n",
    "# Convert into a DataFrame\n",
    "scaled_df_train = pd.DataFrame(scaled_data_train, columns=X.columns)\n",
    "scaled_df_train.head()"
   ]
  },
  {
   "cell_type": "markdown",
   "metadata": {},
   "source": [
    "## Fit a KNN Model"
   ]
  },
  {
   "cell_type": "code",
   "execution_count": 89,
   "metadata": {
    "ExecuteTime": {
     "end_time": "2022-03-22T16:28:44.009784Z",
     "start_time": "2022-03-22T16:27:47.167958Z"
    }
   },
   "outputs": [],
   "source": [
    "clf = KNeighborsClassifier()\n",
    "\n",
    "# Fit the classifier\n",
    "clf.fit(scaled_data_train, y_train)\n",
    "\n",
    "# Predict on the test set\n",
    "test_preds = clf.predict(scaled_data_test)"
   ]
  },
  {
   "cell_type": "code",
   "execution_count": 90,
   "metadata": {
    "ExecuteTime": {
     "end_time": "2022-03-22T16:28:44.059117Z",
     "start_time": "2022-03-22T16:28:44.013593Z"
    }
   },
   "outputs": [
    {
     "name": "stdout",
     "output_type": "stream",
     "text": [
      "Precision Score: 0.3856423725103961\n",
      "Recall Score: 0.2846066871264739\n",
      "Accuracy Score: 0.5523108333848914\n",
      "F1 Score: 0.3275092936802974\n"
     ]
    }
   ],
   "source": [
    "def print_metrics(labels, preds):\n",
    "    print(\"Precision Score: {}\".format(precision_score(labels, preds)))\n",
    "    print(\"Recall Score: {}\".format(recall_score(labels, preds)))\n",
    "    print(\"Accuracy Score: {}\".format(accuracy_score(labels, preds)))\n",
    "    print(\"F1 Score: {}\".format(f1_score(labels, preds)))\n",
    "    \n",
    "print_metrics(y_test, test_preds)"
   ]
  },
  {
   "cell_type": "markdown",
   "metadata": {},
   "source": [
    "### Initial results for KNN model\n",
    "* Better results, but I am hoping for improved precision, recall, accuracy and F1 scores."
   ]
  },
  {
   "cell_type": "markdown",
   "metadata": {},
   "source": [
    "## Improve Model Performance\n",
    "* Find best value for K"
   ]
  },
  {
   "cell_type": "code",
   "execution_count": null,
   "metadata": {
    "ExecuteTime": {
     "end_time": "2022-03-22T16:10:15.754247Z",
     "start_time": "2022-03-22T16:07:54.907Z"
    }
   },
   "outputs": [],
   "source": [
    "# function to find best K\n",
    "\n",
    "def find_best_k(X_train, y_train, X_test, y_test, min_k=1, max_k=25):\n",
    "    best_k = 0\n",
    "    best_score = 0.0\n",
    "    for k in range(min_k, max_k+1, 2):\n",
    "        knn = KNeighborsClassifier(n_neighbors=k)\n",
    "        knn.fit(X_train, y_train)\n",
    "        preds = knn.predict(X_test)\n",
    "        f1 = f1_score(y_test, preds)\n",
    "        if f1 > best_score:\n",
    "            best_k = k\n",
    "            best_score = f1\n",
    "    \n",
    "    print(\"Best Value for k: {}\".format(best_k))\n",
    "    print(\"F1-Score: {}\".format(best_score))"
   ]
  },
  {
   "cell_type": "code",
   "execution_count": 181,
   "metadata": {
    "ExecuteTime": {
     "end_time": "2022-03-21T21:20:13.527786Z",
     "start_time": "2022-03-21T21:07:25.302314Z"
    }
   },
   "outputs": [
    {
     "name": "stdout",
     "output_type": "stream",
     "text": [
      "Best Value for k: 1\n",
      "F1-Score: 0.4332477535301669\n"
     ]
    }
   ],
   "source": [
    "# run function on current model\n",
    "find_best_k(scaled_data_train, y_train, scaled_data_test, y_test)"
   ]
  },
  {
   "cell_type": "markdown",
   "metadata": {},
   "source": [
    "### Update N_Neighbors to Best Value\n",
    "* Best value is 1, but the F1 score is only slightly improved."
   ]
  },
  {
   "cell_type": "code",
   "execution_count": 91,
   "metadata": {
    "ExecuteTime": {
     "end_time": "2022-03-22T16:29:31.782588Z",
     "start_time": "2022-03-22T16:28:44.063196Z"
    }
   },
   "outputs": [],
   "source": [
    "clf = KNeighborsClassifier(n_neighbors=1)\n",
    "\n",
    "# Fit the classifier\n",
    "clf.fit(scaled_data_train, y_train)\n",
    "\n",
    "# Predict on the test set\n",
    "test_preds = clf.predict(scaled_data_test)"
   ]
  },
  {
   "cell_type": "code",
   "execution_count": 92,
   "metadata": {
    "ExecuteTime": {
     "end_time": "2022-03-22T16:29:31.838178Z",
     "start_time": "2022-03-22T16:29:31.786087Z"
    }
   },
   "outputs": [
    {
     "name": "stdout",
     "output_type": "stream",
     "text": [
      "Precision Score: 0.37892196299275943\n",
      "Recall Score: 0.38039089000161525\n",
      "Accuracy Score: 0.5238507702777949\n",
      "F1 Score: 0.3796550056424311\n"
     ]
    }
   ],
   "source": [
    "# Print scores for this model\n",
    "print_metrics(y_test, test_preds)"
   ]
  },
  {
   "cell_type": "markdown",
   "metadata": {},
   "source": [
    "## Analysis of Fourth Model:\n",
    "* Higher scores for this model, but not much better.\n",
    "* This model is computationally expensive, so maybe I can create a more efficient and equally strong model with Decision Trees."
   ]
  },
  {
   "cell_type": "markdown",
   "metadata": {},
   "source": [
    "# Fifth Model - Decision Trees"
   ]
  },
  {
   "cell_type": "markdown",
   "metadata": {},
   "source": [
    "## Train, Test, Split df3"
   ]
  },
  {
   "cell_type": "code",
   "execution_count": 146,
   "metadata": {
    "ExecuteTime": {
     "end_time": "2022-03-22T17:21:17.385679Z",
     "start_time": "2022-03-22T17:21:17.315247Z"
    }
   },
   "outputs": [],
   "source": [
    "# Define X and y\n",
    "y = df3['TARGET']\n",
    "X = df3.drop('TARGET', axis=1)\n",
    "\n",
    "# Perform train-test split with random_state=42 and stratify=y\n",
    "X_train, X_test, y_train, y_test = train_test_split(X, y, random_state=42, stratify=y)"
   ]
  },
  {
   "cell_type": "markdown",
   "metadata": {},
   "source": [
    "## Normalize Data"
   ]
  },
  {
   "cell_type": "code",
   "execution_count": 147,
   "metadata": {
    "ExecuteTime": {
     "end_time": "2022-03-22T17:21:18.393437Z",
     "start_time": "2022-03-22T17:21:18.321925Z"
    }
   },
   "outputs": [],
   "source": [
    "# Instantiate standard scaler\n",
    "scaler = StandardScaler()\n",
    "scaler.fit(X_train)\n",
    "\n",
    "# Transform Data\n",
    "X_train_scaled = scaler.transform(X_train)\n",
    "X_test_scaled = scaler.transform(X_test)"
   ]
  },
  {
   "cell_type": "markdown",
   "metadata": {},
   "source": [
    "## Baseline Decision Tree Model"
   ]
  },
  {
   "cell_type": "code",
   "execution_count": 148,
   "metadata": {
    "ExecuteTime": {
     "end_time": "2022-03-22T17:21:21.864536Z",
     "start_time": "2022-03-22T17:21:19.382584Z"
    }
   },
   "outputs": [
    {
     "data": {
      "text/plain": [
       "14.878623200325539"
      ]
     },
     "execution_count": 148,
     "metadata": {},
     "output_type": "execute_result"
    }
   ],
   "source": [
    "dtree_baseline_model = DecisionTreeClassifier(random_state=42)\n",
    "\n",
    "dtree_baseline_log_loss = -cross_val_score(dtree_baseline_model, X_train, y_train, scoring=\"neg_log_loss\").mean()\n",
    "dtree_baseline_log_loss"
   ]
  },
  {
   "cell_type": "markdown",
   "metadata": {},
   "source": [
    "## Improve Decision Tree Model"
   ]
  },
  {
   "cell_type": "code",
   "execution_count": 149,
   "metadata": {
    "ExecuteTime": {
     "end_time": "2022-03-22T17:21:25.226503Z",
     "start_time": "2022-03-22T17:21:23.089523Z"
    }
   },
   "outputs": [
    {
     "data": {
      "text/plain": [
       "2.759551046540422"
      ]
     },
     "execution_count": 149,
     "metadata": {},
     "output_type": "execute_result"
    }
   ],
   "source": [
    "# Modify min_samples_leaf to equal 10\n",
    "dtree_second_model = DecisionTreeClassifier(random_state=42, min_samples_leaf=10)\n",
    "\n",
    "dtree_second_log_loss = -cross_val_score(dtree_second_model, X_train, y_train, scoring=\"neg_log_loss\").mean()\n",
    "dtree_second_log_loss"
   ]
  },
  {
   "cell_type": "code",
   "execution_count": 150,
   "metadata": {
    "ExecuteTime": {
     "end_time": "2022-03-22T17:21:26.770957Z",
     "start_time": "2022-03-22T17:21:25.229626Z"
    }
   },
   "outputs": [
    {
     "data": {
      "text/plain": [
       "0.6482128227930334"
      ]
     },
     "execution_count": 150,
     "metadata": {},
     "output_type": "execute_result"
    }
   ],
   "source": [
    "# Modify min_samples_leaf to equal 100\n",
    "dtree_third_model = DecisionTreeClassifier(random_state=42, min_samples_leaf=100)\n",
    "\n",
    "dtree_third_log_loss = -cross_val_score(dtree_third_model, X_train, y_train, scoring=\"neg_log_loss\").mean()\n",
    "dtree_third_log_loss"
   ]
  },
  {
   "cell_type": "code",
   "execution_count": 151,
   "metadata": {
    "ExecuteTime": {
     "end_time": "2022-03-22T17:21:28.745149Z",
     "start_time": "2022-03-22T17:21:27.246293Z"
    }
   },
   "outputs": [
    {
     "data": {
      "text/plain": [
       "0.6705892748030051"
      ]
     },
     "execution_count": 151,
     "metadata": {},
     "output_type": "execute_result"
    }
   ],
   "source": [
    "# For class imbalance issues:\n",
    "\n",
    "dtree_fourth_model = DecisionTreeClassifier(random_state=42, min_samples_leaf=100, class_weight=\"balanced\")\n",
    "\n",
    "dtree_fourth_log_loss = -cross_val_score(dtree_fourth_model, X_train, y_train, scoring=\"neg_log_loss\").mean()\n",
    "dtree_fourth_log_loss"
   ]
  },
  {
   "cell_type": "code",
   "execution_count": 152,
   "metadata": {
    "ExecuteTime": {
     "end_time": "2022-03-22T17:21:29.670032Z",
     "start_time": "2022-03-22T17:21:29.221948Z"
    }
   },
   "outputs": [
    {
     "data": {
      "text/plain": [
       "0.6425768649798144"
      ]
     },
     "execution_count": 152,
     "metadata": {},
     "output_type": "execute_result"
    }
   ],
   "source": [
    "# limit the number of features that can be used in a given split, \n",
    "# while keeping min_samples_leaf the same\n",
    "\n",
    "dtree_fifth_model = DecisionTreeClassifier(random_state=42, min_samples_leaf=100, max_features=\"sqrt\")\n",
    "\n",
    "dtree_fifth_log_loss = -cross_val_score(dtree_fifth_model, X_train, y_train, scoring=\"neg_log_loss\").mean()\n",
    "dtree_fifth_log_loss"
   ]
  },
  {
   "cell_type": "code",
   "execution_count": 153,
   "metadata": {
    "ExecuteTime": {
     "end_time": "2022-03-22T17:21:31.422087Z",
     "start_time": "2022-03-22T17:21:29.916226Z"
    }
   },
   "outputs": [
    {
     "data": {
      "text/plain": [
       "0.6524073177884422"
      ]
     },
     "execution_count": 153,
     "metadata": {},
     "output_type": "execute_result"
    }
   ],
   "source": [
    "# Modify min_samples_leaf to equal 75\n",
    "dtree_sixth_model = DecisionTreeClassifier(random_state=42, min_samples_leaf=75)\n",
    "\n",
    "dtree_sixth_log_loss = -cross_val_score(dtree_sixth_model, X_train, y_train, scoring=\"neg_log_loss\").mean()\n",
    "dtree_sixth_log_loss"
   ]
  },
  {
   "cell_type": "code",
   "execution_count": 154,
   "metadata": {
    "ExecuteTime": {
     "end_time": "2022-03-22T17:21:32.629269Z",
     "start_time": "2022-03-22T17:21:32.193001Z"
    }
   },
   "outputs": [
    {
     "name": "stdout",
     "output_type": "stream",
     "text": [
      "log loss:  0.6390367495993552\n",
      "accuracy:  0.6444348202685145\n",
      "precision: 0.555667001003009\n",
      "recall:    0.3579389436278469\n",
      "F1:    0.43540622850967675\n"
     ]
    }
   ],
   "source": [
    "dtree_final = dtree_third_model\n",
    "\n",
    "dtree_final.fit(X_train, y_train)\n",
    "\n",
    "preds = dtree_final.predict(X_test)\n",
    "probs = dtree_final.predict_proba(X_test)\n",
    "\n",
    "print(\"log loss: \", log_loss(y_test, probs))\n",
    "print(\"accuracy: \", accuracy_score(y_test, preds))\n",
    "print(\"precision:\", precision_score(y_test, preds))\n",
    "print(\"recall:   \", recall_score(y_test, preds))\n",
    "print(\"F1:   \", f1_score(y_test, preds))"
   ]
  },
  {
   "cell_type": "markdown",
   "metadata": {},
   "source": [
    "## Analysis of Fifth Model:\n",
    "* Performing close to the KNN model, with much less computational cost.\n",
    "* I am curious if a random forest model will improve our chances of correctly predicting loan approval."
   ]
  },
  {
   "cell_type": "markdown",
   "metadata": {},
   "source": [
    "# Sixth Model - Altered Decision Tree"
   ]
  },
  {
   "cell_type": "markdown",
   "metadata": {},
   "source": [
    "## Train, Test, Split df3"
   ]
  },
  {
   "cell_type": "code",
   "execution_count": 187,
   "metadata": {
    "ExecuteTime": {
     "end_time": "2022-03-22T17:23:44.289918Z",
     "start_time": "2022-03-22T17:23:44.255396Z"
    }
   },
   "outputs": [],
   "source": [
    "# Define X and y\n",
    "y = df3['TARGET']\n",
    "X = df3.drop('TARGET', axis=1)\n",
    "\n",
    "# Perform train-test split with random_state=42 and stratify=y\n",
    "X_train, X_test, y_train, y_test = train_test_split(X, y, test_size=0.25, random_state=123)"
   ]
  },
  {
   "cell_type": "code",
   "execution_count": 238,
   "metadata": {
    "ExecuteTime": {
     "end_time": "2022-03-22T17:28:41.482417Z",
     "start_time": "2022-03-22T17:28:40.825555Z"
    }
   },
   "outputs": [
    {
     "data": {
      "text/plain": [
       "DecisionTreeClassifier(max_depth=1000, max_features=10)"
      ]
     },
     "execution_count": 238,
     "metadata": {},
     "output_type": "execute_result"
    }
   ],
   "source": [
    "tree_clf = DecisionTreeClassifier(max_depth=1000, max_features=10) \n",
    "tree_clf.fit(X_train, y_train)"
   ]
  },
  {
   "cell_type": "code",
   "execution_count": 210,
   "metadata": {
    "ExecuteTime": {
     "end_time": "2022-03-22T17:26:33.041515Z",
     "start_time": "2022-03-22T17:26:33.028733Z"
    }
   },
   "outputs": [
    {
     "data": {
      "text/plain": [
       "DecisionTreeClassifier(max_depth=5, max_features=5, min_samples_leaf=100,\n",
       "                       presort=False)"
      ]
     },
     "execution_count": 210,
     "metadata": {},
     "output_type": "execute_result"
    }
   ],
   "source": [
    "DecisionTreeClassifier(class_weight=None, criterion='gini', max_depth=5,\n",
    "                       max_features=5, max_leaf_nodes=None,\n",
    "                       min_impurity_decrease=0.0, min_impurity_split=None,\n",
    "                       min_samples_leaf=100, min_samples_split=2,\n",
    "                       min_weight_fraction_leaf=0.0, presort=False,\n",
    "                       random_state=None, splitter='best')"
   ]
  },
  {
   "cell_type": "code",
   "execution_count": 225,
   "metadata": {
    "ExecuteTime": {
     "end_time": "2022-03-22T17:27:35.034979Z",
     "start_time": "2022-03-22T17:27:35.026168Z"
    }
   },
   "outputs": [
    {
     "data": {
      "text/plain": [
       "array([1.84865204e-02, 1.09671273e-01, 1.19382415e-01, 1.57107547e-01,\n",
       "       1.64781740e-01, 3.74432809e-02, 1.98088591e-01, 8.59390026e-02,\n",
       "       2.28535197e-02, 1.16621221e-02, 4.01741140e-03, 3.23104274e-03,\n",
       "       4.42141350e-03, 0.00000000e+00, 1.90120314e-03, 7.59515913e-03,\n",
       "       0.00000000e+00, 1.35087851e-04, 1.60790756e-02, 1.63557982e-02,\n",
       "       0.00000000e+00, 2.08477963e-02])"
      ]
     },
     "execution_count": 225,
     "metadata": {},
     "output_type": "execute_result"
    }
   ],
   "source": [
    "# Feature importance\n",
    "tree_clf.feature_importances_"
   ]
  },
  {
   "cell_type": "code",
   "execution_count": 226,
   "metadata": {
    "ExecuteTime": {
     "end_time": "2022-03-22T17:27:36.529691Z",
     "start_time": "2022-03-22T17:27:35.930678Z"
    }
   },
   "outputs": [
    {
     "data": {
      "image/png": "[encoded data removed]",
      "text/plain": [
       "<Figure size 576x576 with 1 Axes>"
      ]
     },
     "metadata": {
      "needs_background": "light"
     },
     "output_type": "display_data"
    }
   ],
   "source": [
    "def plot_feature_importances(model):\n",
    "    n_features = X_train.shape[1]\n",
    "    plt.figure(figsize=(8,8))\n",
    "    plt.barh(range(n_features), model.feature_importances_, align='center') \n",
    "    plt.yticks(np.arange(n_features), X_train.columns.values) \n",
    "    plt.xlabel('Feature importance')\n",
    "    plt.ylabel('Feature')\n",
    "\n",
    "plot_feature_importances(tree_clf)"
   ]
  },
  {
   "cell_type": "code",
   "execution_count": 239,
   "metadata": {
    "ExecuteTime": {
     "end_time": "2022-03-22T17:28:45.474477Z",
     "start_time": "2022-03-22T17:28:45.400250Z"
    }
   },
   "outputs": [
    {
     "name": "stdout",
     "output_type": "stream",
     "text": [
      "[[6444 3442]\n",
      " [3507 2770]]\n",
      "              precision    recall  f1-score   support\n",
      "\n",
      "           0       0.65      0.65      0.65      9886\n",
      "           1       0.45      0.44      0.44      6277\n",
      "\n",
      "    accuracy                           0.57     16163\n",
      "   macro avg       0.55      0.55      0.55     16163\n",
      "weighted avg       0.57      0.57      0.57     16163\n",
      "\n"
     ]
    }
   ],
   "source": [
    "# Test set predictions\n",
    "pred = tree_clf.predict(X_test)\n",
    "\n",
    "# Confusion matrix and classification report\n",
    "print(confusion_matrix(y_test, pred))\n",
    "print(classification_report(y_test, pred))"
   ]
  },
  {
   "cell_type": "code",
   "execution_count": 240,
   "metadata": {
    "ExecuteTime": {
     "end_time": "2022-03-22T17:28:49.099881Z",
     "start_time": "2022-03-22T17:28:49.091722Z"
    }
   },
   "outputs": [
    {
     "name": "stdout",
     "output_type": "stream",
     "text": [
      "Testing Accuracy for Decision Tree Classifier: 57.01%\n"
     ]
    }
   ],
   "source": [
    "print(\"Testing Accuracy for Decision Tree Classifier: {:.4}%\".format(accuracy_score(y_test, pred) * 100))"
   ]
  },
  {
   "cell_type": "code",
   "execution_count": 241,
   "metadata": {
    "ExecuteTime": {
     "end_time": "2022-03-22T17:28:50.466326Z",
     "start_time": "2022-03-22T17:28:50.433507Z"
    }
   },
   "outputs": [
    {
     "name": "stdout",
     "output_type": "stream",
     "text": [
      "Precision Score: 0.3913254179791616\n",
      "Recall Score: 0.2572885136211566\n",
      "Accuracy Score: 0.5561467549341088\n",
      "F1 Score: 0.3104575163398693\n"
     ]
    }
   ],
   "source": [
    "print_metrics(y_test, test_preds)"
   ]
  },
  {
   "cell_type": "markdown",
   "metadata": {},
   "source": [
    "## Analysis of Sixth Model:\n",
    "* The F1-Score is greatly improved from the logistic regression, KNN, and initial decision tree  classifiers.\n",
    "    * F1 Score tracking:\n",
    "        * Best Logistic Regression: 0.43\n",
    "        * Best KNN: 0.38\n",
    "        * Initial Decision Tree: 0.44\n",
    "        * Altered Decision Tree: 0.31"
   ]
  },
  {
   "cell_type": "markdown",
   "metadata": {},
   "source": [
    "# Seventh Model - Bagged Trees"
   ]
  },
  {
   "cell_type": "code",
   "execution_count": 242,
   "metadata": {
    "ExecuteTime": {
     "end_time": "2022-03-22T17:29:52.989431Z",
     "start_time": "2022-03-22T17:29:52.984603Z"
    }
   },
   "outputs": [],
   "source": [
    "# Instantiate a BaggingClassifier\n",
    "bagged_tree =  BaggingClassifier(DecisionTreeClassifier(criterion='gini', max_depth=5), \n",
    "                                 n_estimators=20)"
   ]
  },
  {
   "cell_type": "code",
   "execution_count": 243,
   "metadata": {
    "ExecuteTime": {
     "end_time": "2022-03-22T17:29:56.223089Z",
     "start_time": "2022-03-22T17:29:53.525929Z"
    }
   },
   "outputs": [
    {
     "data": {
      "text/plain": [
       "BaggingClassifier(base_estimator=DecisionTreeClassifier(max_depth=5),\n",
       "                  n_estimators=20)"
      ]
     },
     "execution_count": 243,
     "metadata": {},
     "output_type": "execute_result"
    }
   ],
   "source": [
    "# Fit to the training data\n",
    "bagged_tree.fit(X_train, y_train)"
   ]
  },
  {
   "cell_type": "code",
   "execution_count": 244,
   "metadata": {
    "ExecuteTime": {
     "end_time": "2022-03-22T17:29:56.557568Z",
     "start_time": "2022-03-22T17:29:56.225940Z"
    }
   },
   "outputs": [
    {
     "data": {
      "text/plain": [
       "0.6500505290077753"
      ]
     },
     "execution_count": 244,
     "metadata": {},
     "output_type": "execute_result"
    }
   ],
   "source": [
    "# Training accuracy score\n",
    "bagged_tree.score(X_train, y_train)"
   ]
  },
  {
   "cell_type": "code",
   "execution_count": 245,
   "metadata": {
    "ExecuteTime": {
     "end_time": "2022-03-22T17:29:56.699104Z",
     "start_time": "2022-03-22T17:29:56.564817Z"
    }
   },
   "outputs": [
    {
     "data": {
      "text/plain": [
       "0.6454866052094289"
      ]
     },
     "execution_count": 245,
     "metadata": {},
     "output_type": "execute_result"
    }
   ],
   "source": [
    "# Test accuracy score\n",
    "bagged_tree.score(X_test, y_test)"
   ]
  },
  {
   "cell_type": "code",
   "execution_count": 248,
   "metadata": {
    "ExecuteTime": {
     "end_time": "2022-03-22T17:31:35.367652Z",
     "start_time": "2022-03-22T17:31:35.220208Z"
    }
   },
   "outputs": [
    {
     "name": "stdout",
     "output_type": "stream",
     "text": [
      "[[8725 1161]\n",
      " [4569 1708]]\n",
      "              precision    recall  f1-score   support\n",
      "\n",
      "           0       0.66      0.88      0.75      9886\n",
      "           1       0.60      0.27      0.37      6277\n",
      "\n",
      "    accuracy                           0.65     16163\n",
      "   macro avg       0.63      0.58      0.56     16163\n",
      "weighted avg       0.63      0.65      0.61     16163\n",
      "\n"
     ]
    }
   ],
   "source": [
    "# Test set predictions\n",
    "pred = bagged_tree.predict(X_test)\n",
    "\n",
    "# Confusion matrix and classification report\n",
    "print(confusion_matrix(y_test, pred))\n",
    "print(classification_report(y_test, pred))"
   ]
  },
  {
   "cell_type": "code",
   "execution_count": 250,
   "metadata": {
    "ExecuteTime": {
     "end_time": "2022-03-22T17:31:57.106082Z",
     "start_time": "2022-03-22T17:31:57.070433Z"
    }
   },
   "outputs": [
    {
     "name": "stdout",
     "output_type": "stream",
     "text": [
      "Precision Score: 0.5953293830602998\n",
      "Recall Score: 0.27210450852317986\n",
      "Accuracy Score: 0.6454866052094289\n",
      "F1 Score: 0.3734966105401269\n"
     ]
    }
   ],
   "source": [
    "print_metrics(y_test, pred)"
   ]
  },
  {
   "cell_type": "markdown",
   "metadata": {},
   "source": [
    "## Analysis of Seventh Model:\n",
    "* The F1-Score is greatly improved from the logistic regression, KNN, and initial decision tree  classifiers.\n",
    "    * F1 Score tracking:\n",
    "        * Best Logistic Regression: 0.43\n",
    "        * Best KNN: 0.38\n",
    "        * Initial Decision Tree: 0.44\n",
    "        * Improved Decision Tree: 0.31\n",
    "        * Bagged Tree: 0.37"
   ]
  },
  {
   "cell_type": "markdown",
   "metadata": {},
   "source": [
    "# 8th Model - Random Forest"
   ]
  },
  {
   "cell_type": "code",
   "execution_count": 118,
   "metadata": {
    "ExecuteTime": {
     "end_time": "2022-03-22T16:46:37.833251Z",
     "start_time": "2022-03-22T16:46:34.935710Z"
    }
   },
   "outputs": [
    {
     "data": {
      "text/plain": [
       "RandomForestClassifier(max_depth=5)"
      ]
     },
     "execution_count": 118,
     "metadata": {},
     "output_type": "execute_result"
    }
   ],
   "source": [
    "# Instantiate and fit a RandomForestClassifier\n",
    "forest = RandomForestClassifier(n_estimators=100, max_depth= 5)\n",
    "forest.fit(X_train, y_train)"
   ]
  },
  {
   "cell_type": "code",
   "execution_count": 119,
   "metadata": {
    "ExecuteTime": {
     "end_time": "2022-03-22T16:46:38.393251Z",
     "start_time": "2022-03-22T16:46:37.836385Z"
    }
   },
   "outputs": [
    {
     "data": {
      "text/plain": [
       "0.640089096046363"
      ]
     },
     "execution_count": 119,
     "metadata": {},
     "output_type": "execute_result"
    }
   ],
   "source": [
    "# Training accuracy score\n",
    "forest.score(X_train, y_train)"
   ]
  },
  {
   "cell_type": "code",
   "execution_count": 120,
   "metadata": {
    "ExecuteTime": {
     "end_time": "2022-03-22T16:46:38.648007Z",
     "start_time": "2022-03-22T16:46:38.397269Z"
    }
   },
   "outputs": [
    {
     "data": {
      "text/plain": [
       "0.6326177071088288"
      ]
     },
     "execution_count": 120,
     "metadata": {},
     "output_type": "execute_result"
    }
   ],
   "source": [
    "# Test accuracy score\n",
    "forest.score(X_test, y_test)"
   ]
  },
  {
   "cell_type": "code",
   "execution_count": 121,
   "metadata": {
    "ExecuteTime": {
     "end_time": "2022-03-22T16:46:38.659868Z",
     "start_time": "2022-03-22T16:46:38.653031Z"
    }
   },
   "outputs": [],
   "source": [
    "# Print scores for this model\n",
    "# Find test_preds for forest\n",
    "# print_metrics(y_test, test_preds)"
   ]
  },
  {
   "cell_type": "code",
   "execution_count": 122,
   "metadata": {
    "ExecuteTime": {
     "end_time": "2022-03-22T16:46:40.002411Z",
     "start_time": "2022-03-22T16:46:39.598252Z"
    }
   },
   "outputs": [
    {
     "data": {
      "image/png": "[encoded data removed]",
      "text/plain": [
       "<Figure size 576x576 with 1 Axes>"
      ]
     },
     "metadata": {
      "needs_background": "light"
     },
     "output_type": "display_data"
    }
   ],
   "source": [
    "plot_feature_importances(forest)"
   ]
  },
  {
   "cell_type": "code",
   "execution_count": 252,
   "metadata": {
    "ExecuteTime": {
     "end_time": "2022-03-22T17:32:40.943947Z",
     "start_time": "2022-03-22T17:32:40.564288Z"
    }
   },
   "outputs": [
    {
     "name": "stdout",
     "output_type": "stream",
     "text": [
      "[[9521  365]\n",
      " [5573  704]]\n",
      "              precision    recall  f1-score   support\n",
      "\n",
      "           0       0.63      0.96      0.76      9886\n",
      "           1       0.66      0.11      0.19      6277\n",
      "\n",
      "    accuracy                           0.63     16163\n",
      "   macro avg       0.64      0.54      0.48     16163\n",
      "weighted avg       0.64      0.63      0.54     16163\n",
      "\n"
     ]
    }
   ],
   "source": [
    "# Test set predictions\n",
    "pred = forest.predict(X_test)\n",
    "\n",
    "# Confusion matrix and classification report\n",
    "print(confusion_matrix(y_test, pred))\n",
    "print(classification_report(y_test, pred))"
   ]
  },
  {
   "cell_type": "code",
   "execution_count": 253,
   "metadata": {
    "ExecuteTime": {
     "end_time": "2022-03-22T17:32:42.411006Z",
     "start_time": "2022-03-22T17:32:42.379600Z"
    }
   },
   "outputs": [
    {
     "name": "stdout",
     "output_type": "stream",
     "text": [
      "Precision Score: 0.6585594013096352\n",
      "Recall Score: 0.11215548829058468\n",
      "Accuracy Score: 0.6326177071088288\n",
      "F1 Score: 0.1916689354750885\n"
     ]
    }
   ],
   "source": [
    "print_metrics(y_test, pred)"
   ]
  },
  {
   "cell_type": "markdown",
   "metadata": {},
   "source": [
    "## Analysis of Eighth Model:\n",
    "* The F1-Score is greatly improved from the logistic regression, KNN, and initial decision tree  classifiers.\n",
    "    * F1 Score tracking:\n",
    "        * Best Logistic Regression: 0.43\n",
    "        * Best KNN: 0.38\n",
    "        * Initial Decision Tree: 0.44\n",
    "        * Improved Decision Tree: 0.31\n",
    "        * Bagged Tree: 0.37\n",
    "        * Random Forest: 0.19"
   ]
  },
  {
   "cell_type": "markdown",
   "metadata": {},
   "source": [
    "# Ninth Model - XG Boost"
   ]
  },
  {
   "cell_type": "markdown",
   "metadata": {},
   "source": [
    "## Train, Test, Split df3"
   ]
  },
  {
   "cell_type": "code",
   "execution_count": 254,
   "metadata": {
    "ExecuteTime": {
     "end_time": "2022-03-22T17:33:14.334520Z",
     "start_time": "2022-03-22T17:33:14.267574Z"
    }
   },
   "outputs": [],
   "source": [
    "# Define X and y\n",
    "y = df3['TARGET']\n",
    "X = df3.drop('TARGET', axis=1)\n",
    "\n",
    "# Perform train-test split with random_state=42 and stratify=y\n",
    "X_train, X_test, y_train, y_test = train_test_split(X, y, test_size=0.25, random_state=42)"
   ]
  },
  {
   "cell_type": "code",
   "execution_count": 255,
   "metadata": {
    "ExecuteTime": {
     "end_time": "2022-03-22T17:33:21.172631Z",
     "start_time": "2022-03-22T17:33:14.799828Z"
    }
   },
   "outputs": [
    {
     "name": "stdout",
     "output_type": "stream",
     "text": [
      "Training Accuracy: 72.97%\n",
      "Validation accuracy: 65.45%\n"
     ]
    }
   ],
   "source": [
    "# Instantiate XGBClassifier\n",
    "clf = XGBClassifier()\n",
    "\n",
    "# Fit XGBClassifier\n",
    "clf.fit(X_train, y_train)\n",
    "\n",
    "# Predict on training and test sets\n",
    "training_preds = clf.predict(X_train)\n",
    "test_preds = clf.predict(X_test)\n",
    "\n",
    "# Accuracy of training and test sets\n",
    "training_accuracy = accuracy_score(y_train, training_preds)\n",
    "test_accuracy = accuracy_score(y_test, test_preds)\n",
    "\n",
    "print('Training Accuracy: {:.4}%'.format(training_accuracy * 100))\n",
    "print('Validation accuracy: {:.4}%'.format(test_accuracy * 100))"
   ]
  },
  {
   "cell_type": "code",
   "execution_count": 256,
   "metadata": {
    "ExecuteTime": {
     "end_time": "2022-03-22T17:33:21.340862Z",
     "start_time": "2022-03-22T17:33:21.179427Z"
    }
   },
   "outputs": [
    {
     "name": "stdout",
     "output_type": "stream",
     "text": [
      "[[8168 1716]\n",
      " [3868 2411]]\n",
      "              precision    recall  f1-score   support\n",
      "\n",
      "           0       0.68      0.83      0.75      9884\n",
      "           1       0.58      0.38      0.46      6279\n",
      "\n",
      "    accuracy                           0.65     16163\n",
      "   macro avg       0.63      0.61      0.60     16163\n",
      "weighted avg       0.64      0.65      0.64     16163\n",
      "\n"
     ]
    }
   ],
   "source": [
    "# Confusion matrix and classification report\n",
    "print(confusion_matrix(y_test, test_preds))\n",
    "print(classification_report(y_test, test_preds))"
   ]
  },
  {
   "cell_type": "code",
   "execution_count": 257,
   "metadata": {
    "ExecuteTime": {
     "end_time": "2022-03-22T17:33:21.413219Z",
     "start_time": "2022-03-22T17:33:21.353358Z"
    }
   },
   "outputs": [
    {
     "name": "stdout",
     "output_type": "stream",
     "text": [
      "Precision Score: 0.5842015992246183\n",
      "Recall Score: 0.3839783405000796\n",
      "Accuracy Score: 0.6545195817608117\n",
      "F1 Score: 0.4633865077839707\n"
     ]
    }
   ],
   "source": [
    "print_metrics(y_test, test_preds)"
   ]
  },
  {
   "cell_type": "markdown",
   "metadata": {},
   "source": [
    "## Analysis of Initial XG Boost Model:\n",
    "* The F1-Score is greatly improved from the logistic regression, KNN, and initial decision tree  classifiers.\n",
    "    * F1 Score tracking:\n",
    "        * Best Logistic Regression: 0.43\n",
    "        * Best KNN: 0.38\n",
    "        * Initial Decision Tree: 0.44\n",
    "        * Improved Decision Tree: 0.31\n",
    "        * Bagged Tree: 0.37\n",
    "        * Random Forest: 0.19\n",
    "        * XG Boost: 0.46\n",
    "* Note that this model is 83% likely to determine that a person will not receive a loan, but only 38% likely to accurately determine that a person will be approved for a loan. \n",
    "    * This from the recall score for 0/1 above."
   ]
  },
  {
   "cell_type": "markdown",
   "metadata": {},
   "source": [
    "## Improve XG Boost"
   ]
  },
  {
   "cell_type": "code",
   "execution_count": 128,
   "metadata": {
    "ExecuteTime": {
     "end_time": "2022-03-22T17:11:51.011127Z",
     "start_time": "2022-03-22T17:11:50.995073Z"
    }
   },
   "outputs": [],
   "source": [
    "param_grid = {\n",
    "    'learning_rate': [0.1, 0.2],\n",
    "    'max_depth': [6],\n",
    "    'min_child_weight': [1, 2],\n",
    "    'subsample': [0.5, 0.7],\n",
    "    'n_estimators': [100],\n",
    "}"
   ]
  },
  {
   "cell_type": "code",
   "execution_count": 129,
   "metadata": {
    "ExecuteTime": {
     "end_time": "2022-03-22T17:15:24.330556Z",
     "start_time": "2022-03-22T17:12:09.327269Z"
    }
   },
   "outputs": [
    {
     "name": "stdout",
     "output_type": "stream",
     "text": [
      "Grid Search found the following optimal parameters: \n",
      "learning_rate: 0.1\n",
      "max_depth: 6\n",
      "min_child_weight: 2\n",
      "n_estimators: 100\n",
      "subsample: 0.5\n",
      "\n",
      "Training Accuracy: 69.23%\n",
      "Validation accuracy: 65.95%\n"
     ]
    }
   ],
   "source": [
    "grid_clf = GridSearchCV(clf, param_grid, scoring='accuracy', cv=None, n_jobs=1)\n",
    "grid_clf.fit(X_train, y_train)\n",
    "\n",
    "best_parameters = grid_clf.best_params_\n",
    "\n",
    "print('Grid Search found the following optimal parameters: ')\n",
    "for param_name in sorted(best_parameters.keys()):\n",
    "    print('%s: %r' % (param_name, best_parameters[param_name]))\n",
    "\n",
    "training_preds = grid_clf.predict(X_train)\n",
    "test_preds = grid_clf.predict(X_test)\n",
    "training_accuracy = accuracy_score(y_train, training_preds)\n",
    "test_accuracy = accuracy_score(y_test, test_preds)\n",
    "\n",
    "print('')\n",
    "print('Training Accuracy: {:.4}%'.format(training_accuracy * 100))\n",
    "print('Validation accuracy: {:.4}%'.format(test_accuracy * 100))"
   ]
  },
  {
   "cell_type": "code",
   "execution_count": 130,
   "metadata": {
    "ExecuteTime": {
     "end_time": "2022-03-22T17:16:59.360132Z",
     "start_time": "2022-03-22T17:16:59.322782Z"
    }
   },
   "outputs": [
    {
     "name": "stdout",
     "output_type": "stream",
     "text": [
      "Precision Score: 0.6027578891540706\n",
      "Recall Score: 0.36200031852205766\n",
      "Accuracy Score: 0.6594691579533503\n",
      "F1 Score: 0.45233830845771145\n"
     ]
    }
   ],
   "source": [
    "print_metrics(y_test, test_preds)"
   ]
  },
  {
   "cell_type": "markdown",
   "metadata": {},
   "source": [
    "## Analysis of Altered XG Boost Model:\n",
    "* The F1-Score is greatly improved from the logistic regression, KNN, and initial decision tree  classifiers.\n",
    "    * F1 Score tracking:\n",
    "        * Best Logistic Regression: 0.43\n",
    "        * Best KNN: 0.38\n",
    "        * Initial Decision Tree: 0.44\n",
    "        * Improved Decision Tree: 0.31\n",
    "        * Bagged Tree: 0.37\n",
    "        * Random Forest: 0.19\n",
    "        * XG Boost: 0.46\n",
    "        * Altered XG Boost: 0.45\n",
    "* Difficult for me to determine the best way to improve these models - I will need to do more research after trying Support Vector Machines."
   ]
  },
  {
   "cell_type": "markdown",
   "metadata": {},
   "source": [
    "# Tenth Model - Support Vector Machines"
   ]
  },
  {
   "cell_type": "code",
   "execution_count": 260,
   "metadata": {
    "ExecuteTime": {
     "end_time": "2022-03-22T17:57:04.110046Z",
     "start_time": "2022-03-22T17:57:04.038770Z"
    }
   },
   "outputs": [],
   "source": [
    "# Define X and y\n",
    "y = df3['TARGET']\n",
    "X = df3.drop('TARGET', axis=1)\n",
    "\n",
    "# Perform train-test split with random_state=42 and stratify=y\n",
    "X_train, X_test, y_train, y_test = train_test_split(X, y, test_size=0.25, random_state=42)"
   ]
  },
  {
   "cell_type": "code",
   "execution_count": 261,
   "metadata": {
    "ExecuteTime": {
     "end_time": "2022-03-22T17:57:05.158285Z",
     "start_time": "2022-03-22T17:57:05.081065Z"
    }
   },
   "outputs": [],
   "source": [
    "# Standardize the data\n",
    "std = StandardScaler()\n",
    "X_train_transformed = std.fit_transform(X_train)\n",
    "X_test_transformed = std.transform(X_test)"
   ]
  },
  {
   "cell_type": "code",
   "execution_count": 263,
   "metadata": {
    "ExecuteTime": {
     "end_time": "2022-03-22T18:26:56.524224Z",
     "start_time": "2022-03-22T17:57:48.093687Z"
    }
   },
   "outputs": [
    {
     "data": {
      "text/plain": [
       "SVC(probability=True)"
      ]
     },
     "execution_count": 263,
     "metadata": {},
     "output_type": "execute_result"
    }
   ],
   "source": [
    "# Fit SVM model  \n",
    "clf = svm.SVC(probability=True)\n",
    "clf.fit(X_train_transformed, y_train)"
   ]
  },
  {
   "cell_type": "code",
   "execution_count": 264,
   "metadata": {
    "ExecuteTime": {
     "end_time": "2022-03-22T18:26:56.644787Z",
     "start_time": "2022-03-22T18:26:56.530325Z"
    }
   },
   "outputs": [
    {
     "ename": "NameError",
     "evalue": "name 'SVC' is not defined",
     "output_type": "error",
     "traceback": [
      "\u001b[0;31m---------------------------------------------------------------------------\u001b[0m",
      "\u001b[0;31mNameError\u001b[0m                                 Traceback (most recent call last)",
      "\u001b[0;32m<ipython-input-264-e398f6e3caa7>\u001b[0m in \u001b[0;36m<module>\u001b[0;34m\u001b[0m\n\u001b[0;32m----> 1\u001b[0;31m SVC(C=1.0, cache_size=200, class_weight=None, coef0=0.0,\n\u001b[0m\u001b[1;32m      2\u001b[0m     \u001b[0mdecision_function_shape\u001b[0m\u001b[0;34m=\u001b[0m\u001b[0;34m'ovr'\u001b[0m\u001b[0;34m,\u001b[0m \u001b[0mdegree\u001b[0m\u001b[0;34m=\u001b[0m\u001b[0;36m3\u001b[0m\u001b[0;34m,\u001b[0m \u001b[0mgamma\u001b[0m\u001b[0;34m=\u001b[0m\u001b[0;34m'auto_deprecated'\u001b[0m\u001b[0;34m,\u001b[0m\u001b[0;34m\u001b[0m\u001b[0;34m\u001b[0m\u001b[0m\n\u001b[1;32m      3\u001b[0m     \u001b[0mkernel\u001b[0m\u001b[0;34m=\u001b[0m\u001b[0;34m'rbf'\u001b[0m\u001b[0;34m,\u001b[0m \u001b[0mmax_iter\u001b[0m\u001b[0;34m=\u001b[0m\u001b[0;34m-\u001b[0m\u001b[0;36m1\u001b[0m\u001b[0;34m,\u001b[0m \u001b[0mprobability\u001b[0m\u001b[0;34m=\u001b[0m\u001b[0;32mTrue\u001b[0m\u001b[0;34m,\u001b[0m \u001b[0mrandom_state\u001b[0m\u001b[0;34m=\u001b[0m\u001b[0;32mNone\u001b[0m\u001b[0;34m,\u001b[0m\u001b[0;34m\u001b[0m\u001b[0;34m\u001b[0m\u001b[0m\n\u001b[1;32m      4\u001b[0m     shrinking=True, tol=0.001, verbose=False)\n",
      "\u001b[0;31mNameError\u001b[0m: name 'SVC' is not defined"
     ]
    }
   ],
   "source": [
    "SVC(C=1.0, cache_size=200, class_weight=None, coef0=0.0,\n",
    "    decision_function_shape='ovr', degree=3, gamma='auto_deprecated',\n",
    "    kernel='rbf', max_iter=-1, probability=True, random_state=None,\n",
    "    shrinking=True, tol=0.001, verbose=False)"
   ]
  },
  {
   "cell_type": "code",
   "execution_count": null,
   "metadata": {
    "ExecuteTime": {
     "end_time": "2022-03-22T18:26:56.649599Z",
     "start_time": "2022-03-22T17:58:10.729Z"
    }
   },
   "outputs": [],
   "source": [
    "# Calculate the classification accuracy score\n",
    "clf.score(X_test_transformed, y_test)"
   ]
  },
  {
   "cell_type": "code",
   "execution_count": 269,
   "metadata": {
    "ExecuteTime": {
     "end_time": "2022-03-22T19:30:19.402579Z",
     "start_time": "2022-03-22T19:29:53.869523Z"
    }
   },
   "outputs": [],
   "source": [
    "test_preds = clf.predict(X_test_transformed)"
   ]
  },
  {
   "cell_type": "code",
   "execution_count": 270,
   "metadata": {
    "ExecuteTime": {
     "end_time": "2022-03-22T19:30:19.459668Z",
     "start_time": "2022-03-22T19:30:19.406839Z"
    }
   },
   "outputs": [
    {
     "name": "stdout",
     "output_type": "stream",
     "text": [
      "Precision Score: 0.5914365746298519\n",
      "Recall Score: 0.2353878006051919\n",
      "Accuracy Score: 0.6397945925880096\n",
      "F1 Score: 0.3367509683299157\n"
     ]
    }
   ],
   "source": [
    "print_metrics(y_test, test_preds)"
   ]
  },
  {
   "cell_type": "markdown",
   "metadata": {},
   "source": [
    "## Analysis of Altered XG Boost Model:\n",
    "* The F1-Score is greatly improved from the logistic regression, KNN, and initial decision tree  classifiers.\n",
    "    * F1 Score tracking:\n",
    "        * Best Logistic Regression: 0.43\n",
    "        * Best KNN: 0.38\n",
    "        * Initial Decision Tree: 0.44\n",
    "        * Improved Decision Tree: 0.31\n",
    "        * Bagged Tree: 0.37\n",
    "        * Random Forest: 0.19\n",
    "        * XG Boost: 0.46\n",
    "        * Altered XG Boost: 0.45\n",
    "        * Support Vector Machine: 0.34\n",
    "* Difficult for me to determine the best way to improve these models. Some things to try include:\n",
    "    * Weak Learner, such as Gradient Boosting|\n",
    "    * Add features\n",
    "        * Use plot feature importance with decision tree to select features.\n",
    "    * Use hyper-parameter tuning to improve best model (XG Boost)"
   ]
  },
  {
   "cell_type": "markdown",
   "metadata": {},
   "source": [
    "# Eleventh Model - Gradient Boost\n",
    "* Will weak learners help make sense of the 'noise' in the data set?"
   ]
  },
  {
   "cell_type": "code",
   "execution_count": 272,
   "metadata": {
    "ExecuteTime": {
     "end_time": "2022-03-22T19:39:58.734232Z",
     "start_time": "2022-03-22T19:39:58.605274Z"
    }
   },
   "outputs": [],
   "source": [
    "# Define X and y\n",
    "y = df3['TARGET']\n",
    "X = df3.drop('TARGET', axis=1)\n",
    "\n",
    "# Perform train-test split with random_state=42 and stratify=y\n",
    "X_train, X_test, y_train, y_test = train_test_split(X, y, test_size=0.25, random_state=42)"
   ]
  },
  {
   "cell_type": "code",
   "execution_count": 273,
   "metadata": {
    "ExecuteTime": {
     "end_time": "2022-03-22T19:40:21.313874Z",
     "start_time": "2022-03-22T19:40:21.308072Z"
    }
   },
   "outputs": [],
   "source": [
    "# Instantiate an AdaBoostClassifier\n",
    "adaboost_clf = AdaBoostClassifier(random_state=42)\n",
    "\n",
    "# Instantiate an GradientBoostingClassifier\n",
    "gbt_clf = GradientBoostingClassifier(random_state=42)"
   ]
  },
  {
   "cell_type": "code",
   "execution_count": 274,
   "metadata": {
    "ExecuteTime": {
     "end_time": "2022-03-22T19:40:37.540085Z",
     "start_time": "2022-03-22T19:40:34.221726Z"
    }
   },
   "outputs": [
    {
     "data": {
      "text/plain": [
       "AdaBoostClassifier(random_state=42)"
      ]
     },
     "execution_count": 274,
     "metadata": {},
     "output_type": "execute_result"
    }
   ],
   "source": [
    "# Fit AdaBoostClassifier\n",
    "adaboost_clf.fit(X_train, y_train)"
   ]
  },
  {
   "cell_type": "code",
   "execution_count": 275,
   "metadata": {
    "ExecuteTime": {
     "end_time": "2022-03-22T19:40:42.827658Z",
     "start_time": "2022-03-22T19:40:42.820130Z"
    }
   },
   "outputs": [
    {
     "data": {
      "text/plain": [
       "AdaBoostClassifier(random_state=42)"
      ]
     },
     "execution_count": 275,
     "metadata": {},
     "output_type": "execute_result"
    }
   ],
   "source": [
    "AdaBoostClassifier(algorithm='SAMME.R', base_estimator=None, learning_rate=1.0,\n",
    "                   n_estimators=50, random_state=42)"
   ]
  },
  {
   "cell_type": "code",
   "execution_count": 276,
   "metadata": {
    "ExecuteTime": {
     "end_time": "2022-03-22T19:41:07.332968Z",
     "start_time": "2022-03-22T19:40:53.315473Z"
    }
   },
   "outputs": [
    {
     "data": {
      "text/plain": [
       "GradientBoostingClassifier(random_state=42)"
      ]
     },
     "execution_count": 276,
     "metadata": {},
     "output_type": "execute_result"
    }
   ],
   "source": [
    "# Fit GradientBoostingClassifier\n",
    "gbt_clf.fit(X_train, y_train)"
   ]
  },
  {
   "cell_type": "code",
   "execution_count": 277,
   "metadata": {
    "ExecuteTime": {
     "end_time": "2022-03-22T19:41:08.342578Z",
     "start_time": "2022-03-22T19:41:08.331509Z"
    }
   },
   "outputs": [
    {
     "data": {
      "text/plain": [
       "GradientBoostingClassifier(presort='auto', random_state=42)"
      ]
     },
     "execution_count": 277,
     "metadata": {},
     "output_type": "execute_result"
    }
   ],
   "source": [
    "GradientBoostingClassifier(criterion='friedman_mse', init=None,\n",
    "                           learning_rate=0.1, loss='deviance', max_depth=3,\n",
    "                           max_features=None, max_leaf_nodes=None,\n",
    "                           min_impurity_decrease=0.0, min_impurity_split=None,\n",
    "                           min_samples_leaf=1, min_samples_split=2,\n",
    "                           min_weight_fraction_leaf=0.0, n_estimators=100,\n",
    "                           n_iter_no_change=None, presort='auto',\n",
    "                           random_state=42, subsample=1.0, tol=0.0001,\n",
    "                           validation_fraction=0.1, verbose=0,\n",
    "                           warm_start=False)"
   ]
  },
  {
   "cell_type": "code",
   "execution_count": 278,
   "metadata": {
    "ExecuteTime": {
     "end_time": "2022-03-22T19:41:21.142164Z",
     "start_time": "2022-03-22T19:41:20.128175Z"
    }
   },
   "outputs": [],
   "source": [
    "# AdaBoost model predictions\n",
    "adaboost_train_preds = adaboost_clf.predict(X_train)\n",
    "adaboost_test_preds = adaboost_clf.predict(X_test)\n",
    "\n",
    "# GradientBoosting model predictions\n",
    "gbt_clf_train_preds = gbt_clf.predict(X_train)\n",
    "gbt_clf_test_preds = gbt_clf.predict(X_test)"
   ]
  },
  {
   "cell_type": "code",
   "execution_count": 279,
   "metadata": {
    "ExecuteTime": {
     "end_time": "2022-03-22T19:41:33.617391Z",
     "start_time": "2022-03-22T19:41:33.520952Z"
    }
   },
   "outputs": [
    {
     "name": "stdout",
     "output_type": "stream",
     "text": [
      "Training Metrics\n",
      "Model: AdaBoost\n",
      "Accuracy: 0.6571245900963145\n",
      "F1-Score: 0.42018623792417953\n",
      "\n",
      "Model: Gradient Boosted Trees\n",
      "Accuracy: 0.666405428259121\n",
      "F1-Score: 0.429110930716832\n",
      "\n",
      "Testing Metrics\n",
      "Model: AdaBoost\n",
      "Accuracy: 0.6495081358658665\n",
      "F1-Score: 0.4179595191616151\n",
      "\n",
      "Model: Gradient Boosted Trees\n",
      "Accuracy: 0.6574274577739281\n",
      "F1-Score: 0.42376938287022586\n"
     ]
    }
   ],
   "source": [
    "def display_acc_and_f1_score(true, preds, model_name):\n",
    "    acc = accuracy_score(true, preds)\n",
    "    f1 = f1_score(true, preds)\n",
    "    print(\"Model: {}\".format(model_name))\n",
    "    print(\"Accuracy: {}\".format(acc))\n",
    "    print(\"F1-Score: {}\".format(f1))\n",
    "    \n",
    "print(\"Training Metrics\")\n",
    "display_acc_and_f1_score(y_train, adaboost_train_preds, model_name='AdaBoost')\n",
    "print(\"\")\n",
    "display_acc_and_f1_score(y_train, gbt_clf_train_preds, model_name='Gradient Boosted Trees')\n",
    "print(\"\")\n",
    "print(\"Testing Metrics\")\n",
    "display_acc_and_f1_score(y_test, adaboost_test_preds, model_name='AdaBoost')\n",
    "print(\"\")\n",
    "display_acc_and_f1_score(y_test, gbt_clf_test_preds, model_name='Gradient Boosted Trees')"
   ]
  },
  {
   "cell_type": "code",
   "execution_count": 280,
   "metadata": {
    "ExecuteTime": {
     "end_time": "2022-03-22T19:42:01.026223Z",
     "start_time": "2022-03-22T19:42:00.987174Z"
    }
   },
   "outputs": [
    {
     "data": {
      "text/plain": [
       "array([[8464, 1420],\n",
       "       [4245, 2034]])"
      ]
     },
     "execution_count": 280,
     "metadata": {},
     "output_type": "execute_result"
    }
   ],
   "source": [
    "adaboost_confusion_matrix = confusion_matrix(y_test, adaboost_test_preds)\n",
    "adaboost_confusion_matrix"
   ]
  },
  {
   "cell_type": "code",
   "execution_count": 281,
   "metadata": {
    "ExecuteTime": {
     "end_time": "2022-03-22T19:42:10.624859Z",
     "start_time": "2022-03-22T19:42:10.595472Z"
    }
   },
   "outputs": [
    {
     "data": {
      "text/plain": [
       "array([[8590, 1294],\n",
       "       [4243, 2036]])"
      ]
     },
     "execution_count": 281,
     "metadata": {},
     "output_type": "execute_result"
    }
   ],
   "source": [
    "gbt_confusion_matrix = confusion_matrix(y_test, gbt_clf_test_preds)\n",
    "gbt_confusion_matrix"
   ]
  },
  {
   "cell_type": "code",
   "execution_count": 282,
   "metadata": {
    "ExecuteTime": {
     "end_time": "2022-03-22T19:42:20.297364Z",
     "start_time": "2022-03-22T19:42:20.258198Z"
    },
    "scrolled": true
   },
   "outputs": [
    {
     "name": "stdout",
     "output_type": "stream",
     "text": [
      "              precision    recall  f1-score   support\n",
      "\n",
      "           0       0.67      0.86      0.75      9884\n",
      "           1       0.59      0.32      0.42      6279\n",
      "\n",
      "    accuracy                           0.65     16163\n",
      "   macro avg       0.63      0.59      0.58     16163\n",
      "weighted avg       0.64      0.65      0.62     16163\n",
      "\n"
     ]
    }
   ],
   "source": [
    "adaboost_classification_report = classification_report(y_test, adaboost_test_preds)\n",
    "print(adaboost_classification_report)"
   ]
  },
  {
   "cell_type": "code",
   "execution_count": 283,
   "metadata": {
    "ExecuteTime": {
     "end_time": "2022-03-22T19:42:53.288228Z",
     "start_time": "2022-03-22T19:42:53.247561Z"
    }
   },
   "outputs": [
    {
     "name": "stdout",
     "output_type": "stream",
     "text": [
      "              precision    recall  f1-score   support\n",
      "\n",
      "           0       0.67      0.87      0.76      9884\n",
      "           1       0.61      0.32      0.42      6279\n",
      "\n",
      "    accuracy                           0.66     16163\n",
      "   macro avg       0.64      0.60      0.59     16163\n",
      "weighted avg       0.65      0.66      0.63     16163\n",
      "\n"
     ]
    }
   ],
   "source": [
    "gbt_classification_report = classification_report(y_test, gbt_clf_test_preds)\n",
    "print(gbt_classification_report)"
   ]
  },
  {
   "cell_type": "code",
   "execution_count": 285,
   "metadata": {
    "ExecuteTime": {
     "end_time": "2022-03-22T19:43:39.406450Z",
     "start_time": "2022-03-22T19:43:24.766010Z"
    }
   },
   "outputs": [
    {
     "name": "stdout",
     "output_type": "stream",
     "text": [
      "Mean Adaboost Cross-Val Score (k=5):\n",
      "0.6555761794276875\n"
     ]
    }
   ],
   "source": [
    "print('Mean Adaboost Cross-Val Score (k=5):')\n",
    "print(cross_val_score(adaboost_clf, X, y, cv=5).mean())"
   ]
  },
  {
   "cell_type": "markdown",
   "metadata": {},
   "source": [
    "## Tune Learning Rate\n",
    "* Iterated on this many times - \n",
    "    * High learning rate (near 1.0) is the best.\n",
    "        * Learning rate should be in range of 0.0 - 1.0"
   ]
  },
  {
   "cell_type": "code",
   "execution_count": 306,
   "metadata": {
    "ExecuteTime": {
     "end_time": "2022-03-22T19:50:21.436729Z",
     "start_time": "2022-03-22T19:50:21.395939Z"
    }
   },
   "outputs": [],
   "source": [
    "# Define X and y\n",
    "y = df3['TARGET']\n",
    "X = df3.drop('TARGET', axis=1)\n",
    "\n",
    "# Perform train-test split with random_state=42 and stratify=y\n",
    "X_train, X_test, y_train, y_test = train_test_split(X, y, test_size=0.25, random_state=42)"
   ]
  },
  {
   "cell_type": "code",
   "execution_count": 359,
   "metadata": {
    "ExecuteTime": {
     "end_time": "2022-03-22T19:55:26.782295Z",
     "start_time": "2022-03-22T19:55:26.778054Z"
    }
   },
   "outputs": [],
   "source": [
    "# Instantiate an AdaBoostClassifier\n",
    "adaboost_clf = AdaBoostClassifier(learning_rate=0.99, random_state=42)\n",
    "\n",
    "# Instantiate an GradientBoostingClassifier\n",
    "gbt_clf = GradientBoostingClassifier(learning_rate=1, random_state=42)"
   ]
  },
  {
   "cell_type": "code",
   "execution_count": 360,
   "metadata": {
    "ExecuteTime": {
     "end_time": "2022-03-22T19:55:30.241935Z",
     "start_time": "2022-03-22T19:55:27.386008Z"
    }
   },
   "outputs": [
    {
     "data": {
      "text/plain": [
       "AdaBoostClassifier(learning_rate=0.99, random_state=42)"
      ]
     },
     "execution_count": 360,
     "metadata": {},
     "output_type": "execute_result"
    }
   ],
   "source": [
    "# Fit AdaBoostClassifier\n",
    "adaboost_clf.fit(X_train, y_train)"
   ]
  },
  {
   "cell_type": "code",
   "execution_count": 361,
   "metadata": {
    "ExecuteTime": {
     "end_time": "2022-03-22T19:55:30.254215Z",
     "start_time": "2022-03-22T19:55:30.244855Z"
    }
   },
   "outputs": [
    {
     "data": {
      "text/plain": [
       "AdaBoostClassifier(random_state=42)"
      ]
     },
     "execution_count": 361,
     "metadata": {},
     "output_type": "execute_result"
    }
   ],
   "source": [
    "AdaBoostClassifier(algorithm='SAMME.R', base_estimator=None, learning_rate=1.0,\n",
    "                   n_estimators=50, random_state=42)"
   ]
  },
  {
   "cell_type": "code",
   "execution_count": 362,
   "metadata": {
    "ExecuteTime": {
     "end_time": "2022-03-22T19:55:40.729680Z",
     "start_time": "2022-03-22T19:55:30.257793Z"
    }
   },
   "outputs": [
    {
     "data": {
      "text/plain": [
       "GradientBoostingClassifier(learning_rate=1, random_state=42)"
      ]
     },
     "execution_count": 362,
     "metadata": {},
     "output_type": "execute_result"
    }
   ],
   "source": [
    "# Fit GradientBoostingClassifier\n",
    "gbt_clf.fit(X_train, y_train)"
   ]
  },
  {
   "cell_type": "code",
   "execution_count": 363,
   "metadata": {
    "ExecuteTime": {
     "end_time": "2022-03-22T19:55:40.743540Z",
     "start_time": "2022-03-22T19:55:40.733504Z"
    }
   },
   "outputs": [
    {
     "data": {
      "text/plain": [
       "GradientBoostingClassifier(presort='auto', random_state=42)"
      ]
     },
     "execution_count": 363,
     "metadata": {},
     "output_type": "execute_result"
    }
   ],
   "source": [
    "GradientBoostingClassifier(criterion='friedman_mse', init=None,\n",
    "                           learning_rate=0.1, loss='deviance', max_depth=3,\n",
    "                           max_features=None, max_leaf_nodes=None,\n",
    "                           min_impurity_decrease=0.0, min_impurity_split=None,\n",
    "                           min_samples_leaf=1, min_samples_split=2,\n",
    "                           min_weight_fraction_leaf=0.0, n_estimators=100,\n",
    "                           n_iter_no_change=None, presort='auto',\n",
    "                           random_state=42, subsample=1.0, tol=0.0001,\n",
    "                           validation_fraction=0.1, verbose=0,\n",
    "                           warm_start=False)"
   ]
  },
  {
   "cell_type": "code",
   "execution_count": 364,
   "metadata": {
    "ExecuteTime": {
     "end_time": "2022-03-22T19:55:41.586891Z",
     "start_time": "2022-03-22T19:55:40.746417Z"
    }
   },
   "outputs": [],
   "source": [
    "# AdaBoost model predictions\n",
    "adaboost_train_preds = adaboost_clf.predict(X_train)\n",
    "adaboost_test_preds = adaboost_clf.predict(X_test)\n",
    "\n",
    "# GradientBoosting model predictions\n",
    "gbt_clf_train_preds = gbt_clf.predict(X_train)\n",
    "gbt_clf_test_preds = gbt_clf.predict(X_test)"
   ]
  },
  {
   "cell_type": "code",
   "execution_count": 365,
   "metadata": {
    "ExecuteTime": {
     "end_time": "2022-03-22T19:55:41.699988Z",
     "start_time": "2022-03-22T19:55:41.591415Z"
    }
   },
   "outputs": [
    {
     "name": "stdout",
     "output_type": "stream",
     "text": [
      "Training Metrics\n",
      "Model: AdaBoost\n",
      "Accuracy: 0.6585270278631385\n",
      "F1-Score: 0.42292007946742877\n",
      "\n",
      "Model: Gradient Boosted Trees\n",
      "Accuracy: 0.6907006001608679\n",
      "F1-Score: 0.5217335842076729\n",
      "\n",
      "Testing Metrics\n",
      "Model: AdaBoost\n",
      "Accuracy: 0.6525397512837964\n",
      "F1-Score: 0.42340862422997944\n",
      "\n",
      "Model: Gradient Boosted Trees\n",
      "Accuracy: 0.6493843964610531\n",
      "F1-Score: 0.4626908125533328\n"
     ]
    }
   ],
   "source": [
    "def display_acc_and_f1_score(true, preds, model_name):\n",
    "    acc = accuracy_score(true, preds)\n",
    "    f1 = f1_score(true, preds)\n",
    "    print(\"Model: {}\".format(model_name))\n",
    "    print(\"Accuracy: {}\".format(acc))\n",
    "    print(\"F1-Score: {}\".format(f1))\n",
    "    \n",
    "print(\"Training Metrics\")\n",
    "display_acc_and_f1_score(y_train, adaboost_train_preds, model_name='AdaBoost')\n",
    "print(\"\")\n",
    "display_acc_and_f1_score(y_train, gbt_clf_train_preds, model_name='Gradient Boosted Trees')\n",
    "print(\"\")\n",
    "print(\"Testing Metrics\")\n",
    "display_acc_and_f1_score(y_test, adaboost_test_preds, model_name='AdaBoost')\n",
    "print(\"\")\n",
    "display_acc_and_f1_score(y_test, gbt_clf_test_preds, model_name='Gradient Boosted Trees')"
   ]
  },
  {
   "cell_type": "code",
   "execution_count": 366,
   "metadata": {
    "ExecuteTime": {
     "end_time": "2022-03-22T19:55:41.738253Z",
     "start_time": "2022-03-22T19:55:41.705664Z"
    }
   },
   "outputs": [
    {
     "data": {
      "text/plain": [
       "array([[8485, 1399],\n",
       "       [4217, 2062]])"
      ]
     },
     "execution_count": 366,
     "metadata": {},
     "output_type": "execute_result"
    }
   ],
   "source": [
    "adaboost_confusion_matrix = confusion_matrix(y_test, adaboost_test_preds)\n",
    "adaboost_confusion_matrix"
   ]
  },
  {
   "cell_type": "code",
   "execution_count": 367,
   "metadata": {
    "ExecuteTime": {
     "end_time": "2022-03-22T19:55:41.781258Z",
     "start_time": "2022-03-22T19:55:41.742200Z"
    }
   },
   "outputs": [
    {
     "data": {
      "text/plain": [
       "array([[8056, 1828],\n",
       "       [3839, 2440]])"
      ]
     },
     "execution_count": 367,
     "metadata": {},
     "output_type": "execute_result"
    }
   ],
   "source": [
    "gbt_confusion_matrix = confusion_matrix(y_test, gbt_clf_test_preds)\n",
    "gbt_confusion_matrix"
   ]
  },
  {
   "cell_type": "markdown",
   "metadata": {},
   "source": [
    "## Analysis of Gradient Boost Model:\n",
    "* The F1-Score is only slightly improved from the logistic regression, KNN, and initial decision tree  classifiers.\n",
    "    * F1 Score tracking:\n",
    "        * Best Logistic Regression: 0.43\n",
    "        * Best KNN: 0.38\n",
    "        * Initial Decision Tree: 0.44\n",
    "        * Improved Decision Tree: 0.31\n",
    "        * Bagged Tree: 0.37\n",
    "        * Random Forest: 0.19\n",
    "        * XG Boost: 0.46\n",
    "        * Altered XG Boost: 0.45\n",
    "        * Support Vector Machine: 0.34\n",
    "        * Gradient Boost: 0.46\n",
    "* Next things to try include:\n",
    "    * Add features\n",
    "        * Use plot feature importance with decision tree to select features.\n",
    "    * Use hyper-parameter tuning to improve best model (XG Boost)"
   ]
  },
  {
   "cell_type": "markdown",
   "metadata": {},
   "source": [
    "# Add features, re-model"
   ]
  },
  {
   "cell_type": "markdown",
   "metadata": {},
   "source": [
    "## Preprocess Data\n",
    "* Reduce Class Imbalance Issue:\n",
    "    * Sample 40,000 '0' values from the data set and use 25,000 '1' values, for 65,000 total values. \n",
    "* Trim columns based on manual feature selection select 20 columns with highest relevance according to me."
   ]
  },
  {
   "cell_type": "markdown",
   "metadata": {},
   "source": [
    "### Select Features"
   ]
  },
  {
   "cell_type": "code",
   "execution_count": 4,
   "metadata": {
    "ExecuteTime": {
     "end_time": "2022-03-22T16:05:44.055286Z",
     "start_time": "2022-03-22T16:05:44.031392Z"
    }
   },
   "outputs": [
    {
     "name": "stdout",
     "output_type": "stream",
     "text": [
      "SK_ID_CURR\n",
      "TARGET\n",
      "NAME_CONTRACT_TYPE\n",
      "CODE_GENDER\n",
      "FLAG_OWN_CAR\n",
      "FLAG_OWN_REALTY\n",
      "CNT_CHILDREN\n",
      "AMT_INCOME_TOTAL\n",
      "AMT_CREDIT\n",
      "AMT_ANNUITY\n",
      "AMT_GOODS_PRICE\n",
      "NAME_TYPE_SUITE\n",
      "NAME_INCOME_TYPE\n",
      "NAME_EDUCATION_TYPE\n",
      "NAME_FAMILY_STATUS\n",
      "NAME_HOUSING_TYPE\n",
      "REGION_POPULATION_RELATIVE\n",
      "DAYS_BIRTH\n",
      "DAYS_EMPLOYED\n",
      "DAYS_REGISTRATION\n",
      "DAYS_ID_PUBLISH\n",
      "OWN_CAR_AGE\n",
      "FLAG_MOBIL\n",
      "FLAG_EMP_PHONE\n",
      "FLAG_WORK_PHONE\n",
      "FLAG_CONT_MOBILE\n",
      "FLAG_PHONE\n",
      "FLAG_EMAIL\n",
      "OCCUPATION_TYPE\n",
      "CNT_FAM_MEMBERS\n",
      "REGION_RATING_CLIENT\n",
      "REGION_RATING_CLIENT_W_CITY\n",
      "WEEKDAY_APPR_PROCESS_START\n",
      "HOUR_APPR_PROCESS_START\n",
      "REG_REGION_NOT_LIVE_REGION\n",
      "REG_REGION_NOT_WORK_REGION\n",
      "LIVE_REGION_NOT_WORK_REGION\n",
      "REG_CITY_NOT_LIVE_CITY\n",
      "REG_CITY_NOT_WORK_CITY\n",
      "LIVE_CITY_NOT_WORK_CITY\n",
      "ORGANIZATION_TYPE\n",
      "EXT_SOURCE_1\n",
      "EXT_SOURCE_2\n",
      "EXT_SOURCE_3\n",
      "APARTMENTS_AVG\n",
      "BASEMENTAREA_AVG\n",
      "YEARS_BEGINEXPLUATATION_AVG\n",
      "YEARS_BUILD_AVG\n",
      "COMMONAREA_AVG\n",
      "ELEVATORS_AVG\n",
      "ENTRANCES_AVG\n",
      "FLOORSMAX_AVG\n",
      "FLOORSMIN_AVG\n",
      "LANDAREA_AVG\n",
      "LIVINGAPARTMENTS_AVG\n",
      "LIVINGAREA_AVG\n",
      "NONLIVINGAPARTMENTS_AVG\n",
      "NONLIVINGAREA_AVG\n",
      "APARTMENTS_MODE\n",
      "BASEMENTAREA_MODE\n",
      "YEARS_BEGINEXPLUATATION_MODE\n",
      "YEARS_BUILD_MODE\n",
      "COMMONAREA_MODE\n",
      "ELEVATORS_MODE\n",
      "ENTRANCES_MODE\n",
      "FLOORSMAX_MODE\n",
      "FLOORSMIN_MODE\n",
      "LANDAREA_MODE\n",
      "LIVINGAPARTMENTS_MODE\n",
      "LIVINGAREA_MODE\n",
      "NONLIVINGAPARTMENTS_MODE\n",
      "NONLIVINGAREA_MODE\n",
      "APARTMENTS_MEDI\n",
      "BASEMENTAREA_MEDI\n",
      "YEARS_BEGINEXPLUATATION_MEDI\n",
      "YEARS_BUILD_MEDI\n",
      "COMMONAREA_MEDI\n",
      "ELEVATORS_MEDI\n",
      "ENTRANCES_MEDI\n",
      "FLOORSMAX_MEDI\n",
      "FLOORSMIN_MEDI\n",
      "LANDAREA_MEDI\n",
      "LIVINGAPARTMENTS_MEDI\n",
      "LIVINGAREA_MEDI\n",
      "NONLIVINGAPARTMENTS_MEDI\n",
      "NONLIVINGAREA_MEDI\n",
      "FONDKAPREMONT_MODE\n",
      "HOUSETYPE_MODE\n",
      "TOTALAREA_MODE\n",
      "WALLSMATERIAL_MODE\n",
      "EMERGENCYSTATE_MODE\n",
      "OBS_30_CNT_SOCIAL_CIRCLE\n",
      "DEF_30_CNT_SOCIAL_CIRCLE\n",
      "OBS_60_CNT_SOCIAL_CIRCLE\n",
      "DEF_60_CNT_SOCIAL_CIRCLE\n",
      "DAYS_LAST_PHONE_CHANGE\n",
      "FLAG_DOCUMENT_2\n",
      "FLAG_DOCUMENT_3\n",
      "FLAG_DOCUMENT_4\n",
      "FLAG_DOCUMENT_5\n",
      "FLAG_DOCUMENT_6\n",
      "FLAG_DOCUMENT_7\n",
      "FLAG_DOCUMENT_8\n",
      "FLAG_DOCUMENT_9\n",
      "FLAG_DOCUMENT_10\n",
      "FLAG_DOCUMENT_11\n",
      "FLAG_DOCUMENT_12\n",
      "FLAG_DOCUMENT_13\n",
      "FLAG_DOCUMENT_14\n",
      "FLAG_DOCUMENT_15\n",
      "FLAG_DOCUMENT_16\n",
      "FLAG_DOCUMENT_17\n",
      "FLAG_DOCUMENT_18\n",
      "FLAG_DOCUMENT_19\n",
      "FLAG_DOCUMENT_20\n",
      "FLAG_DOCUMENT_21\n",
      "AMT_REQ_CREDIT_BUREAU_HOUR\n",
      "AMT_REQ_CREDIT_BUREAU_DAY\n",
      "AMT_REQ_CREDIT_BUREAU_WEEK\n",
      "AMT_REQ_CREDIT_BUREAU_MON\n",
      "AMT_REQ_CREDIT_BUREAU_QRT\n",
      "AMT_REQ_CREDIT_BUREAU_YEAR\n",
      "122\n"
     ]
    }
   ],
   "source": [
    "# iterating print for the columns\n",
    "cols = []\n",
    "for col in df.columns:\n",
    "    cols.append(col)\n",
    "    print(col)\n",
    "print(len(cols))"
   ]
  },
  {
   "cell_type": "markdown",
   "metadata": {},
   "source": [
    "### Create dataframe with selected features"
   ]
  },
  {
   "cell_type": "code",
   "execution_count": 372,
   "metadata": {
    "ExecuteTime": {
     "end_time": "2022-03-22T20:33:44.253699Z",
     "start_time": "2022-03-22T20:33:43.518956Z"
    }
   },
   "outputs": [
    {
     "name": "stdout",
     "output_type": "stream",
     "text": [
      "<class 'pandas.core.frame.DataFrame'>\n",
      "RangeIndex: 307511 entries, 0 to 307510\n",
      "Data columns (total 30 columns):\n",
      " #   Column                       Non-Null Count   Dtype  \n",
      "---  ------                       --------------   -----  \n",
      " 0   TARGET                       307511 non-null  int64  \n",
      " 1   CNT_CHILDREN                 307511 non-null  int64  \n",
      " 2   AMT_INCOME_TOTAL             307511 non-null  float64\n",
      " 3   AMT_CREDIT                   307511 non-null  float64\n",
      " 4   AMT_ANNUITY                  307499 non-null  float64\n",
      " 5   NAME_EDUCATION_TYPE          307511 non-null  object \n",
      " 6   DAYS_EMPLOYED                307511 non-null  int64  \n",
      " 7   CNT_FAM_MEMBERS              307509 non-null  float64\n",
      " 8   DAYS_BIRTH                   307511 non-null  int64  \n",
      " 9   NAME_INCOME_TYPE             307511 non-null  object \n",
      " 10  AMT_GOODS_PRICE              307233 non-null  float64\n",
      " 11  CODE_GENDER                  307511 non-null  object \n",
      " 12  FLAG_OWN_REALTY              307511 non-null  object \n",
      " 13  REGION_RATING_CLIENT         307511 non-null  int64  \n",
      " 14  ORGANIZATION_TYPE            307511 non-null  object \n",
      " 15  DAYS_REGISTRATION            307511 non-null  float64\n",
      " 16  REGION_POPULATION_RELATIVE   307511 non-null  float64\n",
      " 17  NAME_HOUSING_TYPE            307511 non-null  object \n",
      " 18  NAME_FAMILY_STATUS           307511 non-null  object \n",
      " 19  NAME_TYPE_SUITE              306219 non-null  object \n",
      " 20  FLAG_OWN_CAR                 307511 non-null  object \n",
      " 21  NAME_CONTRACT_TYPE           307511 non-null  object \n",
      " 22  LIVE_REGION_NOT_WORK_REGION  307511 non-null  int64  \n",
      " 23  EXT_SOURCE_1                 134133 non-null  float64\n",
      " 24  EXT_SOURCE_2                 306851 non-null  float64\n",
      " 25  EXT_SOURCE_3                 246546 non-null  float64\n",
      " 26  APARTMENTS_AVG               151450 non-null  float64\n",
      " 27  YEARS_BUILD_AVG              103023 non-null  float64\n",
      " 28  FLOORSMAX_AVG                154491 non-null  float64\n",
      " 29  NONLIVINGAREA_AVG            137829 non-null  float64\n",
      "dtypes: float64(14), int64(6), object(10)\n",
      "memory usage: 70.4+ MB\n"
     ]
    }
   ],
   "source": [
    "# Create new dataframe with selected features\n",
    "df4 = df.filter(['TARGET', \n",
    "                 'CNT_CHILDREN', \n",
    "                 'AMT_INCOME_TOTAL',\n",
    "                 'AMT_CREDIT', \n",
    "                 'AMT_ANNUITY',\n",
    "                 'NAME_EDUCATION_TYPE',\n",
    "                 'DAYS_EMPLOYED',\n",
    "                 'CNT_FAM_MEMBERS',\n",
    "                 'DAYS_BIRTH',\n",
    "                 'NAME_INCOME_TYPE',\n",
    "                 'AMT_GOODS_PRICE',\n",
    "                 'CODE_GENDER',\n",
    "                 'FLAG_OWN_REALTY',\n",
    "                 'REGION_RATING_CLIENT',\n",
    "                 'ORGANIZATION_TYPE',\n",
    "                 'DAYS_REGISTRATION',\n",
    "                 'REGION_POPULATION_RELATIVE',\n",
    "                 'NAME_HOUSING_TYPE',\n",
    "                 'NAME_FAMILY_STATUS',\n",
    "                 'NAME_TYPE_SUITE',\n",
    "                 'FLAG_OWN_CAR',\n",
    "                 'NAME_CONTRACT_TYPE',\n",
    "                 'LIVE_REGION_NOT_WORK_REGION',\n",
    "                 'EXT_SOURCE_1',\n",
    "                 'EXT_SOURCE_2',\n",
    "                 'EXT_SOURCE_3',\n",
    "                 'APARTMENTS_AVG',\n",
    "                 'YEARS_BUILD_AVG',\n",
    "                 'YEARS_BEGIN_EXPLUATION_AVG',\n",
    "                 'FLOORSMAX_AVG',\n",
    "                 'NONLIVINGAREA_AVG'], \n",
    "                axis=1)\n",
    "df4.info()"
   ]
  },
  {
   "cell_type": "markdown",
   "metadata": {},
   "source": [
    "### Notable Values, dtypes, Potential Issues\n",
    "* Eight features with missing values:\n",
    "    * AMT_ANNUITY\n",
    "    * OWN_CAR_AGE\n",
    "    * CNT_FAM_MEMBERS \n",
    "    * AMT_GOODS_PRICE\n",
    "    * NAME_TYPE_SUITE\n",
    "    * EXT_SOURCE_1\n",
    "        * Eliminate feature\n",
    "    * EXT_SOURCE_2\n",
    "    * EXT_SOURCE_3\n",
    "        * Replace null with mean or mode (categorical) unless otherwise noted for above features.\n",
    "* Six Categorical Variables: \n",
    "    * NAME_EDUCATION_TYPE\n",
    "    * NAME_INCOME_TYPE\n",
    "    * CODE_GENDER\n",
    "    * FLAG_OWN_REALTY\n",
    "    * ORGANIZATION_TYPE\n",
    "    * NAME_HOUSING_TYPE           \n",
    "    * NAME_FAMILY_STATUS           \n",
    "    * NAME_TYPE_SUITE               \n",
    "    * FLAG_OWN_CAR                  \n",
    "    * NAME_CONTRACT_TYPE"
   ]
  },
  {
   "cell_type": "markdown",
   "metadata": {},
   "source": [
    "## Randomly Select 40,000 '0' values from 'TARGET'\n",
    "* Will reduce size of dataframe for faster processing on local machine.\n",
    "* Leaves a lot of data available for testing."
   ]
  },
  {
   "cell_type": "code",
   "execution_count": 374,
   "metadata": {
    "ExecuteTime": {
     "end_time": "2022-03-22T20:37:38.231727Z",
     "start_time": "2022-03-22T20:37:37.993922Z"
    }
   },
   "outputs": [
    {
     "data": {
      "text/plain": [
       "0    282686\n",
       "Name: TARGET, dtype: int64"
      ]
     },
     "execution_count": 374,
     "metadata": {},
     "output_type": "execute_result"
    }
   ],
   "source": [
    "df_zero_val = df4[df4.TARGET == 0]\n",
    "df_zero_val['TARGET'].value_counts()"
   ]
  },
  {
   "cell_type": "code",
   "execution_count": 375,
   "metadata": {
    "ExecuteTime": {
     "end_time": "2022-03-22T20:37:38.908665Z",
     "start_time": "2022-03-22T20:37:38.783451Z"
    }
   },
   "outputs": [
    {
     "data": {
      "text/plain": [
       "0    40000\n",
       "Name: TARGET, dtype: int64"
      ]
     },
     "execution_count": 375,
     "metadata": {},
     "output_type": "execute_result"
    }
   ],
   "source": [
    "df_zero_val = df_zero_val.sample(n=40000)\n",
    "df_zero_val['TARGET'].value_counts()"
   ]
  },
  {
   "cell_type": "code",
   "execution_count": 376,
   "metadata": {
    "ExecuteTime": {
     "end_time": "2022-03-22T20:37:39.946097Z",
     "start_time": "2022-03-22T20:37:39.910330Z"
    }
   },
   "outputs": [
    {
     "data": {
      "text/plain": [
       "1    24825\n",
       "Name: TARGET, dtype: int64"
      ]
     },
     "execution_count": 376,
     "metadata": {},
     "output_type": "execute_result"
    }
   ],
   "source": [
    "df_one_val = df4[df4.TARGET == 1]\n",
    "df_one_val['TARGET'].value_counts()"
   ]
  },
  {
   "cell_type": "code",
   "execution_count": 377,
   "metadata": {
    "ExecuteTime": {
     "end_time": "2022-03-22T20:37:42.586787Z",
     "start_time": "2022-03-22T20:37:42.440701Z"
    }
   },
   "outputs": [
    {
     "data": {
      "text/plain": [
       "0    40000\n",
       "1    24825\n",
       "Name: TARGET, dtype: int64"
      ]
     },
     "execution_count": 377,
     "metadata": {},
     "output_type": "execute_result"
    }
   ],
   "source": [
    "df5 = df_zero_val.append(df_one_val)\n",
    "df5['TARGET'].value_counts()"
   ]
  },
  {
   "cell_type": "markdown",
   "metadata": {},
   "source": [
    "## Clean up null and missing values"
   ]
  },
  {
   "cell_type": "code",
   "execution_count": 378,
   "metadata": {
    "ExecuteTime": {
     "end_time": "2022-03-22T20:37:47.465936Z",
     "start_time": "2022-03-22T20:37:47.371484Z"
    }
   },
   "outputs": [
    {
     "data": {
      "text/plain": [
       "TARGET                             0\n",
       "CNT_CHILDREN                       0\n",
       "AMT_INCOME_TOTAL                   0\n",
       "AMT_CREDIT                         0\n",
       "AMT_ANNUITY                        1\n",
       "NAME_EDUCATION_TYPE                0\n",
       "DAYS_EMPLOYED                      0\n",
       "CNT_FAM_MEMBERS                    1\n",
       "DAYS_BIRTH                         0\n",
       "NAME_INCOME_TYPE                   0\n",
       "AMT_GOODS_PRICE                   62\n",
       "CODE_GENDER                        0\n",
       "FLAG_OWN_REALTY                    0\n",
       "REGION_RATING_CLIENT               0\n",
       "ORGANIZATION_TYPE                  0\n",
       "DAYS_REGISTRATION                  0\n",
       "REGION_POPULATION_RELATIVE         0\n",
       "NAME_HOUSING_TYPE                  0\n",
       "NAME_FAMILY_STATUS                 0\n",
       "NAME_TYPE_SUITE                  242\n",
       "FLAG_OWN_CAR                       0\n",
       "NAME_CONTRACT_TYPE                 0\n",
       "LIVE_REGION_NOT_WORK_REGION        0\n",
       "EXT_SOURCE_1                   37224\n",
       "EXT_SOURCE_2                     145\n",
       "EXT_SOURCE_3                   13578\n",
       "APARTMENTS_AVG                 34185\n",
       "YEARS_BUILD_AVG                43961\n",
       "FLOORSMAX_AVG                  33586\n",
       "NONLIVINGAREA_AVG              37007\n",
       "dtype: int64"
      ]
     },
     "execution_count": 378,
     "metadata": {},
     "output_type": "execute_result"
    }
   ],
   "source": [
    "df5.isnull().sum()"
   ]
  },
  {
   "cell_type": "markdown",
   "metadata": {},
   "source": [
    "### Decisions for null values\n",
    "* Drop one row from AMT_ANNUITY\n",
    "* OWN_CAR_AGE, OCCUPATION_TYPE, LANDAREA_AVG, LIVINGAREA_AVG are missing so much data that they are not helpful - drop columns\n",
    "* Look at AMT_GOODS_PRICE to better understand column\n",
    "    * Likely, use mean value. Dtype is Float."
   ]
  },
  {
   "cell_type": "code",
   "execution_count": 379,
   "metadata": {
    "ExecuteTime": {
     "end_time": "2022-03-22T20:45:20.425184Z",
     "start_time": "2022-03-22T20:45:20.164692Z"
    }
   },
   "outputs": [
    {
     "name": "stdout",
     "output_type": "stream",
     "text": [
      "<class 'pandas.core.frame.DataFrame'>\n",
      "Int64Index: 64825 entries, 39451 to 307509\n",
      "Data columns (total 25 columns):\n",
      " #   Column                       Non-Null Count  Dtype  \n",
      "---  ------                       --------------  -----  \n",
      " 0   TARGET                       64825 non-null  int64  \n",
      " 1   CNT_CHILDREN                 64825 non-null  int64  \n",
      " 2   AMT_INCOME_TOTAL             64825 non-null  float64\n",
      " 3   AMT_CREDIT                   64825 non-null  float64\n",
      " 4   AMT_ANNUITY                  64824 non-null  float64\n",
      " 5   NAME_EDUCATION_TYPE          64825 non-null  object \n",
      " 6   DAYS_EMPLOYED                64825 non-null  int64  \n",
      " 7   CNT_FAM_MEMBERS              64824 non-null  float64\n",
      " 8   DAYS_BIRTH                   64825 non-null  int64  \n",
      " 9   NAME_INCOME_TYPE             64825 non-null  object \n",
      " 10  AMT_GOODS_PRICE              64763 non-null  float64\n",
      " 11  CODE_GENDER                  64825 non-null  object \n",
      " 12  FLAG_OWN_REALTY              64825 non-null  object \n",
      " 13  REGION_RATING_CLIENT         64825 non-null  int64  \n",
      " 14  ORGANIZATION_TYPE            64825 non-null  object \n",
      " 15  DAYS_REGISTRATION            64825 non-null  float64\n",
      " 16  REGION_POPULATION_RELATIVE   64825 non-null  float64\n",
      " 17  NAME_HOUSING_TYPE            64825 non-null  object \n",
      " 18  NAME_FAMILY_STATUS           64825 non-null  object \n",
      " 19  NAME_TYPE_SUITE              64583 non-null  object \n",
      " 20  FLAG_OWN_CAR                 64825 non-null  object \n",
      " 21  NAME_CONTRACT_TYPE           64825 non-null  object \n",
      " 22  LIVE_REGION_NOT_WORK_REGION  64825 non-null  int64  \n",
      " 23  EXT_SOURCE_2                 64680 non-null  float64\n",
      " 24  EXT_SOURCE_3                 51247 non-null  float64\n",
      "dtypes: float64(9), int64(6), object(10)\n",
      "memory usage: 12.9+ MB\n"
     ]
    }
   ],
   "source": [
    "df5 = df5.drop(columns=['EXT_SOURCE_1', \n",
    "                        'APARTMENTS_AVG', \n",
    "                        'YEARS_BUILD_AVG', \n",
    "                        'FLOORSMAX_AVG',\n",
    "                        'NONLIVINGAREA_AVG'])\n",
    "df5.info()"
   ]
  },
  {
   "cell_type": "markdown",
   "metadata": {},
   "source": [
    "### Replace missing values for AMT_GOODS_PRICE & AMT_ANNUITY with mean"
   ]
  },
  {
   "cell_type": "code",
   "execution_count": 384,
   "metadata": {
    "ExecuteTime": {
     "end_time": "2022-03-22T20:52:02.595714Z",
     "start_time": "2022-03-22T20:52:02.479178Z"
    }
   },
   "outputs": [
    {
     "name": "stdout",
     "output_type": "stream",
     "text": [
      "AMT_GOODS_PRICE: count    6.482500e+04\n",
      "mean     5.222983e+05\n",
      "std      3.520200e+05\n",
      "min      4.500000e+04\n",
      "25%      2.385000e+05\n",
      "50%      4.500000e+05\n",
      "75%      6.750000e+05\n",
      "max      4.050000e+06\n",
      "Name: AMT_GOODS_PRICE, dtype: float64\n",
      "\n",
      "AMT_ANNUITY: count     64825.000000\n",
      "mean      26936.759534\n",
      "std       13885.702447\n",
      "min        1615.500000\n",
      "25%       16852.500000\n",
      "50%       24988.500000\n",
      "75%       34254.000000\n",
      "max      225000.000000\n",
      "Name: AMT_ANNUITY, dtype: float64\n",
      "\n",
      "CNT_FAM_MEMBERS: count    64825.000000\n",
      "mean         2.165263\n",
      "std          0.923811\n",
      "min          1.000000\n",
      "25%          2.000000\n",
      "50%          2.000000\n",
      "75%          3.000000\n",
      "max         13.000000\n",
      "Name: CNT_FAM_MEMBERS, dtype: float64\n",
      "\n",
      "NAME_TYPE_SUITE: count             64825\n",
      "unique                7\n",
      "top       Unaccompanied\n",
      "freq              52876\n",
      "Name: NAME_TYPE_SUITE, dtype: object\n",
      "\n",
      "EXT_SOURCE_2: count    64825.000000\n",
      "mean         0.480366\n",
      "std          0.204073\n",
      "min          0.000005\n",
      "25%          0.331474\n",
      "50%          0.531896\n",
      "75%          0.645654\n",
      "max          0.855000\n",
      "Name: EXT_SOURCE_2, dtype: float64\n",
      "\n",
      "EXT_SOURCE_3: count    64825.000000\n",
      "mean         0.472488\n",
      "std          0.183438\n",
      "min          0.000527\n",
      "25%          0.363945\n",
      "50%          0.472488\n",
      "75%          0.604113\n",
      "max          0.896010\n",
      "Name: EXT_SOURCE_3, dtype: float64\n"
     ]
    }
   ],
   "source": [
    "df5['AMT_GOODS_PRICE'].fillna(value=df5['AMT_GOODS_PRICE'].mean(), inplace=True)\n",
    "print('AMT_GOODS_PRICE:', df5['AMT_GOODS_PRICE'].describe())\n",
    "print()\n",
    "df5['AMT_ANNUITY'].fillna(value=df5['AMT_ANNUITY'].mean(), inplace=True)\n",
    "print('AMT_ANNUITY:', df5['AMT_ANNUITY'].describe())\n",
    "print()\n",
    "df5['CNT_FAM_MEMBERS'].fillna(value=df5['CNT_FAM_MEMBERS'].mean(), inplace=True)\n",
    "print('CNT_FAM_MEMBERS:', df5['CNT_FAM_MEMBERS'].describe())\n",
    "print()\n",
    "df5['NAME_TYPE_SUITE'].fillna(df5['NAME_TYPE_SUITE'].mode()[0], inplace=True)\n",
    "print('NAME_TYPE_SUITE:', df5['NAME_TYPE_SUITE'].describe())\n",
    "print()\n",
    "df5['EXT_SOURCE_2'].fillna(value=df5['EXT_SOURCE_2'].mean(), inplace=True)\n",
    "print('EXT_SOURCE_2:', df5['EXT_SOURCE_2'].describe())\n",
    "print()\n",
    "df5['EXT_SOURCE_3'].fillna(value=df5['EXT_SOURCE_3'].mean(), inplace=True)\n",
    "print('EXT_SOURCE_3:', df5['EXT_SOURCE_3'].describe())"
   ]
  },
  {
   "cell_type": "code",
   "execution_count": 385,
   "metadata": {
    "ExecuteTime": {
     "end_time": "2022-03-22T20:52:04.506094Z",
     "start_time": "2022-03-22T20:52:04.429682Z"
    }
   },
   "outputs": [
    {
     "name": "stdout",
     "output_type": "stream",
     "text": [
      "<class 'pandas.core.frame.DataFrame'>\n",
      "Int64Index: 64825 entries, 39451 to 307509\n",
      "Data columns (total 25 columns):\n",
      " #   Column                       Non-Null Count  Dtype  \n",
      "---  ------                       --------------  -----  \n",
      " 0   TARGET                       64825 non-null  int64  \n",
      " 1   CNT_CHILDREN                 64825 non-null  int64  \n",
      " 2   AMT_INCOME_TOTAL             64825 non-null  float64\n",
      " 3   AMT_CREDIT                   64825 non-null  float64\n",
      " 4   AMT_ANNUITY                  64825 non-null  float64\n",
      " 5   NAME_EDUCATION_TYPE          64825 non-null  object \n",
      " 6   DAYS_EMPLOYED                64825 non-null  int64  \n",
      " 7   CNT_FAM_MEMBERS              64825 non-null  float64\n",
      " 8   DAYS_BIRTH                   64825 non-null  int64  \n",
      " 9   NAME_INCOME_TYPE             64825 non-null  object \n",
      " 10  AMT_GOODS_PRICE              64825 non-null  float64\n",
      " 11  CODE_GENDER                  64825 non-null  object \n",
      " 12  FLAG_OWN_REALTY              64825 non-null  object \n",
      " 13  REGION_RATING_CLIENT         64825 non-null  int64  \n",
      " 14  ORGANIZATION_TYPE            64825 non-null  object \n",
      " 15  DAYS_REGISTRATION            64825 non-null  float64\n",
      " 16  REGION_POPULATION_RELATIVE   64825 non-null  float64\n",
      " 17  NAME_HOUSING_TYPE            64825 non-null  object \n",
      " 18  NAME_FAMILY_STATUS           64825 non-null  object \n",
      " 19  NAME_TYPE_SUITE              64825 non-null  object \n",
      " 20  FLAG_OWN_CAR                 64825 non-null  object \n",
      " 21  NAME_CONTRACT_TYPE           64825 non-null  object \n",
      " 22  LIVE_REGION_NOT_WORK_REGION  64825 non-null  int64  \n",
      " 23  EXT_SOURCE_2                 64825 non-null  float64\n",
      " 24  EXT_SOURCE_3                 64825 non-null  float64\n",
      "dtypes: float64(9), int64(6), object(10)\n",
      "memory usage: 12.9+ MB\n"
     ]
    }
   ],
   "source": [
    "df5.info()"
   ]
  },
  {
   "cell_type": "markdown",
   "metadata": {},
   "source": [
    "## Separate Numericals & Categoricals\n",
    "* Complete further investigation of features\n",
    "    * What form of normalization will be used for numericals, if any?\n",
    "    * Will all categorical features be appropriate for one hot encoding?"
   ]
  },
  {
   "cell_type": "markdown",
   "metadata": {},
   "source": [
    "### Numericals interpretation and preprocessing\""
   ]
  },
  {
   "cell_type": "code",
   "execution_count": 387,
   "metadata": {
    "ExecuteTime": {
     "end_time": "2022-03-22T20:54:23.394498Z",
     "start_time": "2022-03-22T20:54:23.361436Z"
    }
   },
   "outputs": [
    {
     "data": {
      "text/html": [
       "<div>\n",
       "<style scoped>\n",
       "    .dataframe tbody tr th:only-of-type {\n",
       "        vertical-align: middle;\n",
       "    }\n",
       "\n",
       "    .dataframe tbody tr th {\n",
       "        vertical-align: top;\n",
       "    }\n",
       "\n",
       "    .dataframe thead th {\n",
       "        text-align: right;\n",
       "    }\n",
       "</style>\n",
       "<table border=\"1\" class=\"dataframe\">\n",
       "  <thead>\n",
       "    <tr style=\"text-align: right;\">\n",
       "      <th></th>\n",
       "      <th>TARGET</th>\n",
       "      <th>CNT_CHILDREN</th>\n",
       "      <th>AMT_INCOME_TOTAL</th>\n",
       "      <th>AMT_CREDIT</th>\n",
       "      <th>AMT_ANNUITY</th>\n",
       "      <th>DAYS_EMPLOYED</th>\n",
       "      <th>CNT_FAM_MEMBERS</th>\n",
       "      <th>DAYS_BIRTH</th>\n",
       "      <th>AMT_GOODS_PRICE</th>\n",
       "      <th>REGION_RATING_CLIENT</th>\n",
       "      <th>DAYS_REGISTRATION</th>\n",
       "      <th>REGION_POPULATION_RELATIVE</th>\n",
       "      <th>LIVE_REGION_NOT_WORK_REGION</th>\n",
       "      <th>EXT_SOURCE_2</th>\n",
       "      <th>EXT_SOURCE_3</th>\n",
       "    </tr>\n",
       "  </thead>\n",
       "  <tbody>\n",
       "    <tr>\n",
       "      <th>39451</th>\n",
       "      <td>0</td>\n",
       "      <td>0</td>\n",
       "      <td>270000.0</td>\n",
       "      <td>573408.0</td>\n",
       "      <td>29407.5</td>\n",
       "      <td>365243</td>\n",
       "      <td>2.0</td>\n",
       "      <td>-21939</td>\n",
       "      <td>495000.0</td>\n",
       "      <td>1</td>\n",
       "      <td>-2724.0</td>\n",
       "      <td>0.046220</td>\n",
       "      <td>0</td>\n",
       "      <td>0.718080</td>\n",
       "      <td>0.667458</td>\n",
       "    </tr>\n",
       "    <tr>\n",
       "      <th>80296</th>\n",
       "      <td>0</td>\n",
       "      <td>1</td>\n",
       "      <td>90000.0</td>\n",
       "      <td>225000.0</td>\n",
       "      <td>10039.5</td>\n",
       "      <td>-213</td>\n",
       "      <td>3.0</td>\n",
       "      <td>-10613</td>\n",
       "      <td>225000.0</td>\n",
       "      <td>2</td>\n",
       "      <td>-9165.0</td>\n",
       "      <td>0.015221</td>\n",
       "      <td>0</td>\n",
       "      <td>0.768138</td>\n",
       "      <td>0.619528</td>\n",
       "    </tr>\n",
       "    <tr>\n",
       "      <th>34978</th>\n",
       "      <td>0</td>\n",
       "      <td>1</td>\n",
       "      <td>180000.0</td>\n",
       "      <td>715095.0</td>\n",
       "      <td>48109.5</td>\n",
       "      <td>-6642</td>\n",
       "      <td>3.0</td>\n",
       "      <td>-17505</td>\n",
       "      <td>675000.0</td>\n",
       "      <td>2</td>\n",
       "      <td>-6511.0</td>\n",
       "      <td>0.014464</td>\n",
       "      <td>0</td>\n",
       "      <td>0.363765</td>\n",
       "      <td>0.673830</td>\n",
       "    </tr>\n",
       "    <tr>\n",
       "      <th>214576</th>\n",
       "      <td>0</td>\n",
       "      <td>0</td>\n",
       "      <td>247500.0</td>\n",
       "      <td>765000.0</td>\n",
       "      <td>22365.0</td>\n",
       "      <td>-3342</td>\n",
       "      <td>1.0</td>\n",
       "      <td>-13780</td>\n",
       "      <td>765000.0</td>\n",
       "      <td>2</td>\n",
       "      <td>-1096.0</td>\n",
       "      <td>0.006671</td>\n",
       "      <td>0</td>\n",
       "      <td>0.803819</td>\n",
       "      <td>0.445396</td>\n",
       "    </tr>\n",
       "    <tr>\n",
       "      <th>169952</th>\n",
       "      <td>0</td>\n",
       "      <td>0</td>\n",
       "      <td>202500.0</td>\n",
       "      <td>528633.0</td>\n",
       "      <td>38817.0</td>\n",
       "      <td>-2551</td>\n",
       "      <td>2.0</td>\n",
       "      <td>-16880</td>\n",
       "      <td>472500.0</td>\n",
       "      <td>3</td>\n",
       "      <td>-2778.0</td>\n",
       "      <td>0.020713</td>\n",
       "      <td>0</td>\n",
       "      <td>0.394305</td>\n",
       "      <td>0.318596</td>\n",
       "    </tr>\n",
       "  </tbody>\n",
       "</table>\n",
       "</div>"
      ],
      "text/plain": [
       "        TARGET  CNT_CHILDREN  AMT_INCOME_TOTAL  AMT_CREDIT  AMT_ANNUITY  \\\n",
       "39451        0             0          270000.0    573408.0      29407.5   \n",
       "80296        0             1           90000.0    225000.0      10039.5   \n",
       "34978        0             1          180000.0    715095.0      48109.5   \n",
       "214576       0             0          247500.0    765000.0      22365.0   \n",
       "169952       0             0          202500.0    528633.0      38817.0   \n",
       "\n",
       "        DAYS_EMPLOYED  CNT_FAM_MEMBERS  DAYS_BIRTH  AMT_GOODS_PRICE  \\\n",
       "39451          365243              2.0      -21939         495000.0   \n",
       "80296            -213              3.0      -10613         225000.0   \n",
       "34978           -6642              3.0      -17505         675000.0   \n",
       "214576          -3342              1.0      -13780         765000.0   \n",
       "169952          -2551              2.0      -16880         472500.0   \n",
       "\n",
       "        REGION_RATING_CLIENT  DAYS_REGISTRATION  REGION_POPULATION_RELATIVE  \\\n",
       "39451                      1            -2724.0                    0.046220   \n",
       "80296                      2            -9165.0                    0.015221   \n",
       "34978                      2            -6511.0                    0.014464   \n",
       "214576                     2            -1096.0                    0.006671   \n",
       "169952                     3            -2778.0                    0.020713   \n",
       "\n",
       "        LIVE_REGION_NOT_WORK_REGION  EXT_SOURCE_2  EXT_SOURCE_3  \n",
       "39451                             0      0.718080      0.667458  \n",
       "80296                             0      0.768138      0.619528  \n",
       "34978                             0      0.363765      0.673830  \n",
       "214576                            0      0.803819      0.445396  \n",
       "169952                            0      0.394305      0.318596  "
      ]
     },
     "execution_count": 387,
     "metadata": {},
     "output_type": "execute_result"
    }
   ],
   "source": [
    "# new df with numericals only\n",
    "nums5 = df5.drop(columns=['NAME_EDUCATION_TYPE', \n",
    "                               'NAME_INCOME_TYPE', \n",
    "                               'CODE_GENDER', \n",
    "                               'FLAG_OWN_REALTY', \n",
    "                               'ORGANIZATION_TYPE',\n",
    "                               'NAME_HOUSING_TYPE',\n",
    "                               'NAME_FAMILY_STATUS',\n",
    "                               'NAME_TYPE_SUITE',\n",
    "                               'FLAG_OWN_CAR',\n",
    "                               'NAME_CONTRACT_TYPE'])\n",
    "nums5.head()"
   ]
  },
  {
   "cell_type": "code",
   "execution_count": 388,
   "metadata": {
    "ExecuteTime": {
     "end_time": "2022-03-22T20:54:35.962765Z",
     "start_time": "2022-03-22T20:54:35.768036Z"
    }
   },
   "outputs": [
    {
     "data": {
      "text/html": [
       "<div>\n",
       "<style scoped>\n",
       "    .dataframe tbody tr th:only-of-type {\n",
       "        vertical-align: middle;\n",
       "    }\n",
       "\n",
       "    .dataframe tbody tr th {\n",
       "        vertical-align: top;\n",
       "    }\n",
       "\n",
       "    .dataframe thead th {\n",
       "        text-align: right;\n",
       "    }\n",
       "</style>\n",
       "<table border=\"1\" class=\"dataframe\">\n",
       "  <thead>\n",
       "    <tr style=\"text-align: right;\">\n",
       "      <th></th>\n",
       "      <th>TARGET</th>\n",
       "      <th>CNT_CHILDREN</th>\n",
       "      <th>AMT_INCOME_TOTAL</th>\n",
       "      <th>AMT_CREDIT</th>\n",
       "      <th>AMT_ANNUITY</th>\n",
       "      <th>DAYS_EMPLOYED</th>\n",
       "      <th>CNT_FAM_MEMBERS</th>\n",
       "      <th>DAYS_BIRTH</th>\n",
       "      <th>AMT_GOODS_PRICE</th>\n",
       "      <th>REGION_RATING_CLIENT</th>\n",
       "      <th>DAYS_REGISTRATION</th>\n",
       "      <th>REGION_POPULATION_RELATIVE</th>\n",
       "      <th>LIVE_REGION_NOT_WORK_REGION</th>\n",
       "      <th>EXT_SOURCE_2</th>\n",
       "      <th>EXT_SOURCE_3</th>\n",
       "    </tr>\n",
       "  </thead>\n",
       "  <tbody>\n",
       "    <tr>\n",
       "      <th>count</th>\n",
       "      <td>64825.000000</td>\n",
       "      <td>64825.000000</td>\n",
       "      <td>6.482500e+04</td>\n",
       "      <td>6.482500e+04</td>\n",
       "      <td>64825.000000</td>\n",
       "      <td>64825.000000</td>\n",
       "      <td>64825.000000</td>\n",
       "      <td>64825.000000</td>\n",
       "      <td>6.482500e+04</td>\n",
       "      <td>64825.000000</td>\n",
       "      <td>64825.000000</td>\n",
       "      <td>64825.000000</td>\n",
       "      <td>64825.000000</td>\n",
       "      <td>64825.000000</td>\n",
       "      <td>64825.000000</td>\n",
       "    </tr>\n",
       "    <tr>\n",
       "      <th>mean</th>\n",
       "      <td>0.382954</td>\n",
       "      <td>0.435465</td>\n",
       "      <td>1.679509e+05</td>\n",
       "      <td>5.853929e+05</td>\n",
       "      <td>26936.759534</td>\n",
       "      <td>57047.771616</td>\n",
       "      <td>2.165263</td>\n",
       "      <td>-15659.305175</td>\n",
       "      <td>5.222983e+05</td>\n",
       "      <td>2.086494</td>\n",
       "      <td>-4819.374131</td>\n",
       "      <td>0.020305</td>\n",
       "      <td>0.041157</td>\n",
       "      <td>0.480366</td>\n",
       "      <td>0.472488</td>\n",
       "    </tr>\n",
       "    <tr>\n",
       "      <th>std</th>\n",
       "      <td>0.486111</td>\n",
       "      <td>0.733516</td>\n",
       "      <td>4.736709e+05</td>\n",
       "      <td>3.850936e+05</td>\n",
       "      <td>13885.702447</td>\n",
       "      <td>135132.797548</td>\n",
       "      <td>0.923811</td>\n",
       "      <td>4351.025066</td>\n",
       "      <td>3.520200e+05</td>\n",
       "      <td>0.510715</td>\n",
       "      <td>3466.830747</td>\n",
       "      <td>0.013226</td>\n",
       "      <td>0.198655</td>\n",
       "      <td>0.204073</td>\n",
       "      <td>0.183438</td>\n",
       "    </tr>\n",
       "    <tr>\n",
       "      <th>min</th>\n",
       "      <td>0.000000</td>\n",
       "      <td>0.000000</td>\n",
       "      <td>2.565000e+04</td>\n",
       "      <td>4.500000e+04</td>\n",
       "      <td>1615.500000</td>\n",
       "      <td>-16836.000000</td>\n",
       "      <td>1.000000</td>\n",
       "      <td>-25192.000000</td>\n",
       "      <td>4.500000e+04</td>\n",
       "      <td>1.000000</td>\n",
       "      <td>-22928.000000</td>\n",
       "      <td>0.000290</td>\n",
       "      <td>0.000000</td>\n",
       "      <td>0.000005</td>\n",
       "      <td>0.000527</td>\n",
       "    </tr>\n",
       "    <tr>\n",
       "      <th>25%</th>\n",
       "      <td>0.000000</td>\n",
       "      <td>0.000000</td>\n",
       "      <td>1.125000e+05</td>\n",
       "      <td>2.750400e+05</td>\n",
       "      <td>16852.500000</td>\n",
       "      <td>-2565.000000</td>\n",
       "      <td>2.000000</td>\n",
       "      <td>-19221.000000</td>\n",
       "      <td>2.385000e+05</td>\n",
       "      <td>2.000000</td>\n",
       "      <td>-7198.000000</td>\n",
       "      <td>0.010006</td>\n",
       "      <td>0.000000</td>\n",
       "      <td>0.331474</td>\n",
       "      <td>0.363945</td>\n",
       "    </tr>\n",
       "    <tr>\n",
       "      <th>50%</th>\n",
       "      <td>0.000000</td>\n",
       "      <td>0.000000</td>\n",
       "      <td>1.440000e+05</td>\n",
       "      <td>5.084955e+05</td>\n",
       "      <td>24988.500000</td>\n",
       "      <td>-1143.000000</td>\n",
       "      <td>2.000000</td>\n",
       "      <td>-15233.000000</td>\n",
       "      <td>4.500000e+05</td>\n",
       "      <td>2.000000</td>\n",
       "      <td>-4347.000000</td>\n",
       "      <td>0.018801</td>\n",
       "      <td>0.000000</td>\n",
       "      <td>0.531896</td>\n",
       "      <td>0.472488</td>\n",
       "    </tr>\n",
       "    <tr>\n",
       "      <th>75%</th>\n",
       "      <td>1.000000</td>\n",
       "      <td>1.000000</td>\n",
       "      <td>2.025000e+05</td>\n",
       "      <td>7.871310e+05</td>\n",
       "      <td>34254.000000</td>\n",
       "      <td>-321.000000</td>\n",
       "      <td>3.000000</td>\n",
       "      <td>-12007.000000</td>\n",
       "      <td>6.750000e+05</td>\n",
       "      <td>2.000000</td>\n",
       "      <td>-1882.000000</td>\n",
       "      <td>0.026392</td>\n",
       "      <td>0.000000</td>\n",
       "      <td>0.645654</td>\n",
       "      <td>0.604113</td>\n",
       "    </tr>\n",
       "    <tr>\n",
       "      <th>max</th>\n",
       "      <td>1.000000</td>\n",
       "      <td>11.000000</td>\n",
       "      <td>1.170000e+08</td>\n",
       "      <td>4.050000e+06</td>\n",
       "      <td>225000.000000</td>\n",
       "      <td>365243.000000</td>\n",
       "      <td>13.000000</td>\n",
       "      <td>-7676.000000</td>\n",
       "      <td>4.050000e+06</td>\n",
       "      <td>3.000000</td>\n",
       "      <td>0.000000</td>\n",
       "      <td>0.072508</td>\n",
       "      <td>1.000000</td>\n",
       "      <td>0.855000</td>\n",
       "      <td>0.896010</td>\n",
       "    </tr>\n",
       "  </tbody>\n",
       "</table>\n",
       "</div>"
      ],
      "text/plain": [
       "             TARGET  CNT_CHILDREN  AMT_INCOME_TOTAL    AMT_CREDIT  \\\n",
       "count  64825.000000  64825.000000      6.482500e+04  6.482500e+04   \n",
       "mean       0.382954      0.435465      1.679509e+05  5.853929e+05   \n",
       "std        0.486111      0.733516      4.736709e+05  3.850936e+05   \n",
       "min        0.000000      0.000000      2.565000e+04  4.500000e+04   \n",
       "25%        0.000000      0.000000      1.125000e+05  2.750400e+05   \n",
       "50%        0.000000      0.000000      1.440000e+05  5.084955e+05   \n",
       "75%        1.000000      1.000000      2.025000e+05  7.871310e+05   \n",
       "max        1.000000     11.000000      1.170000e+08  4.050000e+06   \n",
       "\n",
       "         AMT_ANNUITY  DAYS_EMPLOYED  CNT_FAM_MEMBERS    DAYS_BIRTH  \\\n",
       "count   64825.000000   64825.000000     64825.000000  64825.000000   \n",
       "mean    26936.759534   57047.771616         2.165263 -15659.305175   \n",
       "std     13885.702447  135132.797548         0.923811   4351.025066   \n",
       "min      1615.500000  -16836.000000         1.000000 -25192.000000   \n",
       "25%     16852.500000   -2565.000000         2.000000 -19221.000000   \n",
       "50%     24988.500000   -1143.000000         2.000000 -15233.000000   \n",
       "75%     34254.000000    -321.000000         3.000000 -12007.000000   \n",
       "max    225000.000000  365243.000000        13.000000  -7676.000000   \n",
       "\n",
       "       AMT_GOODS_PRICE  REGION_RATING_CLIENT  DAYS_REGISTRATION  \\\n",
       "count     6.482500e+04          64825.000000       64825.000000   \n",
       "mean      5.222983e+05              2.086494       -4819.374131   \n",
       "std       3.520200e+05              0.510715        3466.830747   \n",
       "min       4.500000e+04              1.000000      -22928.000000   \n",
       "25%       2.385000e+05              2.000000       -7198.000000   \n",
       "50%       4.500000e+05              2.000000       -4347.000000   \n",
       "75%       6.750000e+05              2.000000       -1882.000000   \n",
       "max       4.050000e+06              3.000000           0.000000   \n",
       "\n",
       "       REGION_POPULATION_RELATIVE  LIVE_REGION_NOT_WORK_REGION  EXT_SOURCE_2  \\\n",
       "count                64825.000000                 64825.000000  64825.000000   \n",
       "mean                     0.020305                     0.041157      0.480366   \n",
       "std                      0.013226                     0.198655      0.204073   \n",
       "min                      0.000290                     0.000000      0.000005   \n",
       "25%                      0.010006                     0.000000      0.331474   \n",
       "50%                      0.018801                     0.000000      0.531896   \n",
       "75%                      0.026392                     0.000000      0.645654   \n",
       "max                      0.072508                     1.000000      0.855000   \n",
       "\n",
       "       EXT_SOURCE_3  \n",
       "count  64825.000000  \n",
       "mean       0.472488  \n",
       "std        0.183438  \n",
       "min        0.000527  \n",
       "25%        0.363945  \n",
       "50%        0.472488  \n",
       "75%        0.604113  \n",
       "max        0.896010  "
      ]
     },
     "metadata": {},
     "output_type": "display_data"
    }
   ],
   "source": [
    "# Interpret values of columns\n",
    "display(nums5.describe())"
   ]
  },
  {
   "cell_type": "code",
   "execution_count": 418,
   "metadata": {
    "ExecuteTime": {
     "end_time": "2022-03-22T21:19:07.017544Z",
     "start_time": "2022-03-22T21:19:06.411479Z"
    }
   },
   "outputs": [
    {
     "data": {
      "image/png": "[encoded data removed]",
      "text/plain": [
       "<Figure size 1440x720 with 1 Axes>"
      ]
     },
     "metadata": {
      "needs_background": "light"
     },
     "output_type": "display_data"
    }
   ],
   "source": [
    "# Create a box plot of each numerical column\n",
    "plt.figure(figsize=(20, 10))\n",
    "plt.boxplot([nums5[col] for col in nums5.columns])\n",
    "plt.title(\"Box plot of all columns in dataset\")\n",
    "plt.xticks(range(len(nums5.columns.values)), nums5.columns.values)\n",
    "plt.show()"
   ]
  },
  {
   "cell_type": "markdown",
   "metadata": {},
   "source": [
    "#### Summary of numericals\n",
    "* AMT_INCOME_TOTAL has one or many outliers that need to be trimmed.\n",
    "* Widely varying magnitudes - normalization will be important"
   ]
  },
  {
   "cell_type": "markdown",
   "metadata": {},
   "source": [
    "### Categoricals"
   ]
  },
  {
   "cell_type": "code",
   "execution_count": 391,
   "metadata": {
    "ExecuteTime": {
     "end_time": "2022-03-22T20:55:56.586095Z",
     "start_time": "2022-03-22T20:55:56.551107Z"
    }
   },
   "outputs": [
    {
     "data": {
      "text/html": [
       "<div>\n",
       "<style scoped>\n",
       "    .dataframe tbody tr th:only-of-type {\n",
       "        vertical-align: middle;\n",
       "    }\n",
       "\n",
       "    .dataframe tbody tr th {\n",
       "        vertical-align: top;\n",
       "    }\n",
       "\n",
       "    .dataframe thead th {\n",
       "        text-align: right;\n",
       "    }\n",
       "</style>\n",
       "<table border=\"1\" class=\"dataframe\">\n",
       "  <thead>\n",
       "    <tr style=\"text-align: right;\">\n",
       "      <th></th>\n",
       "      <th>NAME_EDUCATION_TYPE</th>\n",
       "      <th>NAME_INCOME_TYPE</th>\n",
       "      <th>CODE_GENDER</th>\n",
       "      <th>FLAG_OWN_REALTY</th>\n",
       "      <th>ORGANIZATION_TYPE</th>\n",
       "      <th>NAME_HOUSING_TYPE</th>\n",
       "      <th>NAME_FAMILY_STATUS</th>\n",
       "      <th>NAME_TYPE_SUITE</th>\n",
       "      <th>FLAG_OWN_CAR</th>\n",
       "      <th>NAME_CONTRACT_TYPE</th>\n",
       "    </tr>\n",
       "  </thead>\n",
       "  <tbody>\n",
       "    <tr>\n",
       "      <th>39451</th>\n",
       "      <td>Secondary / secondary special</td>\n",
       "      <td>Pensioner</td>\n",
       "      <td>F</td>\n",
       "      <td>Y</td>\n",
       "      <td>XNA</td>\n",
       "      <td>House / apartment</td>\n",
       "      <td>Married</td>\n",
       "      <td>Spouse, partner</td>\n",
       "      <td>N</td>\n",
       "      <td>Cash loans</td>\n",
       "    </tr>\n",
       "    <tr>\n",
       "      <th>80296</th>\n",
       "      <td>Higher education</td>\n",
       "      <td>Commercial associate</td>\n",
       "      <td>M</td>\n",
       "      <td>Y</td>\n",
       "      <td>Business Entity Type 3</td>\n",
       "      <td>House / apartment</td>\n",
       "      <td>Married</td>\n",
       "      <td>Unaccompanied</td>\n",
       "      <td>N</td>\n",
       "      <td>Cash loans</td>\n",
       "    </tr>\n",
       "    <tr>\n",
       "      <th>34978</th>\n",
       "      <td>Secondary / secondary special</td>\n",
       "      <td>State servant</td>\n",
       "      <td>F</td>\n",
       "      <td>Y</td>\n",
       "      <td>School</td>\n",
       "      <td>House / apartment</td>\n",
       "      <td>Married</td>\n",
       "      <td>Family</td>\n",
       "      <td>Y</td>\n",
       "      <td>Cash loans</td>\n",
       "    </tr>\n",
       "    <tr>\n",
       "      <th>214576</th>\n",
       "      <td>Secondary / secondary special</td>\n",
       "      <td>Working</td>\n",
       "      <td>M</td>\n",
       "      <td>N</td>\n",
       "      <td>Military</td>\n",
       "      <td>Office apartment</td>\n",
       "      <td>Single / not married</td>\n",
       "      <td>Unaccompanied</td>\n",
       "      <td>N</td>\n",
       "      <td>Cash loans</td>\n",
       "    </tr>\n",
       "    <tr>\n",
       "      <th>169952</th>\n",
       "      <td>Secondary / secondary special</td>\n",
       "      <td>Working</td>\n",
       "      <td>M</td>\n",
       "      <td>N</td>\n",
       "      <td>Transport: type 4</td>\n",
       "      <td>Rented apartment</td>\n",
       "      <td>Married</td>\n",
       "      <td>Other_B</td>\n",
       "      <td>Y</td>\n",
       "      <td>Cash loans</td>\n",
       "    </tr>\n",
       "  </tbody>\n",
       "</table>\n",
       "</div>"
      ],
      "text/plain": [
       "                  NAME_EDUCATION_TYPE      NAME_INCOME_TYPE CODE_GENDER  \\\n",
       "39451   Secondary / secondary special             Pensioner           F   \n",
       "80296                Higher education  Commercial associate           M   \n",
       "34978   Secondary / secondary special         State servant           F   \n",
       "214576  Secondary / secondary special               Working           M   \n",
       "169952  Secondary / secondary special               Working           M   \n",
       "\n",
       "       FLAG_OWN_REALTY       ORGANIZATION_TYPE  NAME_HOUSING_TYPE  \\\n",
       "39451                Y                     XNA  House / apartment   \n",
       "80296                Y  Business Entity Type 3  House / apartment   \n",
       "34978                Y                  School  House / apartment   \n",
       "214576               N                Military   Office apartment   \n",
       "169952               N       Transport: type 4   Rented apartment   \n",
       "\n",
       "          NAME_FAMILY_STATUS  NAME_TYPE_SUITE FLAG_OWN_CAR NAME_CONTRACT_TYPE  \n",
       "39451                Married  Spouse, partner            N         Cash loans  \n",
       "80296                Married    Unaccompanied            N         Cash loans  \n",
       "34978                Married           Family            Y         Cash loans  \n",
       "214576  Single / not married    Unaccompanied            N         Cash loans  \n",
       "169952               Married          Other_B            Y         Cash loans  "
      ]
     },
     "execution_count": 391,
     "metadata": {},
     "output_type": "execute_result"
    }
   ],
   "source": [
    "# new df with categoricals only\n",
    "cats5 = df5[['NAME_EDUCATION_TYPE', \n",
    "             'NAME_INCOME_TYPE', \n",
    "             'CODE_GENDER', \n",
    "             'FLAG_OWN_REALTY', \n",
    "             'ORGANIZATION_TYPE',\n",
    "             'NAME_HOUSING_TYPE',\n",
    "             'NAME_FAMILY_STATUS',\n",
    "             'NAME_TYPE_SUITE',\n",
    "             'FLAG_OWN_CAR',\n",
    "             'NAME_CONTRACT_TYPE']]\n",
    "cats5.head()"
   ]
  },
  {
   "cell_type": "markdown",
   "metadata": {},
   "source": [
    "## Label Encode or One-Hot Encode Categoricals\n",
    "   * Explore to figure out number of unique values\n",
    "       * If unique values >5, then label encode"
   ]
  },
  {
   "cell_type": "code",
   "execution_count": 393,
   "metadata": {
    "ExecuteTime": {
     "end_time": "2022-03-22T20:56:24.945031Z",
     "start_time": "2022-03-22T20:56:24.924750Z"
    }
   },
   "outputs": [
    {
     "data": {
      "text/plain": [
       "Working                 35570\n",
       "Commercial associate    14616\n",
       "Pensioner               10443\n",
       "State servant            4179\n",
       "Unemployed                 10\n",
       "Student                     4\n",
       "Maternity leave             2\n",
       "Businessman                 1\n",
       "Name: NAME_INCOME_TYPE, dtype: int64"
      ]
     },
     "execution_count": 393,
     "metadata": {},
     "output_type": "execute_result"
    }
   ],
   "source": [
    "cats5['NAME_INCOME_TYPE'].value_counts()"
   ]
  },
  {
   "cell_type": "code",
   "execution_count": 407,
   "metadata": {
    "ExecuteTime": {
     "end_time": "2022-03-22T21:13:26.576612Z",
     "start_time": "2022-03-22T21:13:26.557933Z"
    }
   },
   "outputs": [
    {
     "data": {
      "text/plain": [
       "Unaccompanied      52876\n",
       "Family              8204\n",
       "Spouse, partner     2391\n",
       "Children             669\n",
       "Other_B              431\n",
       "Other_A              194\n",
       "Group of people       60\n",
       "Name: NAME_TYPE_SUITE, dtype: int64"
      ]
     },
     "execution_count": 407,
     "metadata": {},
     "output_type": "execute_result"
    }
   ],
   "source": [
    "cats5['NAME_TYPE_SUITE'].value_counts()"
   ]
  },
  {
   "cell_type": "code",
   "execution_count": 408,
   "metadata": {
    "ExecuteTime": {
     "end_time": "2022-03-22T21:13:41.716243Z",
     "start_time": "2022-03-22T21:13:41.698805Z"
    }
   },
   "outputs": [
    {
     "data": {
      "text/plain": [
       "N    43493\n",
       "Y    21332\n",
       "Name: FLAG_OWN_CAR, dtype: int64"
      ]
     },
     "execution_count": 408,
     "metadata": {},
     "output_type": "execute_result"
    }
   ],
   "source": [
    "cats5['FLAG_OWN_CAR'].value_counts()"
   ]
  },
  {
   "cell_type": "code",
   "execution_count": 406,
   "metadata": {
    "ExecuteTime": {
     "end_time": "2022-03-22T21:13:10.515835Z",
     "start_time": "2022-03-22T21:13:10.485650Z"
    }
   },
   "outputs": [
    {
     "data": {
      "text/plain": [
       "Married                 40564\n",
       "Single / not married    10253\n",
       "Civil marriage           6744\n",
       "Separated                4185\n",
       "Widow                    3078\n",
       "Unknown                     1\n",
       "Name: NAME_FAMILY_STATUS, dtype: int64"
      ]
     },
     "execution_count": 406,
     "metadata": {},
     "output_type": "execute_result"
    }
   ],
   "source": [
    "cats5['NAME_FAMILY_STATUS'].value_counts()"
   ]
  },
  {
   "cell_type": "code",
   "execution_count": 404,
   "metadata": {
    "ExecuteTime": {
     "end_time": "2022-03-22T21:12:14.528479Z",
     "start_time": "2022-03-22T21:12:14.508275Z"
    }
   },
   "outputs": [
    {
     "data": {
      "text/plain": [
       "Y    44739\n",
       "N    20086\n",
       "Name: FLAG_OWN_REALTY, dtype: int64"
      ]
     },
     "execution_count": 404,
     "metadata": {},
     "output_type": "execute_result"
    }
   ],
   "source": [
    "cats5['FLAG_OWN_REALTY'].value_counts()"
   ]
  },
  {
   "cell_type": "code",
   "execution_count": 405,
   "metadata": {
    "ExecuteTime": {
     "end_time": "2022-03-22T21:12:39.807784Z",
     "start_time": "2022-03-22T21:12:39.783520Z"
    }
   },
   "outputs": [
    {
     "data": {
      "text/plain": [
       "House / apartment      56875\n",
       "With parents            3599\n",
       "Municipal apartment     2370\n",
       "Rented apartment        1239\n",
       "Office apartment         529\n",
       "Co-op apartment          213\n",
       "Name: NAME_HOUSING_TYPE, dtype: int64"
      ]
     },
     "execution_count": 405,
     "metadata": {},
     "output_type": "execute_result"
    }
   ],
   "source": [
    "cats5['NAME_HOUSING_TYPE'].value_counts()"
   ]
  },
  {
   "cell_type": "code",
   "execution_count": 402,
   "metadata": {
    "ExecuteTime": {
     "end_time": "2022-03-22T21:09:36.561909Z",
     "start_time": "2022-03-22T21:09:36.541178Z"
    }
   },
   "outputs": [
    {
     "data": {
      "text/plain": [
       "Secondary / secondary special    47616\n",
       "Higher education                 14062\n",
       "Incomplete higher                 2205\n",
       "Lower secondary                    914\n",
       "Academic degree                     28\n",
       "Name: NAME_EDUCATION_TYPE, dtype: int64"
      ]
     },
     "execution_count": 402,
     "metadata": {},
     "output_type": "execute_result"
    }
   ],
   "source": [
    "cats5['NAME_EDUCATION_TYPE'].value_counts()"
   ]
  },
  {
   "cell_type": "code",
   "execution_count": 409,
   "metadata": {
    "ExecuteTime": {
     "end_time": "2022-03-22T21:14:04.953287Z",
     "start_time": "2022-03-22T21:14:04.933831Z"
    },
    "scrolled": true
   },
   "outputs": [
    {
     "data": {
      "text/plain": [
       "Cash loans         59367\n",
       "Revolving loans     5458\n",
       "Name: NAME_CONTRACT_TYPE, dtype: int64"
      ]
     },
     "execution_count": 409,
     "metadata": {},
     "output_type": "execute_result"
    }
   ],
   "source": [
    "cats5['NAME_CONTRACT_TYPE'].value_counts()"
   ]
  },
  {
   "cell_type": "code",
   "execution_count": 394,
   "metadata": {
    "ExecuteTime": {
     "end_time": "2022-03-22T20:56:29.893402Z",
     "start_time": "2022-03-22T20:56:29.866986Z"
    }
   },
   "outputs": [
    {
     "data": {
      "text/plain": [
       "Business Entity Type 3    15088\n",
       "XNA                       10451\n",
       "Self-employed              8816\n",
       "Other                      3398\n",
       "Business Entity Type 2     2284\n",
       "Medicine                   2190\n",
       "Government                 2085\n",
       "School                     1750\n",
       "Trade: type 7              1726\n",
       "Construction               1601\n",
       "Kindergarten               1396\n",
       "Business Entity Type 1     1257\n",
       "Transport: type 4          1210\n",
       "Trade: type 3               818\n",
       "Industry: type 3            758\n",
       "Security                    744\n",
       "Industry: type 9            672\n",
       "Industry: type 11           631\n",
       "Housing                     599\n",
       "Agriculture                 572\n",
       "Military                    474\n",
       "Bank                        456\n",
       "Transport: type 2           448\n",
       "Postal                      442\n",
       "Restaurant                  439\n",
       "Police                      428\n",
       "Trade: type 2               376\n",
       "Security Ministries         365\n",
       "Transport: type 3           336\n",
       "Services                    306\n",
       "Industry: type 7            264\n",
       "Industry: type 1            239\n",
       "University                  238\n",
       "Industry: type 4            200\n",
       "Hotel                       199\n",
       "Electricity                 181\n",
       "Industry: type 5            121\n",
       "Telecom                     121\n",
       "Insurance                   120\n",
       "Emergency                   109\n",
       "Advertising                 103\n",
       "Realtor                      99\n",
       "Trade: type 6                97\n",
       "Industry: type 2             92\n",
       "Trade: type 1                72\n",
       "Culture                      70\n",
       "Mobile                       70\n",
       "Legal Services               66\n",
       "Industry: type 12            59\n",
       "Cleaning                     57\n",
       "Transport: type 1            38\n",
       "Industry: type 6             19\n",
       "Religion                     17\n",
       "Industry: type 10            16\n",
       "Industry: type 13            14\n",
       "Trade: type 4                13\n",
       "Trade: type 5                10\n",
       "Industry: type 8              5\n",
       "Name: ORGANIZATION_TYPE, dtype: int64"
      ]
     },
     "execution_count": 394,
     "metadata": {},
     "output_type": "execute_result"
    }
   ],
   "source": [
    "cats5['ORGANIZATION_TYPE'].value_counts()"
   ]
  },
  {
   "cell_type": "markdown",
   "metadata": {},
   "source": [
    "#### Use label encoding to save space with Organization_Type\n",
    "* Interpreting Organization Type won't be as important as building a predictive model."
   ]
  },
  {
   "cell_type": "code",
   "execution_count": 399,
   "metadata": {
    "ExecuteTime": {
     "end_time": "2022-03-22T21:07:39.198780Z",
     "start_time": "2022-03-22T21:07:39.111553Z"
    }
   },
   "outputs": [
    {
     "data": {
      "text/html": [
       "<div>\n",
       "<style scoped>\n",
       "    .dataframe tbody tr th:only-of-type {\n",
       "        vertical-align: middle;\n",
       "    }\n",
       "\n",
       "    .dataframe tbody tr th {\n",
       "        vertical-align: top;\n",
       "    }\n",
       "\n",
       "    .dataframe thead th {\n",
       "        text-align: right;\n",
       "    }\n",
       "</style>\n",
       "<table border=\"1\" class=\"dataframe\">\n",
       "  <thead>\n",
       "    <tr style=\"text-align: right;\">\n",
       "      <th></th>\n",
       "      <th>NAME_EDUCATION_TYPE</th>\n",
       "      <th>NAME_INCOME_TYPE</th>\n",
       "      <th>CODE_GENDER</th>\n",
       "      <th>FLAG_OWN_REALTY</th>\n",
       "      <th>ORGANIZATION_TYPE</th>\n",
       "      <th>NAME_HOUSING_TYPE</th>\n",
       "      <th>NAME_FAMILY_STATUS</th>\n",
       "      <th>NAME_TYPE_SUITE</th>\n",
       "      <th>FLAG_OWN_CAR</th>\n",
       "      <th>NAME_CONTRACT_TYPE</th>\n",
       "      <th>ORGANIZATION_TYPE_CODE</th>\n",
       "    </tr>\n",
       "  </thead>\n",
       "  <tbody>\n",
       "    <tr>\n",
       "      <th>39451</th>\n",
       "      <td>Secondary / secondary special</td>\n",
       "      <td>Pensioner</td>\n",
       "      <td>F</td>\n",
       "      <td>Y</td>\n",
       "      <td>XNA</td>\n",
       "      <td>House / apartment</td>\n",
       "      <td>Married</td>\n",
       "      <td>Spouse, partner</td>\n",
       "      <td>N</td>\n",
       "      <td>Cash loans</td>\n",
       "      <td>57</td>\n",
       "    </tr>\n",
       "    <tr>\n",
       "      <th>80296</th>\n",
       "      <td>Higher education</td>\n",
       "      <td>Commercial associate</td>\n",
       "      <td>M</td>\n",
       "      <td>Y</td>\n",
       "      <td>Business Entity Type 3</td>\n",
       "      <td>House / apartment</td>\n",
       "      <td>Married</td>\n",
       "      <td>Unaccompanied</td>\n",
       "      <td>N</td>\n",
       "      <td>Cash loans</td>\n",
       "      <td>5</td>\n",
       "    </tr>\n",
       "    <tr>\n",
       "      <th>34978</th>\n",
       "      <td>Secondary / secondary special</td>\n",
       "      <td>State servant</td>\n",
       "      <td>F</td>\n",
       "      <td>Y</td>\n",
       "      <td>School</td>\n",
       "      <td>House / apartment</td>\n",
       "      <td>Married</td>\n",
       "      <td>Family</td>\n",
       "      <td>Y</td>\n",
       "      <td>Cash loans</td>\n",
       "      <td>39</td>\n",
       "    </tr>\n",
       "    <tr>\n",
       "      <th>214576</th>\n",
       "      <td>Secondary / secondary special</td>\n",
       "      <td>Working</td>\n",
       "      <td>M</td>\n",
       "      <td>N</td>\n",
       "      <td>Military</td>\n",
       "      <td>Office apartment</td>\n",
       "      <td>Single / not married</td>\n",
       "      <td>Unaccompanied</td>\n",
       "      <td>N</td>\n",
       "      <td>Cash loans</td>\n",
       "      <td>31</td>\n",
       "    </tr>\n",
       "    <tr>\n",
       "      <th>169952</th>\n",
       "      <td>Secondary / secondary special</td>\n",
       "      <td>Working</td>\n",
       "      <td>M</td>\n",
       "      <td>N</td>\n",
       "      <td>Transport: type 4</td>\n",
       "      <td>Rented apartment</td>\n",
       "      <td>Married</td>\n",
       "      <td>Other_B</td>\n",
       "      <td>Y</td>\n",
       "      <td>Cash loans</td>\n",
       "      <td>55</td>\n",
       "    </tr>\n",
       "  </tbody>\n",
       "</table>\n",
       "</div>"
      ],
      "text/plain": [
       "                  NAME_EDUCATION_TYPE      NAME_INCOME_TYPE CODE_GENDER  \\\n",
       "39451   Secondary / secondary special             Pensioner           F   \n",
       "80296                Higher education  Commercial associate           M   \n",
       "34978   Secondary / secondary special         State servant           F   \n",
       "214576  Secondary / secondary special               Working           M   \n",
       "169952  Secondary / secondary special               Working           M   \n",
       "\n",
       "       FLAG_OWN_REALTY       ORGANIZATION_TYPE  NAME_HOUSING_TYPE  \\\n",
       "39451                Y                     XNA  House / apartment   \n",
       "80296                Y  Business Entity Type 3  House / apartment   \n",
       "34978                Y                  School  House / apartment   \n",
       "214576               N                Military   Office apartment   \n",
       "169952               N       Transport: type 4   Rented apartment   \n",
       "\n",
       "          NAME_FAMILY_STATUS  NAME_TYPE_SUITE FLAG_OWN_CAR NAME_CONTRACT_TYPE  \\\n",
       "39451                Married  Spouse, partner            N         Cash loans   \n",
       "80296                Married    Unaccompanied            N         Cash loans   \n",
       "34978                Married           Family            Y         Cash loans   \n",
       "214576  Single / not married    Unaccompanied            N         Cash loans   \n",
       "169952               Married          Other_B            Y         Cash loans   \n",
       "\n",
       "        ORGANIZATION_TYPE_CODE  \n",
       "39451                       57  \n",
       "80296                        5  \n",
       "34978                       39  \n",
       "214576                      31  \n",
       "169952                      55  "
      ]
     },
     "execution_count": 399,
     "metadata": {},
     "output_type": "execute_result"
    }
   ],
   "source": [
    "# Instantiate LabelEncoder\n",
    "label_encoder = LabelEncoder()\n",
    "\n",
    "# create new row for Organization_type with label encoder\n",
    "cats5['ORGANIZATION_TYPE_CODE'] = label_encoder.fit_transform(cats5['ORGANIZATION_TYPE'])\n",
    "\n",
    "cats5.head()"
   ]
  },
  {
   "cell_type": "code",
   "execution_count": 400,
   "metadata": {
    "ExecuteTime": {
     "end_time": "2022-03-22T21:08:53.170058Z",
     "start_time": "2022-03-22T21:08:53.098177Z"
    }
   },
   "outputs": [
    {
     "data": {
      "text/html": [
       "<div>\n",
       "<style scoped>\n",
       "    .dataframe tbody tr th:only-of-type {\n",
       "        vertical-align: middle;\n",
       "    }\n",
       "\n",
       "    .dataframe tbody tr th {\n",
       "        vertical-align: top;\n",
       "    }\n",
       "\n",
       "    .dataframe thead th {\n",
       "        text-align: right;\n",
       "    }\n",
       "</style>\n",
       "<table border=\"1\" class=\"dataframe\">\n",
       "  <thead>\n",
       "    <tr style=\"text-align: right;\">\n",
       "      <th></th>\n",
       "      <th>NAME_EDUCATION_TYPE</th>\n",
       "      <th>NAME_INCOME_TYPE</th>\n",
       "      <th>CODE_GENDER</th>\n",
       "      <th>FLAG_OWN_REALTY</th>\n",
       "      <th>NAME_HOUSING_TYPE</th>\n",
       "      <th>NAME_FAMILY_STATUS</th>\n",
       "      <th>NAME_TYPE_SUITE</th>\n",
       "      <th>FLAG_OWN_CAR</th>\n",
       "      <th>NAME_CONTRACT_TYPE</th>\n",
       "      <th>ORGANIZATION_TYPE_CODE</th>\n",
       "    </tr>\n",
       "  </thead>\n",
       "  <tbody>\n",
       "    <tr>\n",
       "      <th>39451</th>\n",
       "      <td>Secondary / secondary special</td>\n",
       "      <td>Pensioner</td>\n",
       "      <td>F</td>\n",
       "      <td>Y</td>\n",
       "      <td>House / apartment</td>\n",
       "      <td>Married</td>\n",
       "      <td>Spouse, partner</td>\n",
       "      <td>N</td>\n",
       "      <td>Cash loans</td>\n",
       "      <td>57</td>\n",
       "    </tr>\n",
       "    <tr>\n",
       "      <th>80296</th>\n",
       "      <td>Higher education</td>\n",
       "      <td>Commercial associate</td>\n",
       "      <td>M</td>\n",
       "      <td>Y</td>\n",
       "      <td>House / apartment</td>\n",
       "      <td>Married</td>\n",
       "      <td>Unaccompanied</td>\n",
       "      <td>N</td>\n",
       "      <td>Cash loans</td>\n",
       "      <td>5</td>\n",
       "    </tr>\n",
       "    <tr>\n",
       "      <th>34978</th>\n",
       "      <td>Secondary / secondary special</td>\n",
       "      <td>State servant</td>\n",
       "      <td>F</td>\n",
       "      <td>Y</td>\n",
       "      <td>House / apartment</td>\n",
       "      <td>Married</td>\n",
       "      <td>Family</td>\n",
       "      <td>Y</td>\n",
       "      <td>Cash loans</td>\n",
       "      <td>39</td>\n",
       "    </tr>\n",
       "    <tr>\n",
       "      <th>214576</th>\n",
       "      <td>Secondary / secondary special</td>\n",
       "      <td>Working</td>\n",
       "      <td>M</td>\n",
       "      <td>N</td>\n",
       "      <td>Office apartment</td>\n",
       "      <td>Single / not married</td>\n",
       "      <td>Unaccompanied</td>\n",
       "      <td>N</td>\n",
       "      <td>Cash loans</td>\n",
       "      <td>31</td>\n",
       "    </tr>\n",
       "    <tr>\n",
       "      <th>169952</th>\n",
       "      <td>Secondary / secondary special</td>\n",
       "      <td>Working</td>\n",
       "      <td>M</td>\n",
       "      <td>N</td>\n",
       "      <td>Rented apartment</td>\n",
       "      <td>Married</td>\n",
       "      <td>Other_B</td>\n",
       "      <td>Y</td>\n",
       "      <td>Cash loans</td>\n",
       "      <td>55</td>\n",
       "    </tr>\n",
       "  </tbody>\n",
       "</table>\n",
       "</div>"
      ],
      "text/plain": [
       "                  NAME_EDUCATION_TYPE      NAME_INCOME_TYPE CODE_GENDER  \\\n",
       "39451   Secondary / secondary special             Pensioner           F   \n",
       "80296                Higher education  Commercial associate           M   \n",
       "34978   Secondary / secondary special         State servant           F   \n",
       "214576  Secondary / secondary special               Working           M   \n",
       "169952  Secondary / secondary special               Working           M   \n",
       "\n",
       "       FLAG_OWN_REALTY  NAME_HOUSING_TYPE    NAME_FAMILY_STATUS  \\\n",
       "39451                Y  House / apartment               Married   \n",
       "80296                Y  House / apartment               Married   \n",
       "34978                Y  House / apartment               Married   \n",
       "214576               N   Office apartment  Single / not married   \n",
       "169952               N   Rented apartment               Married   \n",
       "\n",
       "        NAME_TYPE_SUITE FLAG_OWN_CAR NAME_CONTRACT_TYPE  \\\n",
       "39451   Spouse, partner            N         Cash loans   \n",
       "80296     Unaccompanied            N         Cash loans   \n",
       "34978            Family            Y         Cash loans   \n",
       "214576    Unaccompanied            N         Cash loans   \n",
       "169952          Other_B            Y         Cash loans   \n",
       "\n",
       "        ORGANIZATION_TYPE_CODE  \n",
       "39451                       57  \n",
       "80296                        5  \n",
       "34978                       39  \n",
       "214576                      31  \n",
       "169952                      55  "
      ]
     },
     "execution_count": 400,
     "metadata": {},
     "output_type": "execute_result"
    }
   ],
   "source": [
    "# drop Organization_Type column\n",
    "cats5 = cats5.drop('ORGANIZATION_TYPE', axis=1)\n",
    "\n",
    "cats5.head()"
   ]
  },
  {
   "cell_type": "markdown",
   "metadata": {},
   "source": [
    "#### One Hot Encode Categoricals"
   ]
  },
  {
   "cell_type": "code",
   "execution_count": 410,
   "metadata": {
    "ExecuteTime": {
     "end_time": "2022-03-22T21:16:53.717920Z",
     "start_time": "2022-03-22T21:16:53.661238Z"
    }
   },
   "outputs": [
    {
     "data": {
      "text/html": [
       "<div>\n",
       "<style scoped>\n",
       "    .dataframe tbody tr th:only-of-type {\n",
       "        vertical-align: middle;\n",
       "    }\n",
       "\n",
       "    .dataframe tbody tr th {\n",
       "        vertical-align: top;\n",
       "    }\n",
       "\n",
       "    .dataframe thead th {\n",
       "        text-align: right;\n",
       "    }\n",
       "</style>\n",
       "<table border=\"1\" class=\"dataframe\">\n",
       "  <thead>\n",
       "    <tr style=\"text-align: right;\">\n",
       "      <th></th>\n",
       "      <th>NAME_EDUCATION_TYPE</th>\n",
       "      <th>NAME_INCOME_TYPE</th>\n",
       "      <th>CODE_GENDER</th>\n",
       "      <th>FLAG_OWN_REALTY</th>\n",
       "      <th>NAME_HOUSING_TYPE</th>\n",
       "      <th>NAME_FAMILY_STATUS</th>\n",
       "      <th>NAME_TYPE_SUITE</th>\n",
       "      <th>FLAG_OWN_CAR</th>\n",
       "      <th>NAME_CONTRACT_TYPE</th>\n",
       "    </tr>\n",
       "  </thead>\n",
       "  <tbody>\n",
       "    <tr>\n",
       "      <th>39451</th>\n",
       "      <td>Secondary / secondary special</td>\n",
       "      <td>Pensioner</td>\n",
       "      <td>F</td>\n",
       "      <td>Y</td>\n",
       "      <td>House / apartment</td>\n",
       "      <td>Married</td>\n",
       "      <td>Spouse, partner</td>\n",
       "      <td>N</td>\n",
       "      <td>Cash loans</td>\n",
       "    </tr>\n",
       "    <tr>\n",
       "      <th>80296</th>\n",
       "      <td>Higher education</td>\n",
       "      <td>Commercial associate</td>\n",
       "      <td>M</td>\n",
       "      <td>Y</td>\n",
       "      <td>House / apartment</td>\n",
       "      <td>Married</td>\n",
       "      <td>Unaccompanied</td>\n",
       "      <td>N</td>\n",
       "      <td>Cash loans</td>\n",
       "    </tr>\n",
       "    <tr>\n",
       "      <th>34978</th>\n",
       "      <td>Secondary / secondary special</td>\n",
       "      <td>State servant</td>\n",
       "      <td>F</td>\n",
       "      <td>Y</td>\n",
       "      <td>House / apartment</td>\n",
       "      <td>Married</td>\n",
       "      <td>Family</td>\n",
       "      <td>Y</td>\n",
       "      <td>Cash loans</td>\n",
       "    </tr>\n",
       "    <tr>\n",
       "      <th>214576</th>\n",
       "      <td>Secondary / secondary special</td>\n",
       "      <td>Working</td>\n",
       "      <td>M</td>\n",
       "      <td>N</td>\n",
       "      <td>Office apartment</td>\n",
       "      <td>Single / not married</td>\n",
       "      <td>Unaccompanied</td>\n",
       "      <td>N</td>\n",
       "      <td>Cash loans</td>\n",
       "    </tr>\n",
       "    <tr>\n",
       "      <th>169952</th>\n",
       "      <td>Secondary / secondary special</td>\n",
       "      <td>Working</td>\n",
       "      <td>M</td>\n",
       "      <td>N</td>\n",
       "      <td>Rented apartment</td>\n",
       "      <td>Married</td>\n",
       "      <td>Other_B</td>\n",
       "      <td>Y</td>\n",
       "      <td>Cash loans</td>\n",
       "    </tr>\n",
       "  </tbody>\n",
       "</table>\n",
       "</div>"
      ],
      "text/plain": [
       "                  NAME_EDUCATION_TYPE      NAME_INCOME_TYPE CODE_GENDER  \\\n",
       "39451   Secondary / secondary special             Pensioner           F   \n",
       "80296                Higher education  Commercial associate           M   \n",
       "34978   Secondary / secondary special         State servant           F   \n",
       "214576  Secondary / secondary special               Working           M   \n",
       "169952  Secondary / secondary special               Working           M   \n",
       "\n",
       "       FLAG_OWN_REALTY  NAME_HOUSING_TYPE    NAME_FAMILY_STATUS  \\\n",
       "39451                Y  House / apartment               Married   \n",
       "80296                Y  House / apartment               Married   \n",
       "34978                Y  House / apartment               Married   \n",
       "214576               N   Office apartment  Single / not married   \n",
       "169952               N   Rented apartment               Married   \n",
       "\n",
       "        NAME_TYPE_SUITE FLAG_OWN_CAR NAME_CONTRACT_TYPE  \n",
       "39451   Spouse, partner            N         Cash loans  \n",
       "80296     Unaccompanied            N         Cash loans  \n",
       "34978            Family            Y         Cash loans  \n",
       "214576    Unaccompanied            N         Cash loans  \n",
       "169952          Other_B            Y         Cash loans  "
      ]
     },
     "execution_count": 410,
     "metadata": {},
     "output_type": "execute_result"
    }
   ],
   "source": [
    "# Separate Label Encoded Column\n",
    "label_encoded = cats5['ORGANIZATION_TYPE_CODE']\n",
    "\n",
    "cats5 = cats5.drop('ORGANIZATION_TYPE_CODE', axis=1)\n",
    "\n",
    "cats5.head()"
   ]
  },
  {
   "cell_type": "code",
   "execution_count": 411,
   "metadata": {
    "ExecuteTime": {
     "end_time": "2022-03-22T21:17:24.885578Z",
     "start_time": "2022-03-22T21:17:24.701919Z"
    }
   },
   "outputs": [
    {
     "data": {
      "text/html": [
       "<div>\n",
       "<style scoped>\n",
       "    .dataframe tbody tr th:only-of-type {\n",
       "        vertical-align: middle;\n",
       "    }\n",
       "\n",
       "    .dataframe tbody tr th {\n",
       "        vertical-align: top;\n",
       "    }\n",
       "\n",
       "    .dataframe thead th {\n",
       "        text-align: right;\n",
       "    }\n",
       "</style>\n",
       "<table border=\"1\" class=\"dataframe\">\n",
       "  <thead>\n",
       "    <tr style=\"text-align: right;\">\n",
       "      <th></th>\n",
       "      <th>NAME_EDUCATION_TYPE_Higher education</th>\n",
       "      <th>NAME_EDUCATION_TYPE_Incomplete higher</th>\n",
       "      <th>NAME_EDUCATION_TYPE_Lower secondary</th>\n",
       "      <th>NAME_EDUCATION_TYPE_Secondary / secondary special</th>\n",
       "      <th>NAME_INCOME_TYPE_Commercial associate</th>\n",
       "      <th>NAME_INCOME_TYPE_Maternity leave</th>\n",
       "      <th>NAME_INCOME_TYPE_Pensioner</th>\n",
       "      <th>NAME_INCOME_TYPE_State servant</th>\n",
       "      <th>NAME_INCOME_TYPE_Student</th>\n",
       "      <th>NAME_INCOME_TYPE_Unemployed</th>\n",
       "      <th>...</th>\n",
       "      <th>NAME_FAMILY_STATUS_Unknown</th>\n",
       "      <th>NAME_FAMILY_STATUS_Widow</th>\n",
       "      <th>NAME_TYPE_SUITE_Family</th>\n",
       "      <th>NAME_TYPE_SUITE_Group of people</th>\n",
       "      <th>NAME_TYPE_SUITE_Other_A</th>\n",
       "      <th>NAME_TYPE_SUITE_Other_B</th>\n",
       "      <th>NAME_TYPE_SUITE_Spouse, partner</th>\n",
       "      <th>NAME_TYPE_SUITE_Unaccompanied</th>\n",
       "      <th>FLAG_OWN_CAR_Y</th>\n",
       "      <th>NAME_CONTRACT_TYPE_Revolving loans</th>\n",
       "    </tr>\n",
       "  </thead>\n",
       "  <tbody>\n",
       "    <tr>\n",
       "      <th>39451</th>\n",
       "      <td>0</td>\n",
       "      <td>0</td>\n",
       "      <td>0</td>\n",
       "      <td>1</td>\n",
       "      <td>0</td>\n",
       "      <td>0</td>\n",
       "      <td>1</td>\n",
       "      <td>0</td>\n",
       "      <td>0</td>\n",
       "      <td>0</td>\n",
       "      <td>...</td>\n",
       "      <td>0</td>\n",
       "      <td>0</td>\n",
       "      <td>0</td>\n",
       "      <td>0</td>\n",
       "      <td>0</td>\n",
       "      <td>0</td>\n",
       "      <td>1</td>\n",
       "      <td>0</td>\n",
       "      <td>0</td>\n",
       "      <td>0</td>\n",
       "    </tr>\n",
       "    <tr>\n",
       "      <th>80296</th>\n",
       "      <td>1</td>\n",
       "      <td>0</td>\n",
       "      <td>0</td>\n",
       "      <td>0</td>\n",
       "      <td>1</td>\n",
       "      <td>0</td>\n",
       "      <td>0</td>\n",
       "      <td>0</td>\n",
       "      <td>0</td>\n",
       "      <td>0</td>\n",
       "      <td>...</td>\n",
       "      <td>0</td>\n",
       "      <td>0</td>\n",
       "      <td>0</td>\n",
       "      <td>0</td>\n",
       "      <td>0</td>\n",
       "      <td>0</td>\n",
       "      <td>0</td>\n",
       "      <td>1</td>\n",
       "      <td>0</td>\n",
       "      <td>0</td>\n",
       "    </tr>\n",
       "    <tr>\n",
       "      <th>34978</th>\n",
       "      <td>0</td>\n",
       "      <td>0</td>\n",
       "      <td>0</td>\n",
       "      <td>1</td>\n",
       "      <td>0</td>\n",
       "      <td>0</td>\n",
       "      <td>0</td>\n",
       "      <td>1</td>\n",
       "      <td>0</td>\n",
       "      <td>0</td>\n",
       "      <td>...</td>\n",
       "      <td>0</td>\n",
       "      <td>0</td>\n",
       "      <td>1</td>\n",
       "      <td>0</td>\n",
       "      <td>0</td>\n",
       "      <td>0</td>\n",
       "      <td>0</td>\n",
       "      <td>0</td>\n",
       "      <td>1</td>\n",
       "      <td>0</td>\n",
       "    </tr>\n",
       "    <tr>\n",
       "      <th>214576</th>\n",
       "      <td>0</td>\n",
       "      <td>0</td>\n",
       "      <td>0</td>\n",
       "      <td>1</td>\n",
       "      <td>0</td>\n",
       "      <td>0</td>\n",
       "      <td>0</td>\n",
       "      <td>0</td>\n",
       "      <td>0</td>\n",
       "      <td>0</td>\n",
       "      <td>...</td>\n",
       "      <td>0</td>\n",
       "      <td>0</td>\n",
       "      <td>0</td>\n",
       "      <td>0</td>\n",
       "      <td>0</td>\n",
       "      <td>0</td>\n",
       "      <td>0</td>\n",
       "      <td>1</td>\n",
       "      <td>0</td>\n",
       "      <td>0</td>\n",
       "    </tr>\n",
       "    <tr>\n",
       "      <th>169952</th>\n",
       "      <td>0</td>\n",
       "      <td>0</td>\n",
       "      <td>0</td>\n",
       "      <td>1</td>\n",
       "      <td>0</td>\n",
       "      <td>0</td>\n",
       "      <td>0</td>\n",
       "      <td>0</td>\n",
       "      <td>0</td>\n",
       "      <td>0</td>\n",
       "      <td>...</td>\n",
       "      <td>0</td>\n",
       "      <td>0</td>\n",
       "      <td>0</td>\n",
       "      <td>0</td>\n",
       "      <td>0</td>\n",
       "      <td>1</td>\n",
       "      <td>0</td>\n",
       "      <td>0</td>\n",
       "      <td>1</td>\n",
       "      <td>0</td>\n",
       "    </tr>\n",
       "  </tbody>\n",
       "</table>\n",
       "<p>5 rows × 31 columns</p>\n",
       "</div>"
      ],
      "text/plain": [
       "        NAME_EDUCATION_TYPE_Higher education  \\\n",
       "39451                                      0   \n",
       "80296                                      1   \n",
       "34978                                      0   \n",
       "214576                                     0   \n",
       "169952                                     0   \n",
       "\n",
       "        NAME_EDUCATION_TYPE_Incomplete higher  \\\n",
       "39451                                       0   \n",
       "80296                                       0   \n",
       "34978                                       0   \n",
       "214576                                      0   \n",
       "169952                                      0   \n",
       "\n",
       "        NAME_EDUCATION_TYPE_Lower secondary  \\\n",
       "39451                                     0   \n",
       "80296                                     0   \n",
       "34978                                     0   \n",
       "214576                                    0   \n",
       "169952                                    0   \n",
       "\n",
       "        NAME_EDUCATION_TYPE_Secondary / secondary special  \\\n",
       "39451                                                   1   \n",
       "80296                                                   0   \n",
       "34978                                                   1   \n",
       "214576                                                  1   \n",
       "169952                                                  1   \n",
       "\n",
       "        NAME_INCOME_TYPE_Commercial associate  \\\n",
       "39451                                       0   \n",
       "80296                                       1   \n",
       "34978                                       0   \n",
       "214576                                      0   \n",
       "169952                                      0   \n",
       "\n",
       "        NAME_INCOME_TYPE_Maternity leave  NAME_INCOME_TYPE_Pensioner  \\\n",
       "39451                                  0                           1   \n",
       "80296                                  0                           0   \n",
       "34978                                  0                           0   \n",
       "214576                                 0                           0   \n",
       "169952                                 0                           0   \n",
       "\n",
       "        NAME_INCOME_TYPE_State servant  NAME_INCOME_TYPE_Student  \\\n",
       "39451                                0                         0   \n",
       "80296                                0                         0   \n",
       "34978                                1                         0   \n",
       "214576                               0                         0   \n",
       "169952                               0                         0   \n",
       "\n",
       "        NAME_INCOME_TYPE_Unemployed  ...  NAME_FAMILY_STATUS_Unknown  \\\n",
       "39451                             0  ...                           0   \n",
       "80296                             0  ...                           0   \n",
       "34978                             0  ...                           0   \n",
       "214576                            0  ...                           0   \n",
       "169952                            0  ...                           0   \n",
       "\n",
       "        NAME_FAMILY_STATUS_Widow  NAME_TYPE_SUITE_Family  \\\n",
       "39451                          0                       0   \n",
       "80296                          0                       0   \n",
       "34978                          0                       1   \n",
       "214576                         0                       0   \n",
       "169952                         0                       0   \n",
       "\n",
       "        NAME_TYPE_SUITE_Group of people  NAME_TYPE_SUITE_Other_A  \\\n",
       "39451                                 0                        0   \n",
       "80296                                 0                        0   \n",
       "34978                                 0                        0   \n",
       "214576                                0                        0   \n",
       "169952                                0                        0   \n",
       "\n",
       "        NAME_TYPE_SUITE_Other_B  NAME_TYPE_SUITE_Spouse, partner  \\\n",
       "39451                         0                                1   \n",
       "80296                         0                                0   \n",
       "34978                         0                                0   \n",
       "214576                        0                                0   \n",
       "169952                        1                                0   \n",
       "\n",
       "        NAME_TYPE_SUITE_Unaccompanied  FLAG_OWN_CAR_Y  \\\n",
       "39451                               0               0   \n",
       "80296                               1               0   \n",
       "34978                               0               1   \n",
       "214576                              1               0   \n",
       "169952                              0               1   \n",
       "\n",
       "        NAME_CONTRACT_TYPE_Revolving loans  \n",
       "39451                                    0  \n",
       "80296                                    0  \n",
       "34978                                    0  \n",
       "214576                                   0  \n",
       "169952                                   0  \n",
       "\n",
       "[5 rows x 31 columns]"
      ]
     },
     "execution_count": 411,
     "metadata": {},
     "output_type": "execute_result"
    }
   ],
   "source": [
    "# copy categoricals\n",
    "cat5_dummies = cats5.copy()\n",
    "\n",
    "# get dummies for categoricals from cat_dummies\n",
    "cat5_dummies = pd.get_dummies(cat5_dummies, drop_first=True)\n",
    "\n",
    "cat5_dummies.head()"
   ]
  },
  {
   "cell_type": "code",
   "execution_count": 415,
   "metadata": {
    "ExecuteTime": {
     "end_time": "2022-03-22T21:17:43.940226Z",
     "start_time": "2022-03-22T21:17:43.934254Z"
    },
    "scrolled": true
   },
   "outputs": [
    {
     "name": "stdout",
     "output_type": "stream",
     "text": [
      "(64825, 31)\n"
     ]
    }
   ],
   "source": [
    "# print shape - column, row attributes\n",
    "print(cat5_dummies.shape)"
   ]
  },
  {
   "cell_type": "markdown",
   "metadata": {},
   "source": [
    "## Remove Outliers"
   ]
  },
  {
   "cell_type": "code",
   "execution_count": 419,
   "metadata": {
    "ExecuteTime": {
     "end_time": "2022-03-22T21:19:28.802868Z",
     "start_time": "2022-03-22T21:19:28.711018Z"
    }
   },
   "outputs": [
    {
     "data": {
      "text/html": [
       "<div>\n",
       "<style scoped>\n",
       "    .dataframe tbody tr th:only-of-type {\n",
       "        vertical-align: middle;\n",
       "    }\n",
       "\n",
       "    .dataframe tbody tr th {\n",
       "        vertical-align: top;\n",
       "    }\n",
       "\n",
       "    .dataframe thead th {\n",
       "        text-align: right;\n",
       "    }\n",
       "</style>\n",
       "<table border=\"1\" class=\"dataframe\">\n",
       "  <thead>\n",
       "    <tr style=\"text-align: right;\">\n",
       "      <th></th>\n",
       "      <th>TARGET</th>\n",
       "      <th>CNT_CHILDREN</th>\n",
       "      <th>AMT_INCOME_TOTAL</th>\n",
       "      <th>AMT_CREDIT</th>\n",
       "      <th>AMT_ANNUITY</th>\n",
       "      <th>DAYS_EMPLOYED</th>\n",
       "      <th>CNT_FAM_MEMBERS</th>\n",
       "      <th>DAYS_BIRTH</th>\n",
       "      <th>AMT_GOODS_PRICE</th>\n",
       "      <th>REGION_RATING_CLIENT</th>\n",
       "      <th>...</th>\n",
       "      <th>NAME_FAMILY_STATUS_Widow</th>\n",
       "      <th>NAME_TYPE_SUITE_Family</th>\n",
       "      <th>NAME_TYPE_SUITE_Group of people</th>\n",
       "      <th>NAME_TYPE_SUITE_Other_A</th>\n",
       "      <th>NAME_TYPE_SUITE_Other_B</th>\n",
       "      <th>NAME_TYPE_SUITE_Spouse, partner</th>\n",
       "      <th>NAME_TYPE_SUITE_Unaccompanied</th>\n",
       "      <th>FLAG_OWN_CAR_Y</th>\n",
       "      <th>NAME_CONTRACT_TYPE_Revolving loans</th>\n",
       "      <th>ORGANIZATION_TYPE_CODE</th>\n",
       "    </tr>\n",
       "  </thead>\n",
       "  <tbody>\n",
       "    <tr>\n",
       "      <th>39451</th>\n",
       "      <td>0</td>\n",
       "      <td>0</td>\n",
       "      <td>270000.0</td>\n",
       "      <td>573408.0</td>\n",
       "      <td>29407.5</td>\n",
       "      <td>365243</td>\n",
       "      <td>2.0</td>\n",
       "      <td>-21939</td>\n",
       "      <td>495000.0</td>\n",
       "      <td>1</td>\n",
       "      <td>...</td>\n",
       "      <td>0</td>\n",
       "      <td>0</td>\n",
       "      <td>0</td>\n",
       "      <td>0</td>\n",
       "      <td>0</td>\n",
       "      <td>1</td>\n",
       "      <td>0</td>\n",
       "      <td>0</td>\n",
       "      <td>0</td>\n",
       "      <td>57</td>\n",
       "    </tr>\n",
       "    <tr>\n",
       "      <th>80296</th>\n",
       "      <td>0</td>\n",
       "      <td>1</td>\n",
       "      <td>90000.0</td>\n",
       "      <td>225000.0</td>\n",
       "      <td>10039.5</td>\n",
       "      <td>-213</td>\n",
       "      <td>3.0</td>\n",
       "      <td>-10613</td>\n",
       "      <td>225000.0</td>\n",
       "      <td>2</td>\n",
       "      <td>...</td>\n",
       "      <td>0</td>\n",
       "      <td>0</td>\n",
       "      <td>0</td>\n",
       "      <td>0</td>\n",
       "      <td>0</td>\n",
       "      <td>0</td>\n",
       "      <td>1</td>\n",
       "      <td>0</td>\n",
       "      <td>0</td>\n",
       "      <td>5</td>\n",
       "    </tr>\n",
       "    <tr>\n",
       "      <th>34978</th>\n",
       "      <td>0</td>\n",
       "      <td>1</td>\n",
       "      <td>180000.0</td>\n",
       "      <td>715095.0</td>\n",
       "      <td>48109.5</td>\n",
       "      <td>-6642</td>\n",
       "      <td>3.0</td>\n",
       "      <td>-17505</td>\n",
       "      <td>675000.0</td>\n",
       "      <td>2</td>\n",
       "      <td>...</td>\n",
       "      <td>0</td>\n",
       "      <td>1</td>\n",
       "      <td>0</td>\n",
       "      <td>0</td>\n",
       "      <td>0</td>\n",
       "      <td>0</td>\n",
       "      <td>0</td>\n",
       "      <td>1</td>\n",
       "      <td>0</td>\n",
       "      <td>39</td>\n",
       "    </tr>\n",
       "    <tr>\n",
       "      <th>214576</th>\n",
       "      <td>0</td>\n",
       "      <td>0</td>\n",
       "      <td>247500.0</td>\n",
       "      <td>765000.0</td>\n",
       "      <td>22365.0</td>\n",
       "      <td>-3342</td>\n",
       "      <td>1.0</td>\n",
       "      <td>-13780</td>\n",
       "      <td>765000.0</td>\n",
       "      <td>2</td>\n",
       "      <td>...</td>\n",
       "      <td>0</td>\n",
       "      <td>0</td>\n",
       "      <td>0</td>\n",
       "      <td>0</td>\n",
       "      <td>0</td>\n",
       "      <td>0</td>\n",
       "      <td>1</td>\n",
       "      <td>0</td>\n",
       "      <td>0</td>\n",
       "      <td>31</td>\n",
       "    </tr>\n",
       "    <tr>\n",
       "      <th>169952</th>\n",
       "      <td>0</td>\n",
       "      <td>0</td>\n",
       "      <td>202500.0</td>\n",
       "      <td>528633.0</td>\n",
       "      <td>38817.0</td>\n",
       "      <td>-2551</td>\n",
       "      <td>2.0</td>\n",
       "      <td>-16880</td>\n",
       "      <td>472500.0</td>\n",
       "      <td>3</td>\n",
       "      <td>...</td>\n",
       "      <td>0</td>\n",
       "      <td>0</td>\n",
       "      <td>0</td>\n",
       "      <td>0</td>\n",
       "      <td>1</td>\n",
       "      <td>0</td>\n",
       "      <td>0</td>\n",
       "      <td>1</td>\n",
       "      <td>0</td>\n",
       "      <td>55</td>\n",
       "    </tr>\n",
       "  </tbody>\n",
       "</table>\n",
       "<p>5 rows × 47 columns</p>\n",
       "</div>"
      ],
      "text/plain": [
       "        TARGET  CNT_CHILDREN  AMT_INCOME_TOTAL  AMT_CREDIT  AMT_ANNUITY  \\\n",
       "39451        0             0          270000.0    573408.0      29407.5   \n",
       "80296        0             1           90000.0    225000.0      10039.5   \n",
       "34978        0             1          180000.0    715095.0      48109.5   \n",
       "214576       0             0          247500.0    765000.0      22365.0   \n",
       "169952       0             0          202500.0    528633.0      38817.0   \n",
       "\n",
       "        DAYS_EMPLOYED  CNT_FAM_MEMBERS  DAYS_BIRTH  AMT_GOODS_PRICE  \\\n",
       "39451          365243              2.0      -21939         495000.0   \n",
       "80296            -213              3.0      -10613         225000.0   \n",
       "34978           -6642              3.0      -17505         675000.0   \n",
       "214576          -3342              1.0      -13780         765000.0   \n",
       "169952          -2551              2.0      -16880         472500.0   \n",
       "\n",
       "        REGION_RATING_CLIENT  ...  NAME_FAMILY_STATUS_Widow  \\\n",
       "39451                      1  ...                         0   \n",
       "80296                      2  ...                         0   \n",
       "34978                      2  ...                         0   \n",
       "214576                     2  ...                         0   \n",
       "169952                     3  ...                         0   \n",
       "\n",
       "        NAME_TYPE_SUITE_Family  NAME_TYPE_SUITE_Group of people  \\\n",
       "39451                        0                                0   \n",
       "80296                        0                                0   \n",
       "34978                        1                                0   \n",
       "214576                       0                                0   \n",
       "169952                       0                                0   \n",
       "\n",
       "        NAME_TYPE_SUITE_Other_A  NAME_TYPE_SUITE_Other_B  \\\n",
       "39451                         0                        0   \n",
       "80296                         0                        0   \n",
       "34978                         0                        0   \n",
       "214576                        0                        0   \n",
       "169952                        0                        1   \n",
       "\n",
       "        NAME_TYPE_SUITE_Spouse, partner  NAME_TYPE_SUITE_Unaccompanied  \\\n",
       "39451                                 1                              0   \n",
       "80296                                 0                              1   \n",
       "34978                                 0                              0   \n",
       "214576                                0                              1   \n",
       "169952                                0                              0   \n",
       "\n",
       "        FLAG_OWN_CAR_Y  NAME_CONTRACT_TYPE_Revolving loans  \\\n",
       "39451                0                                   0   \n",
       "80296                0                                   0   \n",
       "34978                1                                   0   \n",
       "214576               0                                   0   \n",
       "169952               1                                   0   \n",
       "\n",
       "        ORGANIZATION_TYPE_CODE  \n",
       "39451                       57  \n",
       "80296                        5  \n",
       "34978                       39  \n",
       "214576                      31  \n",
       "169952                      55  \n",
       "\n",
       "[5 rows x 47 columns]"
      ]
     },
     "execution_count": 419,
     "metadata": {},
     "output_type": "execute_result"
    }
   ],
   "source": [
    "# concatenate cat_dummies and numericals\n",
    "\n",
    "df6 = pd.concat([nums5, \n",
    "                 cat5_dummies,\n",
    "                label_encoded], axis=1)\n",
    "df6.head()"
   ]
  },
  {
   "cell_type": "code",
   "execution_count": 420,
   "metadata": {
    "ExecuteTime": {
     "end_time": "2022-03-22T21:19:43.449657Z",
     "start_time": "2022-03-22T21:19:43.438788Z"
    }
   },
   "outputs": [
    {
     "data": {
      "text/plain": [
       "0     44552\n",
       "1     13499\n",
       "2      5809\n",
       "3       810\n",
       "4       119\n",
       "5        22\n",
       "6        10\n",
       "9         2\n",
       "11        1\n",
       "7         1\n",
       "Name: CNT_CHILDREN, dtype: int64"
      ]
     },
     "execution_count": 420,
     "metadata": {},
     "output_type": "execute_result"
    }
   ],
   "source": [
    "# out of curiosity - wondering how many children people who are applying\n",
    "# for house loans have. I have 2.\n",
    "df6['CNT_CHILDREN'].value_counts()"
   ]
  },
  {
   "cell_type": "code",
   "execution_count": 421,
   "metadata": {
    "ExecuteTime": {
     "end_time": "2022-03-22T21:20:13.458473Z",
     "start_time": "2022-03-22T21:20:13.319189Z"
    },
    "scrolled": true
   },
   "outputs": [
    {
     "name": "stdout",
     "output_type": "stream",
     "text": [
      "Upper Quantile: TARGET                         1.000000e+00\n",
      "CNT_CHILDREN                   4.000000e+00\n",
      "AMT_INCOME_TOTAL               8.271900e+05\n",
      "AMT_CREDIT                     2.254500e+06\n",
      "AMT_ANNUITY                    9.822726e+04\n",
      "DAYS_EMPLOYED                  3.652430e+05\n",
      "CNT_FAM_MEMBERS                6.000000e+00\n",
      "DAYS_BIRTH                    -7.789236e+03\n",
      "AMT_GOODS_PRICE                2.250000e+06\n",
      "REGION_RATING_CLIENT           3.000000e+00\n",
      "DAYS_REGISTRATION             -4.000000e+00\n",
      "REGION_POPULATION_RELATIVE     7.250800e-02\n",
      "LIVE_REGION_NOT_WORK_REGION    1.000000e+00\n",
      "EXT_SOURCE_2                   8.017546e-01\n",
      "EXT_SOURCE_3                   8.616528e-01\n",
      "Name: 0.9985, dtype: float64\n",
      "\n",
      "Lower Quantile: TARGET                             0.000000\n",
      "CNT_CHILDREN                       0.000000\n",
      "AMT_INCOME_TOTAL               36000.000000\n",
      "AMT_CREDIT                     49752.000000\n",
      "AMT_ANNUITY                     4420.062000\n",
      "DAYS_EMPLOYED                 -13491.876000\n",
      "CNT_FAM_MEMBERS                    1.000000\n",
      "DAYS_BIRTH                    -24912.056000\n",
      "AMT_GOODS_PRICE                45000.000000\n",
      "REGION_RATING_CLIENT               1.000000\n",
      "DAYS_REGISTRATION             -15915.764000\n",
      "REGION_POPULATION_RELATIVE         0.001276\n",
      "LIVE_REGION_NOT_WORK_REGION        0.000000\n",
      "EXT_SOURCE_2                       0.000973\n",
      "EXT_SOURCE_3                       0.000527\n",
      "Name: 0.0015, dtype: float64\n"
     ]
    }
   ],
   "source": [
    "# examine outliers from AMT_INCOME_TOTAL\n",
    "\n",
    "num3 = nums5.copy()\n",
    "print('Upper Quantile:',num3.quantile(q=.9985))\n",
    "print()\n",
    "print('Lower Quantile:',num3.quantile(q=.0015))"
   ]
  },
  {
   "cell_type": "code",
   "execution_count": 422,
   "metadata": {
    "ExecuteTime": {
     "end_time": "2022-03-22T21:20:18.887706Z",
     "start_time": "2022-03-22T21:20:18.545576Z"
    },
    "scrolled": false
   },
   "outputs": [
    {
     "data": {
      "text/plain": [
       "<AxesSubplot:>"
      ]
     },
     "execution_count": 422,
     "metadata": {},
     "output_type": "execute_result"
    },
    {
     "data": {
      "image/png": "[encoded data removed]",
      "text/plain": [
       "<Figure size 432x288 with 1 Axes>"
      ]
     },
     "metadata": {
      "needs_background": "light"
     },
     "output_type": "display_data"
    }
   ],
   "source": [
    "# Visualizing histogram with outliers for 'AMT_INCOME_TOTAL'\n",
    "df6['AMT_INCOME_TOTAL'].hist(bins=25)"
   ]
  },
  {
   "cell_type": "code",
   "execution_count": 423,
   "metadata": {
    "ExecuteTime": {
     "end_time": "2022-03-22T21:20:33.919670Z",
     "start_time": "2022-03-22T21:20:33.590803Z"
    },
    "scrolled": true
   },
   "outputs": [
    {
     "data": {
      "text/plain": [
       "<AxesSubplot:>"
      ]
     },
     "execution_count": 423,
     "metadata": {},
     "output_type": "execute_result"
    },
    {
     "data": {
      "image/png": "[encoded data removed]",
      "text/plain": [
       "<Figure size 432x288 with 1 Axes>"
      ]
     },
     "metadata": {
      "needs_background": "light"
     },
     "output_type": "display_data"
    }
   ],
   "source": [
    "df6 = df6[(\n",
    "    df6['AMT_INCOME_TOTAL'] > 35656.2) & (\n",
    "    df6['AMT_INCOME_TOTAL'] < 810000)]\n",
    "\n",
    "df6['AMT_INCOME_TOTAL'].hist(bins=25)"
   ]
  },
  {
   "cell_type": "code",
   "execution_count": 424,
   "metadata": {
    "ExecuteTime": {
     "end_time": "2022-03-22T21:20:50.011060Z",
     "start_time": "2022-03-22T21:20:49.968998Z"
    }
   },
   "outputs": [
    {
     "name": "stdout",
     "output_type": "stream",
     "text": [
      "<class 'pandas.core.frame.DataFrame'>\n",
      "Int64Index: 64630 entries, 39451 to 307509\n",
      "Data columns (total 47 columns):\n",
      " #   Column                                             Non-Null Count  Dtype  \n",
      "---  ------                                             --------------  -----  \n",
      " 0   TARGET                                             64630 non-null  int64  \n",
      " 1   CNT_CHILDREN                                       64630 non-null  int64  \n",
      " 2   AMT_INCOME_TOTAL                                   64630 non-null  float64\n",
      " 3   AMT_CREDIT                                         64630 non-null  float64\n",
      " 4   AMT_ANNUITY                                        64630 non-null  float64\n",
      " 5   DAYS_EMPLOYED                                      64630 non-null  int64  \n",
      " 6   CNT_FAM_MEMBERS                                    64630 non-null  float64\n",
      " 7   DAYS_BIRTH                                         64630 non-null  int64  \n",
      " 8   AMT_GOODS_PRICE                                    64630 non-null  float64\n",
      " 9   REGION_RATING_CLIENT                               64630 non-null  int64  \n",
      " 10  DAYS_REGISTRATION                                  64630 non-null  float64\n",
      " 11  REGION_POPULATION_RELATIVE                         64630 non-null  float64\n",
      " 12  LIVE_REGION_NOT_WORK_REGION                        64630 non-null  int64  \n",
      " 13  EXT_SOURCE_2                                       64630 non-null  float64\n",
      " 14  EXT_SOURCE_3                                       64630 non-null  float64\n",
      " 15  NAME_EDUCATION_TYPE_Higher education               64630 non-null  uint8  \n",
      " 16  NAME_EDUCATION_TYPE_Incomplete higher              64630 non-null  uint8  \n",
      " 17  NAME_EDUCATION_TYPE_Lower secondary                64630 non-null  uint8  \n",
      " 18  NAME_EDUCATION_TYPE_Secondary / secondary special  64630 non-null  uint8  \n",
      " 19  NAME_INCOME_TYPE_Commercial associate              64630 non-null  uint8  \n",
      " 20  NAME_INCOME_TYPE_Maternity leave                   64630 non-null  uint8  \n",
      " 21  NAME_INCOME_TYPE_Pensioner                         64630 non-null  uint8  \n",
      " 22  NAME_INCOME_TYPE_State servant                     64630 non-null  uint8  \n",
      " 23  NAME_INCOME_TYPE_Student                           64630 non-null  uint8  \n",
      " 24  NAME_INCOME_TYPE_Unemployed                        64630 non-null  uint8  \n",
      " 25  NAME_INCOME_TYPE_Working                           64630 non-null  uint8  \n",
      " 26  CODE_GENDER_M                                      64630 non-null  uint8  \n",
      " 27  FLAG_OWN_REALTY_Y                                  64630 non-null  uint8  \n",
      " 28  NAME_HOUSING_TYPE_House / apartment                64630 non-null  uint8  \n",
      " 29  NAME_HOUSING_TYPE_Municipal apartment              64630 non-null  uint8  \n",
      " 30  NAME_HOUSING_TYPE_Office apartment                 64630 non-null  uint8  \n",
      " 31  NAME_HOUSING_TYPE_Rented apartment                 64630 non-null  uint8  \n",
      " 32  NAME_HOUSING_TYPE_With parents                     64630 non-null  uint8  \n",
      " 33  NAME_FAMILY_STATUS_Married                         64630 non-null  uint8  \n",
      " 34  NAME_FAMILY_STATUS_Separated                       64630 non-null  uint8  \n",
      " 35  NAME_FAMILY_STATUS_Single / not married            64630 non-null  uint8  \n",
      " 36  NAME_FAMILY_STATUS_Unknown                         64630 non-null  uint8  \n",
      " 37  NAME_FAMILY_STATUS_Widow                           64630 non-null  uint8  \n",
      " 38  NAME_TYPE_SUITE_Family                             64630 non-null  uint8  \n",
      " 39  NAME_TYPE_SUITE_Group of people                    64630 non-null  uint8  \n",
      " 40  NAME_TYPE_SUITE_Other_A                            64630 non-null  uint8  \n",
      " 41  NAME_TYPE_SUITE_Other_B                            64630 non-null  uint8  \n",
      " 42  NAME_TYPE_SUITE_Spouse, partner                    64630 non-null  uint8  \n",
      " 43  NAME_TYPE_SUITE_Unaccompanied                      64630 non-null  uint8  \n",
      " 44  FLAG_OWN_CAR_Y                                     64630 non-null  uint8  \n",
      " 45  NAME_CONTRACT_TYPE_Revolving loans                 64630 non-null  uint8  \n",
      " 46  ORGANIZATION_TYPE_CODE                             64630 non-null  int64  \n",
      "dtypes: float64(9), int64(7), uint8(31)\n",
      "memory usage: 10.3 MB\n"
     ]
    }
   ],
   "source": [
    "df6.info()"
   ]
  },
  {
   "cell_type": "markdown",
   "metadata": {},
   "source": [
    "### Removing outliers Summary\n",
    "* Removing outliers for AMT_INCOME_TOTAL seemed to help normalize the distribution, but further normalization will be required to reduce the differences in magnitude between the features."
   ]
  },
  {
   "cell_type": "markdown",
   "metadata": {},
   "source": [
    "# Twelfth Model - Added Features\n",
    "* Try Gradient Boost with modified learning rate (best previous model)"
   ]
  },
  {
   "cell_type": "markdown",
   "metadata": {},
   "source": [
    "## Tune Learning Rate\n",
    "* Iterated on this many times - \n",
    "    * High learning rate (near 1.0) is the best.\n",
    "        * Learning rate should be in range of 0.0 - 1.0"
   ]
  },
  {
   "cell_type": "code",
   "execution_count": 425,
   "metadata": {
    "ExecuteTime": {
     "end_time": "2022-03-22T21:24:16.259153Z",
     "start_time": "2022-03-22T21:24:16.086618Z"
    }
   },
   "outputs": [],
   "source": [
    "# Define X and y\n",
    "y = df6['TARGET']\n",
    "X = df6.drop('TARGET', axis=1)\n",
    "\n",
    "# Perform train-test split with random_state=42 and stratify=y\n",
    "X_train, X_test, y_train, y_test = train_test_split(X, y, test_size=0.25, random_state=42)"
   ]
  },
  {
   "cell_type": "code",
   "execution_count": 426,
   "metadata": {
    "ExecuteTime": {
     "end_time": "2022-03-22T21:24:18.813774Z",
     "start_time": "2022-03-22T21:24:18.808272Z"
    }
   },
   "outputs": [],
   "source": [
    "# Instantiate an AdaBoostClassifier\n",
    "adaboost_clf = AdaBoostClassifier(learning_rate=0.99, random_state=42)\n",
    "\n",
    "# Instantiate an GradientBoostingClassifier\n",
    "gbt_clf = GradientBoostingClassifier(learning_rate=1, random_state=42)"
   ]
  },
  {
   "cell_type": "code",
   "execution_count": 427,
   "metadata": {
    "ExecuteTime": {
     "end_time": "2022-03-22T21:24:25.137773Z",
     "start_time": "2022-03-22T21:24:20.670948Z"
    }
   },
   "outputs": [
    {
     "data": {
      "text/plain": [
       "AdaBoostClassifier(learning_rate=0.99, random_state=42)"
      ]
     },
     "execution_count": 427,
     "metadata": {},
     "output_type": "execute_result"
    }
   ],
   "source": [
    "# Fit AdaBoostClassifier\n",
    "adaboost_clf.fit(X_train, y_train)"
   ]
  },
  {
   "cell_type": "code",
   "execution_count": 428,
   "metadata": {
    "ExecuteTime": {
     "end_time": "2022-03-22T21:24:25.149395Z",
     "start_time": "2022-03-22T21:24:25.140916Z"
    }
   },
   "outputs": [
    {
     "data": {
      "text/plain": [
       "AdaBoostClassifier(random_state=42)"
      ]
     },
     "execution_count": 428,
     "metadata": {},
     "output_type": "execute_result"
    }
   ],
   "source": [
    "AdaBoostClassifier(algorithm='SAMME.R', base_estimator=None, learning_rate=1.0,\n",
    "                   n_estimators=50, random_state=42)"
   ]
  },
  {
   "cell_type": "code",
   "execution_count": 429,
   "metadata": {
    "ExecuteTime": {
     "end_time": "2022-03-22T21:24:44.496151Z",
     "start_time": "2022-03-22T21:24:26.151997Z"
    }
   },
   "outputs": [
    {
     "data": {
      "text/plain": [
       "GradientBoostingClassifier(learning_rate=1, random_state=42)"
      ]
     },
     "execution_count": 429,
     "metadata": {},
     "output_type": "execute_result"
    }
   ],
   "source": [
    "# Fit GradientBoostingClassifier\n",
    "gbt_clf.fit(X_train, y_train)"
   ]
  },
  {
   "cell_type": "code",
   "execution_count": 430,
   "metadata": {
    "ExecuteTime": {
     "end_time": "2022-03-22T21:24:45.968484Z",
     "start_time": "2022-03-22T21:24:45.958302Z"
    }
   },
   "outputs": [
    {
     "data": {
      "text/plain": [
       "GradientBoostingClassifier(presort='auto', random_state=42)"
      ]
     },
     "execution_count": 430,
     "metadata": {},
     "output_type": "execute_result"
    }
   ],
   "source": [
    "GradientBoostingClassifier(criterion='friedman_mse', init=None,\n",
    "                           learning_rate=0.1, loss='deviance', max_depth=3,\n",
    "                           max_features=None, max_leaf_nodes=None,\n",
    "                           min_impurity_decrease=0.0, min_impurity_split=None,\n",
    "                           min_samples_leaf=1, min_samples_split=2,\n",
    "                           min_weight_fraction_leaf=0.0, n_estimators=100,\n",
    "                           n_iter_no_change=None, presort='auto',\n",
    "                           random_state=42, subsample=1.0, tol=0.0001,\n",
    "                           validation_fraction=0.1, verbose=0,\n",
    "                           warm_start=False)"
   ]
  },
  {
   "cell_type": "code",
   "execution_count": 431,
   "metadata": {
    "ExecuteTime": {
     "end_time": "2022-03-22T21:24:49.271103Z",
     "start_time": "2022-03-22T21:24:48.105773Z"
    }
   },
   "outputs": [],
   "source": [
    "# AdaBoost model predictions\n",
    "adaboost_train_preds = adaboost_clf.predict(X_train)\n",
    "adaboost_test_preds = adaboost_clf.predict(X_test)\n",
    "\n",
    "# GradientBoosting model predictions\n",
    "gbt_clf_train_preds = gbt_clf.predict(X_train)\n",
    "gbt_clf_test_preds = gbt_clf.predict(X_test)"
   ]
  },
  {
   "cell_type": "code",
   "execution_count": 432,
   "metadata": {
    "ExecuteTime": {
     "end_time": "2022-03-22T21:24:50.294017Z",
     "start_time": "2022-03-22T21:24:50.201581Z"
    }
   },
   "outputs": [
    {
     "name": "stdout",
     "output_type": "stream",
     "text": [
      "Training Metrics\n",
      "Model: AdaBoost\n",
      "Accuracy: 0.7009201188314903\n",
      "F1-Score: 0.5516345529335354\n",
      "\n",
      "Model: Gradient Boosted Trees\n",
      "Accuracy: 0.7339288661495297\n",
      "F1-Score: 0.6157604647698495\n",
      "\n",
      "Testing Metrics\n",
      "Model: AdaBoost\n",
      "Accuracy: 0.6943309815571234\n",
      "F1-Score: 0.5448345774582988\n",
      "\n",
      "Model: Gradient Boosted Trees\n",
      "Accuracy: 0.6852952098031935\n",
      "F1-Score: 0.5475576118871786\n"
     ]
    }
   ],
   "source": [
    "def display_acc_and_f1_score(true, preds, model_name):\n",
    "    acc = accuracy_score(true, preds)\n",
    "    f1 = f1_score(true, preds)\n",
    "    print(\"Model: {}\".format(model_name))\n",
    "    print(\"Accuracy: {}\".format(acc))\n",
    "    print(\"F1-Score: {}\".format(f1))\n",
    "    \n",
    "print(\"Training Metrics\")\n",
    "display_acc_and_f1_score(y_train, adaboost_train_preds, model_name='AdaBoost')\n",
    "print(\"\")\n",
    "display_acc_and_f1_score(y_train, gbt_clf_train_preds, model_name='Gradient Boosted Trees')\n",
    "print(\"\")\n",
    "print(\"Testing Metrics\")\n",
    "display_acc_and_f1_score(y_test, adaboost_test_preds, model_name='AdaBoost')\n",
    "print(\"\")\n",
    "display_acc_and_f1_score(y_test, gbt_clf_test_preds, model_name='Gradient Boosted Trees')"
   ]
  },
  {
   "cell_type": "code",
   "execution_count": 433,
   "metadata": {
    "ExecuteTime": {
     "end_time": "2022-03-22T21:25:08.031009Z",
     "start_time": "2022-03-22T21:25:07.993340Z"
    }
   },
   "outputs": [
    {
     "data": {
      "text/plain": [
       "array([[8263, 1695],\n",
       "       [3244, 2956]])"
      ]
     },
     "execution_count": 433,
     "metadata": {},
     "output_type": "execute_result"
    }
   ],
   "source": [
    "adaboost_confusion_matrix = confusion_matrix(y_test, adaboost_test_preds)\n",
    "adaboost_confusion_matrix"
   ]
  },
  {
   "cell_type": "code",
   "execution_count": 434,
   "metadata": {
    "ExecuteTime": {
     "end_time": "2022-03-22T21:25:10.083188Z",
     "start_time": "2022-03-22T21:25:10.055966Z"
    }
   },
   "outputs": [
    {
     "data": {
      "text/plain": [
       "array([[7996, 1962],\n",
       "       [3123, 3077]])"
      ]
     },
     "execution_count": 434,
     "metadata": {},
     "output_type": "execute_result"
    }
   ],
   "source": [
    "gbt_confusion_matrix = confusion_matrix(y_test, gbt_clf_test_preds)\n",
    "gbt_confusion_matrix"
   ]
  },
  {
   "cell_type": "markdown",
   "metadata": {},
   "source": [
    "## Analysis of df6 Gradient Boost Model:\n",
    "* The F1-Score is improved from prior models.\n",
    "    * F1 Score tracking:\n",
    "        * Best Logistic Regression: 0.43\n",
    "        * Best KNN: 0.38\n",
    "        * Initial Decision Tree: 0.44\n",
    "        * Improved Decision Tree: 0.31\n",
    "        * Bagged Tree: 0.37\n",
    "        * Random Forest: 0.19\n",
    "        * XG Boost: 0.46\n",
    "        * Altered XG Boost: 0.45\n",
    "        * Support Vector Machine: 0.34\n",
    "        * Gradient Boost: 0.46\n",
    "        * df6 Gradient Boost: 0.55\n",
    "* I don't know what else to try."
   ]
  },
  {
   "cell_type": "code",
   "execution_count": null,
   "metadata": {},
   "outputs": [],
   "source": []
  }
 ],
 "metadata": {
  "kernelspec": {
   "display_name": "Python (learn-env)",
   "language": "python",
   "name": "learn-env"
  },
  "language_info": {
   "codemirror_mode": {
    "name": "ipython",
    "version": 3
   },
   "file_extension": ".py",
   "mimetype": "text/x-python",
   "name": "python",
   "nbconvert_exporter": "python",
   "pygments_lexer": "ipython3",
   "version": "3.8.5"
  },
  "toc": {
   "base_numbering": 1,
   "nav_menu": {},
   "number_sections": true,
   "sideBar": true,
   "skip_h1_title": false,
   "title_cell": "Table of Contents",
   "title_sidebar": "Contents",
   "toc_cell": true,
   "toc_position": {
    "height": "calc(100% - 180px)",
    "left": "10px",
    "top": "150px",
    "width": "215.675px"
   },
   "toc_section_display": true,
   "toc_window_display": true
  }
 },
 "nbformat": 4,
 "nbformat_minor": 4
}
